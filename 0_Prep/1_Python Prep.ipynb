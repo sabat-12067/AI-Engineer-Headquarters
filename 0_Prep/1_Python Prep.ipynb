{
 "cells": [
  {
   "cell_type": "markdown",
   "id": "69812647-ecb1-4425-995d-0471e94271f3",
   "metadata": {},
   "source": [
    "# Python Basics\n",
    "\n",
    "- Foundation\n",
    "- Conditional Statements\n",
    "- While Loop\n",
    "- List\n",
    "- String"
   ]
  },
  {
   "cell_type": "code",
   "execution_count": null,
   "id": "bde687ea-6cf4-446f-9ba1-42f8390811b6",
   "metadata": {},
   "outputs": [],
   "source": []
  }
 ],
 "metadata": {
  "kernelspec": {
   "display_name": "Python 3 (ipykernel)",
   "language": "python",
   "name": "python3"
  },
  "language_info": {
   "codemirror_mode": {
    "name": "ipython",
    "version": 3
   },
   "file_extension": ".py",
   "mimetype": "text/x-python",
   "name": "python",
   "nbconvert_exporter": "python",
   "pygments_lexer": "ipython3",
   "version": "3.12.9"
  }
 },
 "nbformat": 4,
 "nbformat_minor": 5
}

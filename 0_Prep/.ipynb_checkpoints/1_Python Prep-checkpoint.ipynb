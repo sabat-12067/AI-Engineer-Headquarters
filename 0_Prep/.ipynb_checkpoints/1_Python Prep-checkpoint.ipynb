{
 "cells": [
  {
   "cell_type": "markdown",
   "id": "4e4da985-593d-4e7b-b4a7-4979eba6fbd2",
   "metadata": {},
   "source": [
    "1. anaconda download: https://www.anaconda.com/download/success\n",
    "\n",
    "2. install jupyter notebook in base environment of anaconda navigator\n",
    "\n",
    "3. run the code\n",
    "\n",
    "4. practice questions: https://www.youtube.com/watch?v=Ty5QAOCliQk&feature=youtu.be"
   ]
  },
  {
   "cell_type": "markdown",
   "id": "69812647-ecb1-4425-995d-0471e94271f3",
   "metadata": {},
   "source": [
    "# Python Basics\n",
    "\n",
    "- Foundation\n",
    "- Conditional Statements\n",
    "- While Loop, List, String\n",
    "- Questions\n",
    "- Git & GitHub"
   ]
  },
  {
   "cell_type": "code",
   "execution_count": 2,
   "id": "bde687ea-6cf4-446f-9ba1-42f8390811b6",
   "metadata": {},
   "outputs": [
    {
     "name": "stdout",
     "output_type": "stream",
     "text": [
      "Hello World\n"
     ]
    }
   ],
   "source": [
    "print(\"Hello World\")"
   ]
  },
  {
   "cell_type": "code",
   "execution_count": 3,
   "id": "b7457db3-24ec-422b-bf47-18d90b08bee4",
   "metadata": {},
   "outputs": [
    {
     "name": "stdout",
     "output_type": "stream",
     "text": [
      "Hello\n",
      "World\n"
     ]
    }
   ],
   "source": [
    "print(\"Hello\")\n",
    "print(\"World\")"
   ]
  },
  {
   "cell_type": "code",
   "execution_count": null,
   "id": "87ecc26a-374d-4b92-95d1-edea83e393e7",
   "metadata": {},
   "outputs": [],
   "source": [
    "0 - False\n",
    "1 - True"
   ]
  },
  {
   "cell_type": "code",
   "execution_count": null,
   "id": "a5e7b29e-22e6-4e02-acaa-7aaa32734130",
   "metadata": {},
   "outputs": [],
   "source": [
    "# c programming\n",
    "\n",
    "int a = 10;  # 2 bytes"
   ]
  },
  {
   "cell_type": "code",
   "execution_count": 4,
   "id": "e1590b78-7d70-4a8f-b71f-2c1f99b2cb5a",
   "metadata": {},
   "outputs": [
    {
     "name": "stdout",
     "output_type": "stream",
     "text": [
      "a\n",
      "10\n"
     ]
    }
   ],
   "source": [
    "# variables\n",
    "\n",
    "a = 10\n",
    "\n",
    "print(\"a\")\n",
    "\n",
    "print(a)"
   ]
  },
  {
   "cell_type": "code",
   "execution_count": 5,
   "id": "5acaa41a-7cc0-4187-a1b0-c8481befecbf",
   "metadata": {},
   "outputs": [
    {
     "name": "stdout",
     "output_type": "stream",
     "text": [
      "<class 'int'>\n"
     ]
    }
   ],
   "source": [
    "print(type(a))"
   ]
  },
  {
   "cell_type": "code",
   "execution_count": 6,
   "id": "69663f98-962f-4d4c-9a69-49209f6b3d8c",
   "metadata": {},
   "outputs": [
    {
     "name": "stdout",
     "output_type": "stream",
     "text": [
      "10.5\n",
      "<class 'float'>\n"
     ]
    }
   ],
   "source": [
    "b = 10.5\n",
    "\n",
    "print(b)\n",
    "\n",
    "print(type(b))"
   ]
  },
  {
   "cell_type": "code",
   "execution_count": 7,
   "id": "f60adfb2-b979-4364-8eaa-7bc3a2dce339",
   "metadata": {},
   "outputs": [
    {
     "name": "stdin",
     "output_type": "stream",
     "text": [
      "Enter your name:  Himanshu\n"
     ]
    },
    {
     "name": "stdout",
     "output_type": "stream",
     "text": [
      "Himanshu\n"
     ]
    }
   ],
   "source": [
    "a = input(\"Enter your name: \")\n",
    "\n",
    "print(a)"
   ]
  },
  {
   "cell_type": "code",
   "execution_count": 8,
   "id": "8c6e43b4-32c7-4e5f-b2f6-293c5cae5fdb",
   "metadata": {},
   "outputs": [
    {
     "name": "stdin",
     "output_type": "stream",
     "text": [
      "Enter your name:  Himanshu\n"
     ]
    },
    {
     "name": "stdout",
     "output_type": "stream",
     "text": [
      "Hi Himanshu\n"
     ]
    }
   ],
   "source": [
    "a = input(\"Enter your name: \")\n",
    "\n",
    "print(\"Hi\", a)"
   ]
  },
  {
   "cell_type": "code",
   "execution_count": 9,
   "id": "5ab1126c-dfd0-4592-a387-dede18397e32",
   "metadata": {},
   "outputs": [
    {
     "name": "stdout",
     "output_type": "stream",
     "text": [
      "Hello\n"
     ]
    }
   ],
   "source": [
    "# conditional statement\n",
    "\n",
    "a = 15\n",
    "\n",
    "if a > 10:\n",
    "    print(\"Hello\")\n"
   ]
  },
  {
   "cell_type": "code",
   "execution_count": 10,
   "id": "28f59b23-f674-4f2a-ba90-6f98f96992c0",
   "metadata": {},
   "outputs": [],
   "source": [
    "a = 15\n",
    "\n",
    "if a > 100:\n",
    "    print(\"Hello\")\n"
   ]
  },
  {
   "cell_type": "code",
   "execution_count": 12,
   "id": "5b6d998f-ec5a-432e-81ae-0ad110995a4c",
   "metadata": {},
   "outputs": [
    {
     "name": "stdout",
     "output_type": "stream",
     "text": [
      "Bye\n"
     ]
    }
   ],
   "source": [
    "a = 15\n",
    "\n",
    "if a > 100:\n",
    "    print(\"Hello\")\n",
    "else:\n",
    "    print(\"Bye\")"
   ]
  },
  {
   "cell_type": "code",
   "execution_count": 13,
   "id": "287ebddb-73e7-4238-8836-232426ae17f1",
   "metadata": {},
   "outputs": [
    {
     "name": "stdout",
     "output_type": "stream",
     "text": [
      "Take your money!\n"
     ]
    }
   ],
   "source": [
    "pin = 1234\n",
    "\n",
    "if pin == 1234:\n",
    "    print(\"Take your money!\")\n",
    "else:\n",
    "    print(\"Incorrect Pin\")"
   ]
  },
  {
   "cell_type": "code",
   "execution_count": 16,
   "id": "f5355b9b-f5ad-44b4-94be-e020b7a33282",
   "metadata": {},
   "outputs": [
    {
     "name": "stdin",
     "output_type": "stream",
     "text": [
      "Enter pin:  my name is himanshu\n"
     ]
    },
    {
     "ename": "ValueError",
     "evalue": "invalid literal for int() with base 10: 'my name is himanshu'",
     "output_type": "error",
     "traceback": [
      "\u001b[31m---------------------------------------------------------------------------\u001b[39m",
      "\u001b[31mValueError\u001b[39m                                Traceback (most recent call last)",
      "\u001b[36mCell\u001b[39m\u001b[36m \u001b[39m\u001b[32mIn[16]\u001b[39m\u001b[32m, line 1\u001b[39m\n\u001b[32m----> \u001b[39m\u001b[32m1\u001b[39m pin = \u001b[38;5;28mint\u001b[39m(\u001b[38;5;28minput\u001b[39m(\u001b[33m\"\u001b[39m\u001b[33mEnter pin: \u001b[39m\u001b[33m\"\u001b[39m))\n\u001b[32m      3\u001b[39m \u001b[38;5;28;01mif\u001b[39;00m pin == \u001b[32m1234\u001b[39m:\n\u001b[32m      4\u001b[39m     \u001b[38;5;28mprint\u001b[39m(\u001b[33m\"\u001b[39m\u001b[33mTake your money!\u001b[39m\u001b[33m\"\u001b[39m)\n",
      "\u001b[31mValueError\u001b[39m: invalid literal for int() with base 10: 'my name is himanshu'"
     ]
    }
   ],
   "source": [
    "pin = int(input(\"Enter pin: \"))\n",
    "\n",
    "if pin == 1234:\n",
    "    print(\"Take your money!\")\n",
    "else:\n",
    "    print(\"Incorrect Pin\")"
   ]
  },
  {
   "cell_type": "code",
   "execution_count": 18,
   "id": "d19a9739-37eb-450a-a2e5-e0ce85a10086",
   "metadata": {},
   "outputs": [
    {
     "name": "stdin",
     "output_type": "stream",
     "text": [
      "Enter pin:  himanshu\n"
     ]
    },
    {
     "name": "stdout",
     "output_type": "stream",
     "text": [
      "Please enter your pin in numerical format\n"
     ]
    }
   ],
   "source": [
    "try:\n",
    "    pin = int(input(\"Enter pin: \"))\n",
    "\n",
    "    if pin == 1234:\n",
    "        print(\"Take your money!\")\n",
    "    else:\n",
    "        print(\"Incorrect Pin\")\n",
    "except ValueError:\n",
    "    print(\"Please enter your pin in numerical format\")"
   ]
  },
  {
   "cell_type": "code",
   "execution_count": 22,
   "id": "4d55cb61-1169-46b8-ad05-f09956857cf9",
   "metadata": {},
   "outputs": [
    {
     "name": "stdin",
     "output_type": "stream",
     "text": [
      "Enter pin:  himanshu\n"
     ]
    },
    {
     "name": "stdout",
     "output_type": "stream",
     "text": [
      "Please enter your pin in numerical format\n"
     ]
    },
    {
     "name": "stdin",
     "output_type": "stream",
     "text": [
      "Enter pin:  indire\n"
     ]
    },
    {
     "name": "stdout",
     "output_type": "stream",
     "text": [
      "Please enter your pin in numerical format\n"
     ]
    },
    {
     "name": "stdin",
     "output_type": "stream",
     "text": [
      "Enter pin:  100\n"
     ]
    },
    {
     "name": "stdout",
     "output_type": "stream",
     "text": [
      "Incorrect Pin\n"
     ]
    },
    {
     "name": "stdin",
     "output_type": "stream",
     "text": [
      "Enter pin:  1234\n"
     ]
    },
    {
     "name": "stdout",
     "output_type": "stream",
     "text": [
      "Take your money!\n"
     ]
    }
   ],
   "source": [
    "while True:\n",
    "    try:\n",
    "        pin = int(input(\"Enter pin: \"))\n",
    "    \n",
    "        if pin == 1234:\n",
    "            print(\"Take your money!\")\n",
    "            break\n",
    "        else:\n",
    "            print(\"Incorrect Pin\")\n",
    "    except ValueError:\n",
    "        print(\"Please enter your pin in numerical format\")"
   ]
  },
  {
   "cell_type": "code",
   "execution_count": 24,
   "id": "016252c1-39d7-4bc5-a600-8c2a5d5aa5b2",
   "metadata": {},
   "outputs": [
    {
     "name": "stdin",
     "output_type": "stream",
     "text": [
      "Enter pin:  him\n"
     ]
    },
    {
     "ename": "TypeError",
     "evalue": "",
     "output_type": "error",
     "traceback": [
      "\u001b[31m---------------------------------------------------------------------------\u001b[39m",
      "\u001b[31mValueError\u001b[39m                                Traceback (most recent call last)",
      "\u001b[36mCell\u001b[39m\u001b[36m \u001b[39m\u001b[32mIn[24]\u001b[39m\u001b[32m, line 2\u001b[39m\n\u001b[32m      1\u001b[39m \u001b[38;5;28;01mtry\u001b[39;00m:\n\u001b[32m----> \u001b[39m\u001b[32m2\u001b[39m     pin = \u001b[38;5;28mint\u001b[39m(\u001b[38;5;28minput\u001b[39m(\u001b[33m\"\u001b[39m\u001b[33mEnter pin: \u001b[39m\u001b[33m\"\u001b[39m))\n\u001b[32m      4\u001b[39m     \u001b[38;5;28;01mif\u001b[39;00m pin == \u001b[32m1234\u001b[39m:\n",
      "\u001b[31mValueError\u001b[39m: invalid literal for int() with base 10: 'him'",
      "\nDuring handling of the above exception, another exception occurred:\n",
      "\u001b[31mTypeError\u001b[39m                                 Traceback (most recent call last)",
      "\u001b[36mCell\u001b[39m\u001b[36m \u001b[39m\u001b[32mIn[24]\u001b[39m\u001b[32m, line 9\u001b[39m\n\u001b[32m      7\u001b[39m         \u001b[38;5;28mprint\u001b[39m(\u001b[33m\"\u001b[39m\u001b[33mIncorrect Pin\u001b[39m\u001b[33m\"\u001b[39m)\n\u001b[32m      8\u001b[39m \u001b[38;5;28;01mexcept\u001b[39;00m (\u001b[38;5;167;01mValueError\u001b[39;00m, \u001b[38;5;167;01mNameError\u001b[39;00m):\n\u001b[32m----> \u001b[39m\u001b[32m9\u001b[39m     \u001b[38;5;28;01mraise\u001b[39;00m \u001b[38;5;167;01mTypeError\u001b[39;00m\n\u001b[32m     10\u001b[39m     \u001b[38;5;28mprint\u001b[39m(\u001b[33m\"\u001b[39m\u001b[33mPlease enter your pin in numerical format\u001b[39m\u001b[33m\"\u001b[39m)\n\u001b[32m     11\u001b[39m \u001b[38;5;28;01mexcept\u001b[39;00m \u001b[38;5;167;01mTypeError\u001b[39;00m:\n",
      "\u001b[31mTypeError\u001b[39m: "
     ]
    }
   ],
   "source": [
    "try:\n",
    "    pin = int(input(\"Enter pin: \"))\n",
    "\n",
    "    if pin == 1234:\n",
    "        print(\"Take your money!\")\n",
    "    else:\n",
    "        print(\"Incorrect Pin\")\n",
    "except (ValueError, NameError):\n",
    "    raise TypeError\n",
    "    print(\"Please enter your pin in numerical format\")\n",
    "except TypeError:\n",
    "    print(\"This is a type error\")\n",
    "except:\n",
    "    print(\"Exception occured\")"
   ]
  },
  {
   "cell_type": "code",
   "execution_count": 25,
   "id": "b16d6def-099d-42e5-aff9-c4800df9a373",
   "metadata": {},
   "outputs": [
    {
     "name": "stdout",
     "output_type": "stream",
     "text": [
      "Himanshu\n"
     ]
    }
   ],
   "source": [
    "## while loop\n",
    "\n",
    "print(\"Himanshu\")"
   ]
  },
  {
   "cell_type": "code",
   "execution_count": 26,
   "id": "12c11b8a-166e-42e0-8c6b-3250181bc62e",
   "metadata": {},
   "outputs": [
    {
     "name": "stdout",
     "output_type": "stream",
     "text": [
      "False\n"
     ]
    }
   ],
   "source": [
    "i = 10\n",
    "\n",
    "print(i > 10)"
   ]
  },
  {
   "cell_type": "code",
   "execution_count": 27,
   "id": "daf869c1-b731-4875-96b2-e1c8fa940bad",
   "metadata": {},
   "outputs": [
    {
     "name": "stdout",
     "output_type": "stream",
     "text": [
      "Himanshu\n",
      "Himanshu\n",
      "Himanshu\n",
      "Himanshu\n",
      "Himanshu\n",
      "Himanshu\n",
      "Himanshu\n",
      "Himanshu\n",
      "Himanshu\n",
      "Himanshu\n"
     ]
    }
   ],
   "source": [
    "i = 1\n",
    "\n",
    "while i <= 10:\n",
    "    print(\"Himanshu\")\n",
    "    i = i + 1"
   ]
  },
  {
   "cell_type": "code",
   "execution_count": 28,
   "id": "97c374b4-e960-4c33-bd8a-27fd3f9ec0b4",
   "metadata": {},
   "outputs": [
    {
     "name": "stdout",
     "output_type": "stream",
     "text": [
      "1\n",
      "2\n",
      "3\n",
      "4\n",
      "5\n",
      "6\n",
      "7\n",
      "8\n",
      "9\n",
      "10\n"
     ]
    }
   ],
   "source": [
    "i = 1\n",
    "\n",
    "while i <= 10:\n",
    "    print(i)\n",
    "    i = i + 1"
   ]
  },
  {
   "cell_type": "code",
   "execution_count": null,
   "id": "c534d7b2-7678-4dbc-a6b6-4b7ad4c7e167",
   "metadata": {},
   "outputs": [],
   "source": [
    "\\n - new line character\n"
   ]
  },
  {
   "cell_type": "code",
   "execution_count": 29,
   "id": "cfa7126e-6842-4552-ab0a-6dc122effdab",
   "metadata": {},
   "outputs": [
    {
     "name": "stdout",
     "output_type": "stream",
     "text": [
      "Hello\n",
      "World\n"
     ]
    }
   ],
   "source": [
    "print(\"Hello\", end=\"\\n\")\n",
    "print(\"World\")"
   ]
  },
  {
   "cell_type": "code",
   "execution_count": 30,
   "id": "236bff6b-eb85-4056-a361-00aa2e627486",
   "metadata": {},
   "outputs": [
    {
     "name": "stdout",
     "output_type": "stream",
     "text": [
      "Hello++World\n"
     ]
    }
   ],
   "source": [
    "print(\"Hello\", end=\"++\")\n",
    "print(\"World\")"
   ]
  },
  {
   "cell_type": "code",
   "execution_count": 31,
   "id": "5957206c-60e1-4866-b5a3-4817c32f31cd",
   "metadata": {},
   "outputs": [
    {
     "name": "stdout",
     "output_type": "stream",
     "text": [
      "Hello World\n"
     ]
    }
   ],
   "source": [
    "print(\"Hello\", end=\" \")\n",
    "print(\"World\")"
   ]
  },
  {
   "cell_type": "code",
   "execution_count": 32,
   "id": "496dd97b-53f6-4e38-8581-13123d66c540",
   "metadata": {},
   "outputs": [
    {
     "name": "stdout",
     "output_type": "stream",
     "text": [
      "HelloWorld\n"
     ]
    }
   ],
   "source": [
    "print(\"Hello\", end=\"\")\n",
    "print(\"World\")"
   ]
  },
  {
   "cell_type": "code",
   "execution_count": 33,
   "id": "945371e6-65c5-4413-ba31-607e2aee8a88",
   "metadata": {},
   "outputs": [
    {
     "name": "stdout",
     "output_type": "stream",
     "text": [
      "1  2  3  4  5  6  7  8  9  10  "
     ]
    }
   ],
   "source": [
    "i = 1\n",
    "\n",
    "while i <= 10:\n",
    "    print(i, end=\"  \")\n",
    "    i = i + 1"
   ]
  },
  {
   "cell_type": "code",
   "execution_count": null,
   "id": "76d4bfda-a96d-48dc-b33a-14c1e9601084",
   "metadata": {},
   "outputs": [],
   "source": [
    "1 4 9 16 25 36 49 64 81 100"
   ]
  },
  {
   "cell_type": "markdown",
   "id": "dd74596a-9486-4823-aa0a-8f701bd1ce94",
   "metadata": {},
   "source": [
    "# List"
   ]
  },
  {
   "cell_type": "code",
   "execution_count": null,
   "id": "c381b6c5-061c-48f6-bd5f-cd4df9fe67f2",
   "metadata": {},
   "outputs": [],
   "source": [
    "array\n",
    "\n",
    "memory allocation is continuous\n",
    "\n",
    "2011 2013 2015 ....."
   ]
  },
  {
   "cell_type": "code",
   "execution_count": null,
   "id": "541c8207-b3e6-4964-b303-683228380dfb",
   "metadata": {},
   "outputs": [],
   "source": [
    "list\n",
    "\n",
    "memory allocation is not continuous\n",
    "\n",
    "all the values can be of different type\n",
    "\n",
    "int, float, str, int ....."
   ]
  },
  {
   "cell_type": "code",
   "execution_count": 34,
   "id": "7051c1bd-1917-40e2-954f-5c0d47e7d413",
   "metadata": {},
   "outputs": [
    {
     "name": "stdout",
     "output_type": "stream",
     "text": [
      "[10, 20.4, 'Indore', 'A']\n",
      "10\n"
     ]
    }
   ],
   "source": [
    "\n",
    "#    -4   -3     -2      -1\n",
    "l = [10, 20.4, \"Indore\", \"A\"]\n",
    "#    0    1       2       3\n",
    "\n",
    "print(l)\n",
    "\n",
    "print(l[0])"
   ]
  },
  {
   "cell_type": "code",
   "execution_count": 35,
   "id": "02d790d0-bfbe-4955-aebb-240308d5658e",
   "metadata": {},
   "outputs": [
    {
     "name": "stdout",
     "output_type": "stream",
     "text": [
      "A\n"
     ]
    }
   ],
   "source": [
    "print(l[-1])"
   ]
  },
  {
   "cell_type": "code",
   "execution_count": 36,
   "id": "cdf225ce-f5e2-4e32-a7ef-f23dfdf52324",
   "metadata": {},
   "outputs": [
    {
     "name": "stdout",
     "output_type": "stream",
     "text": [
      "<class 'list'>\n"
     ]
    }
   ],
   "source": [
    "print(type(l))"
   ]
  },
  {
   "cell_type": "code",
   "execution_count": 37,
   "id": "5114d483-84d6-4c60-ac2e-ccb52eda7c73",
   "metadata": {},
   "outputs": [
    {
     "name": "stdout",
     "output_type": "stream",
     "text": [
      "<class 'int'>\n"
     ]
    }
   ],
   "source": [
    "print(type(l[0]))"
   ]
  },
  {
   "cell_type": "code",
   "execution_count": 38,
   "id": "05a8a0c7-0c96-4310-bbca-6d85edeb8d49",
   "metadata": {},
   "outputs": [
    {
     "name": "stdout",
     "output_type": "stream",
     "text": [
      "<class 'str'>\n"
     ]
    }
   ],
   "source": [
    "print(type(l[-2]))"
   ]
  },
  {
   "cell_type": "markdown",
   "id": "22ce2732-6741-4818-b760-d3516e095434",
   "metadata": {},
   "source": [
    "# string"
   ]
  },
  {
   "cell_type": "code",
   "execution_count": 39,
   "id": "d72a7692-c96d-467c-a7b6-a1b73905e3f3",
   "metadata": {},
   "outputs": [
    {
     "name": "stdout",
     "output_type": "stream",
     "text": [
      "Indore\n",
      "I\n",
      "<class 'str'>\n"
     ]
    }
   ],
   "source": [
    "#.        -1\n",
    "s = \"Indore\"\n",
    "#    012345   \n",
    "\n",
    "print(s)\n",
    "\n",
    "print(s[0])\n",
    "\n",
    "print(type(s))"
   ]
  },
  {
   "cell_type": "code",
   "execution_count": null,
   "id": "c4d8dc49-1aca-4d71-b8ed-9907b7560acb",
   "metadata": {},
   "outputs": [],
   "source": []
  }
 ],
 "metadata": {
  "kernelspec": {
   "display_name": "Python 3 (ipykernel)",
   "language": "python",
   "name": "python3"
  },
  "language_info": {
   "codemirror_mode": {
    "name": "ipython",
    "version": 3
   },
   "file_extension": ".py",
   "mimetype": "text/x-python",
   "name": "python",
   "nbconvert_exporter": "python",
   "pygments_lexer": "ipython3",
   "version": "3.12.9"
  }
 },
 "nbformat": 4,
 "nbformat_minor": 5
}

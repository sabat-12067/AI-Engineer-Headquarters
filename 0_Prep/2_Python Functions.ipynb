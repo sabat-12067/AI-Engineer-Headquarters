{
 "cells": [
  {
   "cell_type": "markdown",
   "id": "d5ff5a40-6bda-44a0-a7ef-34df0664d121",
   "metadata": {},
   "source": [
    "# Python \n",
    "\n",
    "- Python Functions\n",
    "- Git\n",
    "- environment"
   ]
  },
  {
   "cell_type": "code",
   "execution_count": 3,
   "id": "0e2566bd-53fd-4b32-bfff-3d5ade2523ba",
   "metadata": {},
   "outputs": [],
   "source": [
    "\n",
    "def myfunction():             # definition of function\n",
    "    print(\"Hey!!\")"
   ]
  },
  {
   "cell_type": "code",
   "execution_count": 5,
   "id": "818c9140-c243-40a1-b0f2-e958296c3198",
   "metadata": {},
   "outputs": [
    {
     "data": {
      "text/plain": [
       "<function __main__.myfunction()>"
      ]
     },
     "execution_count": 5,
     "metadata": {},
     "output_type": "execute_result"
    }
   ],
   "source": [
    "myfunction"
   ]
  },
  {
   "cell_type": "code",
   "execution_count": 9,
   "id": "8d9d4328-fb92-402c-b7e2-890b48dd4fd4",
   "metadata": {},
   "outputs": [
    {
     "name": "stdout",
     "output_type": "stream",
     "text": [
      "<class 'function'>\n"
     ]
    }
   ],
   "source": [
    "print(type(myfunction))"
   ]
  },
  {
   "cell_type": "code",
   "execution_count": 11,
   "id": "39b82e65-1a60-4c58-a75b-f53ae8111c97",
   "metadata": {},
   "outputs": [
    {
     "name": "stdout",
     "output_type": "stream",
     "text": [
      "Hey!!\n"
     ]
    }
   ],
   "source": [
    "myfunction()      ## calling a function"
   ]
  },
  {
   "cell_type": "code",
   "execution_count": 13,
   "id": "4c75fc45-c44c-4433-adf5-50d06309167a",
   "metadata": {},
   "outputs": [
    {
     "name": "stdout",
     "output_type": "stream",
     "text": [
      "Hey!!\n",
      "hello\n",
      "Hey!!\n"
     ]
    }
   ],
   "source": [
    "myfunction()\n",
    "print(\"hello\")\n",
    "myfunction()"
   ]
  },
  {
   "cell_type": "code",
   "execution_count": 15,
   "id": "c735ee5a-343a-4da2-a5fc-57a1231f2b25",
   "metadata": {},
   "outputs": [
    {
     "name": "stdout",
     "output_type": "stream",
     "text": [
      "1\n",
      "2\n",
      "3\n"
     ]
    }
   ],
   "source": [
    "def paint():\n",
    "    print(1)\n",
    "    print(2)\n",
    "    print(3)\n",
    "\n",
    "paint()"
   ]
  },
  {
   "cell_type": "code",
   "execution_count": 17,
   "id": "5d79cf03-cd9e-4842-be35-482c59e0e96d",
   "metadata": {},
   "outputs": [
    {
     "ename": "NameError",
     "evalue": "name 'hello' is not defined",
     "output_type": "error",
     "traceback": [
      "\u001b[31m---------------------------------------------------------------------------\u001b[39m",
      "\u001b[31mNameError\u001b[39m                                 Traceback (most recent call last)",
      "\u001b[36mCell\u001b[39m\u001b[36m \u001b[39m\u001b[32mIn[17]\u001b[39m\u001b[32m, line 1\u001b[39m\n\u001b[32m----> \u001b[39m\u001b[32m1\u001b[39m hello()\n\u001b[32m      3\u001b[39m \u001b[38;5;28;01mdef\u001b[39;00m \u001b[34mhello\u001b[39m():\n\u001b[32m      4\u001b[39m     \u001b[38;5;28mprint\u001b[39m(\u001b[33m\"\u001b[39m\u001b[33mHello\u001b[39m\u001b[33m\"\u001b[39m)\n",
      "\u001b[31mNameError\u001b[39m: name 'hello' is not defined"
     ]
    }
   ],
   "source": [
    "\n",
    "hello()\n",
    "\n",
    "def hello():\n",
    "    print(\"Hello\")"
   ]
  },
  {
   "cell_type": "markdown",
   "id": "80da56db-2f70-4fb2-b02f-a16145267601",
   "metadata": {},
   "source": [
    "# function arguments"
   ]
  },
  {
   "cell_type": "code",
   "execution_count": 20,
   "id": "a6c634df-6a08-4f8c-b7c8-bd8e610d6b9a",
   "metadata": {},
   "outputs": [
    {
     "name": "stdout",
     "output_type": "stream",
     "text": [
      "10\n"
     ]
    }
   ],
   "source": [
    "def indore(a):     # a = 10, a = \"goa\"\n",
    "    print(a)\n",
    "\n",
    "indore(10)"
   ]
  },
  {
   "cell_type": "code",
   "execution_count": 22,
   "id": "d2369638-fa23-4fea-a8e8-01b04cab2e9c",
   "metadata": {},
   "outputs": [
    {
     "name": "stdout",
     "output_type": "stream",
     "text": [
      "goa\n"
     ]
    }
   ],
   "source": [
    "indore(\"goa\")"
   ]
  },
  {
   "cell_type": "code",
   "execution_count": 24,
   "id": "b0cbe6ed-00ef-41eb-ae45-2051fc59ecee",
   "metadata": {},
   "outputs": [
    {
     "ename": "NameError",
     "evalue": "name 'a' is not defined",
     "output_type": "error",
     "traceback": [
      "\u001b[31m---------------------------------------------------------------------------\u001b[39m",
      "\u001b[31mNameError\u001b[39m                                 Traceback (most recent call last)",
      "\u001b[36mCell\u001b[39m\u001b[36m \u001b[39m\u001b[32mIn[24]\u001b[39m\u001b[32m, line 1\u001b[39m\n\u001b[32m----> \u001b[39m\u001b[32m1\u001b[39m \u001b[38;5;28mprint\u001b[39m(a)\n",
      "\u001b[31mNameError\u001b[39m: name 'a' is not defined"
     ]
    }
   ],
   "source": [
    "print(a)"
   ]
  },
  {
   "cell_type": "code",
   "execution_count": 26,
   "id": "ac22f3e6-c2df-4c09-a118-6a37a5dd349b",
   "metadata": {},
   "outputs": [
    {
     "ename": "TypeError",
     "evalue": "indore() missing 1 required positional argument: 'a'",
     "output_type": "error",
     "traceback": [
      "\u001b[31m---------------------------------------------------------------------------\u001b[39m",
      "\u001b[31mTypeError\u001b[39m                                 Traceback (most recent call last)",
      "\u001b[36mCell\u001b[39m\u001b[36m \u001b[39m\u001b[32mIn[26]\u001b[39m\u001b[32m, line 1\u001b[39m\n\u001b[32m----> \u001b[39m\u001b[32m1\u001b[39m indore()\n",
      "\u001b[31mTypeError\u001b[39m: indore() missing 1 required positional argument: 'a'"
     ]
    }
   ],
   "source": [
    "indore()"
   ]
  },
  {
   "cell_type": "code",
   "execution_count": 28,
   "id": "88dcd7aa-eef6-4a7b-8432-3fdf885dc8a6",
   "metadata": {},
   "outputs": [
    {
     "ename": "TypeError",
     "evalue": "indore() takes 1 positional argument but 2 were given",
     "output_type": "error",
     "traceback": [
      "\u001b[31m---------------------------------------------------------------------------\u001b[39m",
      "\u001b[31mTypeError\u001b[39m                                 Traceback (most recent call last)",
      "\u001b[36mCell\u001b[39m\u001b[36m \u001b[39m\u001b[32mIn[28]\u001b[39m\u001b[32m, line 1\u001b[39m\n\u001b[32m----> \u001b[39m\u001b[32m1\u001b[39m indore(\u001b[32m10\u001b[39m,\u001b[32m20\u001b[39m)\n",
      "\u001b[31mTypeError\u001b[39m: indore() takes 1 positional argument but 2 were given"
     ]
    }
   ],
   "source": [
    "indore(10,20)"
   ]
  },
  {
   "cell_type": "code",
   "execution_count": 30,
   "id": "6ddc93e1-8d64-40fb-ae13-6d6e0a564e71",
   "metadata": {},
   "outputs": [
    {
     "name": "stdout",
     "output_type": "stream",
     "text": [
      "5\n",
      "4\n",
      "9\n"
     ]
    }
   ],
   "source": [
    "def add(x,y):\n",
    "    print(x)\n",
    "    print(y)\n",
    "    print(x + y)\n",
    "\n",
    "add(5,4)"
   ]
  },
  {
   "cell_type": "code",
   "execution_count": 32,
   "id": "8b4b08fb-8fed-4b81-94b3-5df05f8bbe42",
   "metadata": {},
   "outputs": [
    {
     "name": "stdout",
     "output_type": "stream",
     "text": [
      "8\n"
     ]
    },
    {
     "ename": "NameError",
     "evalue": "name 'v' is not defined",
     "output_type": "error",
     "traceback": [
      "\u001b[31m---------------------------------------------------------------------------\u001b[39m",
      "\u001b[31mNameError\u001b[39m                                 Traceback (most recent call last)",
      "\u001b[36mCell\u001b[39m\u001b[36m \u001b[39m\u001b[32mIn[32]\u001b[39m\u001b[32m, line 6\u001b[39m\n\u001b[32m      3\u001b[39m     \u001b[38;5;28mprint\u001b[39m(v)\n\u001b[32m      5\u001b[39m add1(\u001b[32m7\u001b[39m)\n\u001b[32m----> \u001b[39m\u001b[32m6\u001b[39m \u001b[38;5;28mprint\u001b[39m(v)\n",
      "\u001b[31mNameError\u001b[39m: name 'v' is not defined"
     ]
    }
   ],
   "source": [
    "def add1(v):         # v is a local variable\n",
    "    v = v + 1\n",
    "    print(v)\n",
    "\n",
    "add1(7)\n",
    "print(v)"
   ]
  },
  {
   "cell_type": "code",
   "execution_count": 34,
   "id": "d14a4b58-484f-40e7-a662-68e12b6c15e6",
   "metadata": {},
   "outputs": [
    {
     "name": "stdout",
     "output_type": "stream",
     "text": [
      "8\n",
      "3\n"
     ]
    }
   ],
   "source": [
    "\n",
    "x = 3                    # x is a global variable\n",
    "\n",
    "def add1(x):             # x is a local variable\n",
    "    x = x + 1\n",
    "    print(x)\n",
    "\n",
    "add1(7)\n",
    "print(x)"
   ]
  },
  {
   "cell_type": "markdown",
   "id": "ef61a9ed-4a2e-4749-aef9-aa5419197c48",
   "metadata": {},
   "source": [
    "## return statement"
   ]
  },
  {
   "cell_type": "code",
   "execution_count": 37,
   "id": "28281098-7d61-4e13-bcbe-15cfd4cd82c6",
   "metadata": {},
   "outputs": [
    {
     "name": "stdout",
     "output_type": "stream",
     "text": [
      "6\n"
     ]
    }
   ],
   "source": [
    "s = \"indore\"\n",
    "\n",
    "x = len(s)\n",
    "#x = 6\n",
    "\n",
    "print(x)"
   ]
  },
  {
   "cell_type": "code",
   "execution_count": 39,
   "id": "85b56724-a8ff-4702-af90-d9ff11de49c1",
   "metadata": {},
   "outputs": [
    {
     "name": "stdout",
     "output_type": "stream",
     "text": [
      "10\n"
     ]
    }
   ],
   "source": [
    "def play(x,y):\n",
    "    if x >= y:\n",
    "        return x\n",
    "    else:\n",
    "        return y\n",
    "\n",
    "print(play(10,5))\n",
    "#        10"
   ]
  },
  {
   "cell_type": "code",
   "execution_count": 41,
   "id": "a88cddad-96c8-4eb9-bbfd-8d239fc8ede2",
   "metadata": {},
   "outputs": [
    {
     "name": "stdout",
     "output_type": "stream",
     "text": [
      "20\n"
     ]
    }
   ],
   "source": [
    "print(play(15,20))\n",
    "#        20"
   ]
  },
  {
   "cell_type": "code",
   "execution_count": 43,
   "id": "369d2d15-fa9d-4537-819a-c27088d0d16d",
   "metadata": {},
   "outputs": [
    {
     "name": "stdout",
     "output_type": "stream",
     "text": [
      "6\n"
     ]
    }
   ],
   "source": [
    "print(x)"
   ]
  },
  {
   "cell_type": "code",
   "execution_count": 45,
   "id": "e72f584f-4893-4158-866c-6f3000d985c1",
   "metadata": {},
   "outputs": [
    {
     "name": "stdout",
     "output_type": "stream",
     "text": [
      "21\n"
     ]
    }
   ],
   "source": [
    "z = play(13,21)\n",
    "\n",
    "print(z)"
   ]
  },
  {
   "cell_type": "code",
   "execution_count": 47,
   "id": "739a173a-97e6-4cbd-94d8-b669e91c5f5b",
   "metadata": {},
   "outputs": [
    {
     "name": "stdout",
     "output_type": "stream",
     "text": [
      "9\n"
     ]
    }
   ],
   "source": [
    "def sub(x, y):\n",
    "    t = x + y\n",
    "    return t\n",
    "    print(\"Hello\")\n",
    "\n",
    "print(sub(4,5))"
   ]
  },
  {
   "cell_type": "code",
   "execution_count": 49,
   "id": "ab839255-51e6-4f13-8e28-867e7c4f8e4e",
   "metadata": {},
   "outputs": [],
   "source": [
    "def pre():\n",
    "    print(1)\n",
    "    print(2)\n",
    "    return\n",
    "    print(3)\n",
    "    print(4)"
   ]
  },
  {
   "cell_type": "code",
   "execution_count": 51,
   "id": "343a727c-07bf-47e9-8aa8-13b1cbda4009",
   "metadata": {},
   "outputs": [
    {
     "name": "stdout",
     "output_type": "stream",
     "text": [
      "1\n",
      "2\n"
     ]
    }
   ],
   "source": [
    "pre()"
   ]
  },
  {
   "cell_type": "code",
   "execution_count": 53,
   "id": "b463b127-7733-426b-a281-c9b2cc8c2599",
   "metadata": {},
   "outputs": [
    {
     "name": "stdout",
     "output_type": "stream",
     "text": [
      "1\n",
      "2\n",
      "None\n"
     ]
    }
   ],
   "source": [
    "print(pre())"
   ]
  },
  {
   "cell_type": "code",
   "execution_count": null,
   "id": "aaa0a854-dc9a-4159-8c53-5bd7d519830e",
   "metadata": {},
   "outputs": [],
   "source": [
    "None -> NULL"
   ]
  },
  {
   "cell_type": "code",
   "execution_count": null,
   "id": "c18207e3-30f8-4154-aab1-e13a1b35b66c",
   "metadata": {},
   "outputs": [],
   "source": [
    "employee = None"
   ]
  },
  {
   "cell_type": "code",
   "execution_count": 55,
   "id": "7b8cd8f3-a18a-4d86-964a-59687c90d161",
   "metadata": {},
   "outputs": [
    {
     "name": "stdout",
     "output_type": "stream",
     "text": [
      "1\n",
      "2\n",
      "Hello\n",
      "None\n"
     ]
    }
   ],
   "source": [
    "f = pre()        # None\n",
    "print(\"Hello\")\n",
    "print(f)"
   ]
  },
  {
   "cell_type": "code",
   "execution_count": 57,
   "id": "fa3918f2-41b9-4771-a74b-c330ea895734",
   "metadata": {},
   "outputs": [
    {
     "name": "stdout",
     "output_type": "stream",
     "text": [
      "\n",
      "None\n"
     ]
    }
   ],
   "source": [
    "print(print())"
   ]
  },
  {
   "cell_type": "code",
   "execution_count": 59,
   "id": "3086165d-5ff9-4a7f-afe0-e959747c95ca",
   "metadata": {},
   "outputs": [
    {
     "name": "stdout",
     "output_type": "stream",
     "text": [
      "\n",
      "None\n"
     ]
    }
   ],
   "source": [
    "p = print()     # p = None\n",
    "\n",
    "print(p)"
   ]
  },
  {
   "cell_type": "markdown",
   "id": "3d3c8904-72af-45d4-ad21-88225ccf8801",
   "metadata": {},
   "source": [
    "## Default Arguments\n"
   ]
  },
  {
   "cell_type": "code",
   "execution_count": 62,
   "id": "2df3f02a-37ac-4748-a510-d5b803cfafef",
   "metadata": {},
   "outputs": [
    {
     "name": "stdout",
     "output_type": "stream",
     "text": [
      "Hello\n",
      "1\n"
     ]
    }
   ],
   "source": [
    "def say(msg, time = 1):\n",
    "    print(msg)\n",
    "    print(time)\n",
    "\n",
    "say(\"Hello\")"
   ]
  },
  {
   "cell_type": "code",
   "execution_count": 64,
   "id": "d3a0b752-a363-49b1-9519-c496a7ceb3fe",
   "metadata": {},
   "outputs": [
    {
     "name": "stdout",
     "output_type": "stream",
     "text": [
      "hello\n",
      "5\n"
     ]
    }
   ],
   "source": [
    "say(\"hello\", 5)"
   ]
  },
  {
   "cell_type": "code",
   "execution_count": 68,
   "id": "a164ec98-95c9-46e4-88ee-6f7927146c65",
   "metadata": {},
   "outputs": [
    {
     "name": "stdout",
     "output_type": "stream",
     "text": [
      "Hello\n",
      "5\n"
     ]
    }
   ],
   "source": [
    "def say(msg, time):\n",
    "    print(msg)\n",
    "    print(time)\n",
    "\n",
    "say(\"Hello\", 5)"
   ]
  },
  {
   "cell_type": "code",
   "execution_count": null,
   "id": "d9e836cc-7545-4111-9651-bf1420e94e84",
   "metadata": {},
   "outputs": [],
   "source": [
    "# time = 1\n",
    "\n",
    "def say(msg, time = 1):\n",
    "    print(msg)\n",
    "    print(time)\n",
    "\n",
    "say(\"Hello\")"
   ]
  },
  {
   "cell_type": "code",
   "execution_count": null,
   "id": "c5629332-71ce-4aab-876a-943e1eecedb7",
   "metadata": {},
   "outputs": [],
   "source": []
  },
  {
   "cell_type": "code",
   "execution_count": 77,
   "id": "867f65a1-7903-4119-8438-f6203b9b7acf",
   "metadata": {},
   "outputs": [],
   "source": [
    "def LinearRegression(test, train, temperature=5):\n",
    "    split = test * train\n",
    "    temperature = temperature + 10\n",
    "    return [split, temperature]"
   ]
  },
  {
   "cell_type": "code",
   "execution_count": 79,
   "id": "f1eb60da-a8cd-41c2-9205-0ed0184b834d",
   "metadata": {},
   "outputs": [
    {
     "name": "stdout",
     "output_type": "stream",
     "text": [
      "[200, 15]\n"
     ]
    }
   ],
   "source": [
    "print(LinearRegression(10,20))"
   ]
  },
  {
   "cell_type": "code",
   "execution_count": 81,
   "id": "a09768ce-8c79-488c-9c64-9b7b11d5befb",
   "metadata": {},
   "outputs": [
    {
     "ename": "SyntaxError",
     "evalue": "positional argument follows keyword argument (1467716807.py, line 1)",
     "output_type": "error",
     "traceback": [
      "  \u001b[36mCell\u001b[39m\u001b[36m \u001b[39m\u001b[32mIn[81]\u001b[39m\u001b[32m, line 1\u001b[39m\n\u001b[31m    \u001b[39m\u001b[31mprint(LinearRegression(train=50, test, temperature=13))\u001b[39m\n                                                         ^\n\u001b[31mSyntaxError\u001b[39m\u001b[31m:\u001b[39m positional argument follows keyword argument\n"
     ]
    }
   ],
   "source": [
    "print(LinearRegression(train=50, test, temperature=13))"
   ]
  },
  {
   "cell_type": "code",
   "execution_count": 83,
   "id": "7905f63a-434d-46d4-acc3-c46b4fe065ae",
   "metadata": {},
   "outputs": [
    {
     "name": "stdout",
     "output_type": "stream",
     "text": [
      "[1000, 23]\n"
     ]
    }
   ],
   "source": [
    "print(LinearRegression(20, train=50, temperature=13))"
   ]
  },
  {
   "cell_type": "code",
   "execution_count": null,
   "id": "91e68fb0-974c-4f1b-9d00-2bdcc49318bd",
   "metadata": {},
   "outputs": [],
   "source": [
    "bit > numbers > characters > instructions > function > class (may inside a class) > \n",
    "\n",
    "program (.py - modules) > package (folder) > library > framework > SaaS (software)"
   ]
  },
  {
   "cell_type": "code",
   "execution_count": null,
   "id": "4373dc06-df78-42b1-b7b3-eb6ea6d3cde6",
   "metadata": {},
   "outputs": [],
   "source": [
    "class Car:\n",
    "    name = None\n",
    "    age = \n",
    "    engine = \n",
    "    address = \n",
    "    price = \n",
    "\n",
    "    def EMI(years, downpayment):\n",
    "        pass\n"
   ]
  },
  {
   "cell_type": "code",
   "execution_count": null,
   "id": "cf39e476-ddcb-4db2-9a86-266e5e548fdb",
   "metadata": {},
   "outputs": [],
   "source": [
    "dheeraj = Car()\n",
    "\n",
    "dheeraj.name = \"Dheeraj Sharma\"\n",
    "dheeraj.EMI(10, 50000)"
   ]
  }
 ],
 "metadata": {
  "kernelspec": {
   "display_name": "Python [conda env:base]",
   "language": "python",
   "name": "conda-base-py"
  },
  "language_info": {
   "codemirror_mode": {
    "name": "ipython",
    "version": 3
   },
   "file_extension": ".py",
   "mimetype": "text/x-python",
   "name": "python",
   "nbconvert_exporter": "python",
   "pygments_lexer": "ipython3",
   "version": "3.12.9"
  }
 },
 "nbformat": 4,
 "nbformat_minor": 5
}

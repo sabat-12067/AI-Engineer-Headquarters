{
 "cells": [
  {
   "cell_type": "markdown",
   "id": "805afbf6-0668-4540-9f72-28154fa7b01e",
   "metadata": {},
   "source": [
    "# Conditional Statements\n",
    "\n",
    "- if\n",
    "- else\n",
    "- else if\n",
    "- Ternary Statement\n",
    "- Nested if and else\n",
    "- Questions"
   ]
  },
  {
   "cell_type": "code",
   "execution_count": null,
   "id": "9f640b02-b22c-47a3-800b-847972bd22da",
   "metadata": {},
   "outputs": [],
   "source": []
  },
  {
   "cell_type": "markdown",
   "id": "a6f47d94-7590-4582-adb4-bdf1f6295971",
   "metadata": {},
   "source": [
    "## if\n"
   ]
  },
  {
   "cell_type": "code",
   "execution_count": null,
   "id": "9cfa92e8-e82f-4f34-99e5-26f7f245018b",
   "metadata": {},
   "outputs": [],
   "source": [
    "## c programming\n",
    "\n",
    "if (condition)\n",
    "{\n",
    "    ## code\n",
    "}"
   ]
  },
  {
   "cell_type": "code",
   "execution_count": 19,
   "id": "77ea0825-dd9d-432c-9fd8-7cb16bd7b357",
   "metadata": {},
   "outputs": [
    {
     "name": "stdout",
     "output_type": "stream",
     "text": [
      "Him\n"
     ]
    }
   ],
   "source": [
    "a = 10\n",
    "\n",
    "if a > 5:\n",
    "    print(\"Him\")"
   ]
  },
  {
   "cell_type": "code",
   "execution_count": 21,
   "id": "95c1d75b-eef2-4571-9392-881d782ea353",
   "metadata": {},
   "outputs": [],
   "source": [
    "a = 10\n",
    "\n",
    "if a > 15:\n",
    "    print(\"Him\")\n"
   ]
  },
  {
   "cell_type": "code",
   "execution_count": 23,
   "id": "c1e9bfda-0546-488d-9932-fa81da8bd4ef",
   "metadata": {},
   "outputs": [
    {
     "name": "stdout",
     "output_type": "stream",
     "text": [
      "Him\n"
     ]
    }
   ],
   "source": [
    "a = 10\n",
    "\n",
    "if a == 10:\n",
    "    print(\"Him\")"
   ]
  },
  {
   "cell_type": "code",
   "execution_count": null,
   "id": "9fec28be-c81d-45ea-bf23-3967ab7b5016",
   "metadata": {},
   "outputs": [],
   "source": []
  },
  {
   "cell_type": "markdown",
   "id": "cd09191b-0a19-4036-aa09-d22b38e080e4",
   "metadata": {},
   "source": [
    "## else\n"
   ]
  },
  {
   "cell_type": "code",
   "execution_count": 25,
   "id": "374f4df8-905d-4ed7-94a1-0b16f5cbd276",
   "metadata": {},
   "outputs": [
    {
     "name": "stdout",
     "output_type": "stream",
     "text": [
      "Indore\n"
     ]
    }
   ],
   "source": [
    "a = 10\n",
    "\n",
    "if a > 5:\n",
    "    print(\"Indore\")\n",
    "else:\n",
    "    print(\"Goa\")"
   ]
  },
  {
   "cell_type": "code",
   "execution_count": 27,
   "id": "e70e6d5e-c635-4c3f-b5b7-06bc7625cef5",
   "metadata": {},
   "outputs": [
    {
     "name": "stdout",
     "output_type": "stream",
     "text": [
      "Goa\n"
     ]
    }
   ],
   "source": [
    "a = 10\n",
    "\n",
    "if a > 15:\n",
    "    print(\"Indore\")\n",
    "else:\n",
    "    print(\"Goa\")"
   ]
  },
  {
   "cell_type": "code",
   "execution_count": 29,
   "id": "d7369852-fcd2-4d01-b775-8e8b5f242e00",
   "metadata": {},
   "outputs": [
    {
     "ename": "SyntaxError",
     "evalue": "invalid syntax (4061035225.py, line 1)",
     "output_type": "error",
     "traceback": [
      "\u001b[0;36m  Cell \u001b[0;32mIn[29], line 1\u001b[0;36m\u001b[0m\n\u001b[0;31m    else:\u001b[0m\n\u001b[0m    ^\u001b[0m\n\u001b[0;31mSyntaxError\u001b[0m\u001b[0;31m:\u001b[0m invalid syntax\n"
     ]
    }
   ],
   "source": [
    "else:\n",
    "    print(\"Hi\")"
   ]
  },
  {
   "cell_type": "code",
   "execution_count": null,
   "id": "6226671a-dd2e-4d5f-87c1-86b3283a0aa4",
   "metadata": {},
   "outputs": [],
   "source": []
  },
  {
   "cell_type": "markdown",
   "id": "c339d656-9e32-40c6-bca5-eb3b1ec5c80d",
   "metadata": {},
   "source": [
    "## else if\n"
   ]
  },
  {
   "cell_type": "code",
   "execution_count": 31,
   "id": "165a7175-7316-4a28-a903-d29f3594581c",
   "metadata": {},
   "outputs": [
    {
     "name": "stdout",
     "output_type": "stream",
     "text": [
      "Indore\n"
     ]
    }
   ],
   "source": [
    "a = 10\n",
    "\n",
    "if a > 5:\n",
    "    print(\"Indore\")\n",
    "elif a == 11:\n",
    "    print(\"Goa\")\n",
    "else:\n",
    "    print(\"Bye\")"
   ]
  },
  {
   "cell_type": "code",
   "execution_count": 33,
   "id": "71851a02-eeea-4420-9fc1-b5e1d5086006",
   "metadata": {},
   "outputs": [
    {
     "name": "stdout",
     "output_type": "stream",
     "text": [
      "Indore\n"
     ]
    }
   ],
   "source": [
    "a = 10\n",
    "\n",
    "if a > 5:\n",
    "    print(\"Indore\")\n",
    "elif a == 10:\n",
    "    print(\"Goa\")\n",
    "else:\n",
    "    print(\"Bye\")"
   ]
  },
  {
   "cell_type": "code",
   "execution_count": 35,
   "id": "78887337-5830-400e-9821-2266f2668eba",
   "metadata": {},
   "outputs": [
    {
     "name": "stdout",
     "output_type": "stream",
     "text": [
      "Goa\n"
     ]
    }
   ],
   "source": [
    "a = 10\n",
    "\n",
    "if a > 15:\n",
    "    print(\"Indore\")\n",
    "elif a == 10:\n",
    "    print(\"Goa\")\n",
    "else:\n",
    "    print(\"Bye\")"
   ]
  },
  {
   "cell_type": "code",
   "execution_count": 37,
   "id": "3f60d4b6-fcaf-4a57-998b-8fb39726193c",
   "metadata": {},
   "outputs": [
    {
     "name": "stdout",
     "output_type": "stream",
     "text": [
      "Mumbai\n"
     ]
    }
   ],
   "source": [
    "a = 10\n",
    "\n",
    "if a > 15:\n",
    "    print(\"Indore\")\n",
    "elif a == 11:\n",
    "    print(\"Goa\")\n",
    "elif a == 10:\n",
    "    print(\"Mumbai\")\n",
    "else:\n",
    "    print(\"Bye\")"
   ]
  },
  {
   "cell_type": "code",
   "execution_count": 39,
   "id": "56f60acd-d9a2-46c8-8cf4-4104d8459a58",
   "metadata": {},
   "outputs": [
    {
     "name": "stdout",
     "output_type": "stream",
     "text": [
      "Bye\n"
     ]
    }
   ],
   "source": [
    "a = 2\n",
    "\n",
    "if a > 15:\n",
    "    print(\"Indore\")\n",
    "elif a == 11:\n",
    "    print(\"Goa\")\n",
    "elif a == 10:\n",
    "    print(\"Mumbai\")\n",
    "else:\n",
    "    print(\"Bye\")"
   ]
  },
  {
   "cell_type": "markdown",
   "id": "f8bbfd7e-1ba8-4b8a-abff-7b9d5cc95e92",
   "metadata": {},
   "source": [
    "## Ternary Statement\n"
   ]
  },
  {
   "cell_type": "code",
   "execution_count": null,
   "id": "812938f3-9f74-4efd-8c96-c60dc1b106d0",
   "metadata": {},
   "outputs": [],
   "source": [
    " ?  :   # ternary in javascript or java programming "
   ]
  },
  {
   "cell_type": "code",
   "execution_count": 41,
   "id": "82325e23-efe7-4ff4-bae7-c4d067d3dd73",
   "metadata": {},
   "outputs": [
    {
     "name": "stdout",
     "output_type": "stream",
     "text": [
      "45\n"
     ]
    }
   ],
   "source": [
    "a = 10\n",
    "\n",
    "b = 45 if a > 5 else 100\n",
    "\n",
    "print(b)"
   ]
  },
  {
   "cell_type": "code",
   "execution_count": 43,
   "id": "c0ba8b65-8793-453e-9a8f-388212e608ce",
   "metadata": {},
   "outputs": [
    {
     "name": "stdout",
     "output_type": "stream",
     "text": [
      "100\n"
     ]
    }
   ],
   "source": [
    "a = 10\n",
    "\n",
    "b = 45 if a > 15 else 100\n",
    "\n",
    "print(b)"
   ]
  },
  {
   "cell_type": "code",
   "execution_count": 45,
   "id": "a9e73276-93fd-4390-b2ac-bf71aea07602",
   "metadata": {},
   "outputs": [
    {
     "name": "stdout",
     "output_type": "stream",
     "text": [
      "Login\n"
     ]
    }
   ],
   "source": [
    "status = 200\n",
    "\n",
    "message = \"Login\" if status == 200 else \"Logout\"\n",
    "\n",
    "print(message)"
   ]
  },
  {
   "cell_type": "code",
   "execution_count": 49,
   "id": "9b4ba6b0-9db2-4d1a-8d01-d7a3e46b4a1e",
   "metadata": {},
   "outputs": [
    {
     "name": "stdout",
     "output_type": "stream",
     "text": [
      "Logout\n"
     ]
    }
   ],
   "source": [
    "status = 404\n",
    "\n",
    "message = \"Login\" if status == 200 else \"Logout\"\n",
    "\n",
    "## message = \"Logout\"\n",
    "\n",
    "print(message)"
   ]
  },
  {
   "cell_type": "markdown",
   "id": "f87bef3a-ff0f-4c92-95af-70396425f7d9",
   "metadata": {},
   "source": [
    "## Nested if and else\n"
   ]
  },
  {
   "cell_type": "code",
   "execution_count": 51,
   "id": "8b7cbeb1-e75d-4b86-9af8-98f5db78416a",
   "metadata": {},
   "outputs": [
    {
     "name": "stdout",
     "output_type": "stream",
     "text": [
      "1\n",
      "2\n"
     ]
    }
   ],
   "source": [
    "a = 10\n",
    "\n",
    "if a > 5:\n",
    "    print(1)\n",
    "    if a > 8:\n",
    "        print(2)\n",
    "    else:\n",
    "        print(3)\n",
    "else:\n",
    "    print(4)\n",
    "    if a == 10:\n",
    "        print(5)\n",
    "    else:\n",
    "        print(6)"
   ]
  },
  {
   "cell_type": "code",
   "execution_count": 53,
   "id": "d67d708f-6e53-49b5-8fbd-de34663eff3a",
   "metadata": {},
   "outputs": [
    {
     "name": "stdout",
     "output_type": "stream",
     "text": [
      "1\n",
      "3\n"
     ]
    }
   ],
   "source": [
    "a = 15\n",
    "\n",
    "if a > 5:\n",
    "    print(1)\n",
    "    if a < 8:\n",
    "        print(2)\n",
    "    else:\n",
    "        print(3)\n",
    "else:\n",
    "    print(4)\n",
    "    if a == 10:\n",
    "        print(5)\n",
    "    else:\n",
    "        print(6)"
   ]
  },
  {
   "cell_type": "code",
   "execution_count": 55,
   "id": "bdd18733-bd21-4e4d-a413-eb9fdeeb861a",
   "metadata": {},
   "outputs": [
    {
     "name": "stdout",
     "output_type": "stream",
     "text": [
      "4\n",
      "6\n"
     ]
    }
   ],
   "source": [
    "a = 2\n",
    "\n",
    "if a > 5:\n",
    "    print(1)\n",
    "    if a < 8:\n",
    "        print(2)\n",
    "    else:\n",
    "        print(3)\n",
    "else:\n",
    "    print(4)\n",
    "    if a == 10:\n",
    "        print(5)\n",
    "    else:\n",
    "        print(6)"
   ]
  },
  {
   "cell_type": "markdown",
   "id": "ab344103-6c3d-4cca-bb51-09eaae156acb",
   "metadata": {},
   "source": [
    "## Questions for Logic Building\n",
    "\n",
    "**Write a Program to enter a number from user and print its absolute value**"
   ]
  },
  {
   "cell_type": "code",
   "execution_count": null,
   "id": "e6f3df47-bf04-4082-8a63-4945eff592b6",
   "metadata": {},
   "outputs": [],
   "source": [
    "|2| = 2\n",
    "|-2| = 2"
   ]
  },
  {
   "cell_type": "code",
   "execution_count": null,
   "id": "7d34bf1a-5522-4c9b-8741-a4bebd0bac88",
   "metadata": {},
   "outputs": [],
   "source": [
    "\n",
    "_-3__-2__-1__.__1__2__3__\n",
    "           origin"
   ]
  },
  {
   "cell_type": "code",
   "execution_count": 59,
   "id": "310c561c-0656-4a73-9c8a-f6bd3c0b5478",
   "metadata": {},
   "outputs": [
    {
     "name": "stdin",
     "output_type": "stream",
     "text": [
      "Enter a number:  -7\n"
     ]
    },
    {
     "name": "stdout",
     "output_type": "stream",
     "text": [
      "7\n"
     ]
    }
   ],
   "source": [
    "a = int(input(\"Enter a number: \"))\n",
    "\n",
    "if a >= 0:\n",
    "    print(a)\n",
    "else:\n",
    "    print(a * (-1))"
   ]
  },
  {
   "cell_type": "code",
   "execution_count": 61,
   "id": "04aa86ed-4db3-44e6-81b4-537719df6599",
   "metadata": {},
   "outputs": [
    {
     "name": "stdin",
     "output_type": "stream",
     "text": [
      "Enter a number:  -7\n"
     ]
    },
    {
     "name": "stdout",
     "output_type": "stream",
     "text": [
      "Absolute value is: 7\n"
     ]
    }
   ],
   "source": [
    "a = int(input(\"Enter a number: \"))\n",
    "\n",
    "if a >= 0:\n",
    "    print(a)\n",
    "else:\n",
    "    print(\"Absolute value is:\", a * (-1))"
   ]
  },
  {
   "cell_type": "markdown",
   "id": "d18e7c18-1fe2-49bc-a87c-ecb5702b1e49",
   "metadata": {},
   "source": [
    "**Write a Program to enter a number from user and check if it is greater than 10 or not**"
   ]
  },
  {
   "cell_type": "code",
   "execution_count": 67,
   "id": "2edf708d-cf22-4711-90be-d9dc0541d2e7",
   "metadata": {},
   "outputs": [
    {
     "name": "stdin",
     "output_type": "stream",
     "text": [
      "Enter a number:  15\n"
     ]
    },
    {
     "name": "stdout",
     "output_type": "stream",
     "text": [
      "The number is Greater\n"
     ]
    }
   ],
   "source": [
    "a = int(input(\"Enter a number: \"))\n",
    "\n",
    "if a > 10:\n",
    "    print(\"The number is Greater\")\n",
    "else:\n",
    "    print(\"Not greater\")"
   ]
  },
  {
   "cell_type": "code",
   "execution_count": 69,
   "id": "f92e2219-a846-4b9a-9db0-2d8c9bc8b950",
   "metadata": {},
   "outputs": [
    {
     "name": "stdin",
     "output_type": "stream",
     "text": [
      "Enter a number:  10\n"
     ]
    },
    {
     "name": "stdout",
     "output_type": "stream",
     "text": [
      "The number is equal to 10\n"
     ]
    }
   ],
   "source": [
    "a = int(input(\"Enter a number: \"))\n",
    "\n",
    "if a > 10:\n",
    "    print(\"The number is Greater than 10\")\n",
    "elif a == 10:\n",
    "    print(\"The number is equal to 10\")\n",
    "else:\n",
    "    print(\"Not greater than 10\")"
   ]
  },
  {
   "cell_type": "markdown",
   "id": "59bb4bf0-29d6-4c40-abc0-13b8b4c60a9d",
   "metadata": {},
   "source": [
    "**Write a Program to enter 3 numbers from user and print the greater number**"
   ]
  },
  {
   "cell_type": "code",
   "execution_count": 73,
   "id": "0947a4f4-4895-4153-a8cd-6a2c772dc0c5",
   "metadata": {},
   "outputs": [
    {
     "name": "stdin",
     "output_type": "stream",
     "text": [
      "Enter a number:  30\n",
      "Enter a number:  20\n",
      "Enter a number:  10\n"
     ]
    },
    {
     "name": "stdout",
     "output_type": "stream",
     "text": [
      "Greater = 30\n"
     ]
    }
   ],
   "source": [
    "# a\n",
    "# b   -  d\n",
    "# c\n",
    "\n",
    "a = int(input(\"Enter a number: \"))\n",
    "b = int(input(\"Enter a number: \"))\n",
    "c = int(input(\"Enter a number: \"))\n",
    "\n",
    "if a >= b:\n",
    "    d = a\n",
    "elif b >= a:\n",
    "    d = b\n",
    "\n",
    "if d >= c:\n",
    "    print(\"Greater =\", d)\n",
    "else:\n",
    "    print(\"Greater=\", c)\n",
    "\n"
   ]
  },
  {
   "cell_type": "markdown",
   "id": "17dc0261-f435-48d1-b38b-61f7948e1c17",
   "metadata": {},
   "source": [
    "**Write a Program to enter a number between 0 to 9 and print its character format**"
   ]
  },
  {
   "cell_type": "code",
   "execution_count": null,
   "id": "b4d42374-8f3f-4317-ae48-57e1f1243b1f",
   "metadata": {},
   "outputs": [],
   "source": [
    "0 = \"Zero\"\n",
    "1 = \"One\""
   ]
  },
  {
   "cell_type": "code",
   "execution_count": 79,
   "id": "19c52b01-af9c-45e2-83ef-9009ca0abd88",
   "metadata": {},
   "outputs": [
    {
     "name": "stdin",
     "output_type": "stream",
     "text": [
      "Enter a number between 0 and 9:  20\n"
     ]
    },
    {
     "name": "stdout",
     "output_type": "stream",
     "text": [
      "value should be between 0 and 9\n"
     ]
    }
   ],
   "source": [
    "a = int(input(\"Enter a number between 0 and 9: \"))\n",
    "\n",
    "if a == 0:\n",
    "    print(\"Zero\")\n",
    "elif a == 1:\n",
    "    print(\"One\")\n",
    "elif a == 2:\n",
    "    print(\"Two\")\n",
    "elif a == 3:\n",
    "    print(\"Three\")\n",
    "elif a == 4:\n",
    "    print(\"Four\")\n",
    "elif a == 5:\n",
    "    print(\"Five\")\n",
    "elif a == 6:\n",
    "    print(\"Six\")\n",
    "elif a == 7:\n",
    "    print(\"Seven\")\n",
    "elif a == 8:\n",
    "    print(\"Eight\")\n",
    "elif a == 9:\n",
    "    print(\"Nine\")\n",
    "else:\n",
    "    print(\"value should be between 0 and 9\")"
   ]
  },
  {
   "cell_type": "markdown",
   "id": "ab794fa7-4993-4762-892e-57f44157045f",
   "metadata": {},
   "source": [
    "**Write a Program to enter a character from user and check if it is a vowel or consonant**"
   ]
  },
  {
   "cell_type": "code",
   "execution_count": 83,
   "id": "2dee7df1-b3a0-4b71-aaae-9909012968a9",
   "metadata": {},
   "outputs": [
    {
     "name": "stdin",
     "output_type": "stream",
     "text": [
      "Enter a character e\n"
     ]
    },
    {
     "name": "stdout",
     "output_type": "stream",
     "text": [
      "Vowel\n"
     ]
    }
   ],
   "source": [
    "ch = input(\"Enter a character\") \n",
    "\n",
    "if ch == \"a\":\n",
    "    print(\"Vowel\")\n",
    "elif ch == 'e':\n",
    "    print(\"Vowel\")\n",
    "elif ch == 'i':\n",
    "    print(\"Vowel\")\n",
    "elif ch == 'o':\n",
    "    print(\"Vowel\")\n",
    "elif ch == 'u':\n",
    "    print(\"Vowel\")\n",
    "else:\n",
    "    print(\"Consonant\")"
   ]
  },
  {
   "cell_type": "code",
   "execution_count": 85,
   "id": "51f69c38-4120-4616-881b-7d75b6abf9a0",
   "metadata": {},
   "outputs": [
    {
     "data": {
      "text/plain": [
       "False"
      ]
     },
     "execution_count": 85,
     "metadata": {},
     "output_type": "execute_result"
    }
   ],
   "source": [
    "\"a\" == \"A\""
   ]
  },
  {
   "cell_type": "markdown",
   "id": "4b2f33b6-3391-46b7-aa9b-7850f36d066a",
   "metadata": {},
   "source": [
    "**Write a Program to enter a character from user and check if it is a vowel or consonant by only using one if and one else**"
   ]
  },
  {
   "cell_type": "code",
   "execution_count": 91,
   "id": "e8a53962-25f9-4bf8-a5e4-6b7c0e280e4c",
   "metadata": {},
   "outputs": [
    {
     "name": "stdin",
     "output_type": "stream",
     "text": [
      "Enter a character z\n"
     ]
    },
    {
     "name": "stdout",
     "output_type": "stream",
     "text": [
      "Consonant\n"
     ]
    }
   ],
   "source": [
    "ch = input(\"Enter a character\") \n",
    "\n",
    "if ch == \"a\" or ch == \"e\" or ch == \"i\" or ch == \"o\" or ch == \"u\":\n",
    "    print(\"Vowel\")\n",
    "else:\n",
    "    print(\"Consonant\")"
   ]
  },
  {
   "cell_type": "code",
   "execution_count": null,
   "id": "ec451111-d1cb-43ac-b1f2-afa1102e5ec3",
   "metadata": {},
   "outputs": [],
   "source": []
  }
 ],
 "metadata": {
  "kernelspec": {
   "display_name": "Python [conda env:base] *",
   "language": "python",
   "name": "conda-base-py"
  },
  "language_info": {
   "codemirror_mode": {
    "name": "ipython",
    "version": 3
   },
   "file_extension": ".py",
   "mimetype": "text/x-python",
   "name": "python",
   "nbconvert_exporter": "python",
   "pygments_lexer": "ipython3",
   "version": "3.12.7"
  }
 },
 "nbformat": 4,
 "nbformat_minor": 5
}

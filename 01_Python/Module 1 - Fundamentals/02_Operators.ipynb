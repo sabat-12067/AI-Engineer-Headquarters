{
 "cells": [
  {
   "cell_type": "markdown",
   "id": "3a73159a-3761-466f-a5ef-6d6dc9cd257f",
   "metadata": {},
   "source": [
    "# Operators\n",
    "\n",
    "- Arithmetic Operator\n",
    "- Boolean Operator\n",
    "- Relational Operator\n",
    "- Bitwise Operator\n",
    "- Logical Operator\n",
    "- Assignment and Compound Operator\n",
    "- Membership Operator\n",
    "- Identity Operator"
   ]
  },
  {
   "cell_type": "code",
   "execution_count": null,
   "id": "32862648-2a77-4f64-b632-6a7815444512",
   "metadata": {},
   "outputs": [],
   "source": []
  },
  {
   "cell_type": "markdown",
   "id": "c2d12446-39cc-40b2-b0b9-d4d8cc49098e",
   "metadata": {},
   "source": [
    "### Arithmetic Operator\n"
   ]
  },
  {
   "cell_type": "code",
   "execution_count": null,
   "id": "1b923333-14be-4fac-ab0e-1bd474d12ace",
   "metadata": {},
   "outputs": [],
   "source": []
  },
  {
   "cell_type": "code",
   "execution_count": null,
   "id": "93eda956-d317-493f-ac06-38437dc53225",
   "metadata": {},
   "outputs": [],
   "source": []
  },
  {
   "cell_type": "code",
   "execution_count": null,
   "id": "8412e0fd-1f3d-42d5-a610-6566aec9e5b2",
   "metadata": {},
   "outputs": [],
   "source": []
  },
  {
   "cell_type": "code",
   "execution_count": null,
   "id": "d6c748cc-8f52-4519-b4ee-ff617738ffc0",
   "metadata": {},
   "outputs": [],
   "source": []
  },
  {
   "cell_type": "code",
   "execution_count": null,
   "id": "4128a792-5d0c-4109-b976-673d626fd346",
   "metadata": {},
   "outputs": [],
   "source": []
  },
  {
   "cell_type": "code",
   "execution_count": null,
   "id": "ec41e35c-12a1-40a7-b2b6-df29ca81f69c",
   "metadata": {},
   "outputs": [],
   "source": []
  },
  {
   "cell_type": "markdown",
   "id": "afe3b3c1-7188-4650-b275-73b8d51c0ec4",
   "metadata": {},
   "source": [
    "### Boolean Operator\n"
   ]
  },
  {
   "cell_type": "code",
   "execution_count": null,
   "id": "ce3f8217-99d0-41b3-9532-488ce5fbecd9",
   "metadata": {},
   "outputs": [],
   "source": []
  },
  {
   "cell_type": "code",
   "execution_count": null,
   "id": "bcf22724-73ff-496f-a904-109c9a7c91e9",
   "metadata": {},
   "outputs": [],
   "source": []
  },
  {
   "cell_type": "code",
   "execution_count": null,
   "id": "36321774-6ee6-4824-b91a-a6b2c4577c39",
   "metadata": {},
   "outputs": [],
   "source": []
  },
  {
   "cell_type": "markdown",
   "id": "db3ed9f6-d115-42c1-8829-fb734efa6bdf",
   "metadata": {},
   "source": [
    "### Relational Operator\n"
   ]
  },
  {
   "cell_type": "code",
   "execution_count": null,
   "id": "b99c8186-9c51-4579-a591-02c864edb10b",
   "metadata": {},
   "outputs": [],
   "source": []
  },
  {
   "cell_type": "code",
   "execution_count": null,
   "id": "d70241de-4a7a-439a-8977-f959d1199fe0",
   "metadata": {},
   "outputs": [],
   "source": []
  },
  {
   "cell_type": "code",
   "execution_count": null,
   "id": "71a066a4-904f-4441-8232-1eba65625860",
   "metadata": {},
   "outputs": [],
   "source": []
  },
  {
   "cell_type": "code",
   "execution_count": null,
   "id": "1dddfe95-87b5-4796-b000-e3fcbd802f00",
   "metadata": {},
   "outputs": [],
   "source": []
  },
  {
   "cell_type": "code",
   "execution_count": null,
   "id": "3cde06d4-2361-4986-9a0a-11f30a0a41c9",
   "metadata": {},
   "outputs": [],
   "source": []
  },
  {
   "cell_type": "code",
   "execution_count": null,
   "id": "dea6fc56-6907-456c-8c18-40b669436bad",
   "metadata": {},
   "outputs": [],
   "source": []
  },
  {
   "cell_type": "code",
   "execution_count": null,
   "id": "bd37faaa-1621-4574-9a27-6dbbb106fe8f",
   "metadata": {},
   "outputs": [],
   "source": []
  },
  {
   "cell_type": "markdown",
   "id": "4855ddf0-4840-4394-8298-589cfdf9ae31",
   "metadata": {},
   "source": [
    "### Bitwise Operator\n"
   ]
  },
  {
   "cell_type": "code",
   "execution_count": null,
   "id": "d75b66a8-e5f0-4a41-8f0a-ff0551607313",
   "metadata": {},
   "outputs": [],
   "source": []
  },
  {
   "cell_type": "code",
   "execution_count": null,
   "id": "c5e2dc95-0bf6-434c-ac13-e88d429723ab",
   "metadata": {},
   "outputs": [],
   "source": []
  },
  {
   "cell_type": "code",
   "execution_count": null,
   "id": "f5826c80-8f6d-4d37-8b62-267b254f72ef",
   "metadata": {},
   "outputs": [],
   "source": []
  },
  {
   "cell_type": "code",
   "execution_count": null,
   "id": "f38eb319-8079-4c43-9335-20bf877779bc",
   "metadata": {},
   "outputs": [],
   "source": []
  },
  {
   "cell_type": "code",
   "execution_count": null,
   "id": "31cd8ea4-e6ce-4173-a8e0-29bc9c174acc",
   "metadata": {},
   "outputs": [],
   "source": []
  },
  {
   "cell_type": "code",
   "execution_count": null,
   "id": "e54ba58f-fd28-4218-9fd3-d11aa48a426a",
   "metadata": {},
   "outputs": [],
   "source": []
  },
  {
   "cell_type": "markdown",
   "id": "4fc34d2a-ab05-4da6-ae27-efb88c0dfff6",
   "metadata": {},
   "source": [
    "### Logical Operator\n"
   ]
  },
  {
   "cell_type": "code",
   "execution_count": null,
   "id": "0d33074e-b5bd-4369-8cd8-4aa8e36d7ce6",
   "metadata": {},
   "outputs": [],
   "source": []
  },
  {
   "cell_type": "code",
   "execution_count": null,
   "id": "c6574de0-3bbe-4a56-ba95-bee29e6b94c7",
   "metadata": {},
   "outputs": [],
   "source": []
  },
  {
   "cell_type": "code",
   "execution_count": null,
   "id": "8d85523d-3369-4435-b428-5f8b8edbc0f2",
   "metadata": {},
   "outputs": [],
   "source": []
  },
  {
   "cell_type": "code",
   "execution_count": null,
   "id": "f705e37c-8bd1-49f5-8a6e-0fa1a9fcb127",
   "metadata": {},
   "outputs": [],
   "source": []
  },
  {
   "cell_type": "code",
   "execution_count": null,
   "id": "2ae17588-ab5a-45e1-9dd2-beb179ae114a",
   "metadata": {},
   "outputs": [],
   "source": []
  },
  {
   "cell_type": "code",
   "execution_count": null,
   "id": "5d46d417-22d5-4f56-a1df-638cf2593215",
   "metadata": {},
   "outputs": [],
   "source": []
  },
  {
   "cell_type": "code",
   "execution_count": null,
   "id": "011ea7e6-2cab-40f4-b698-a4154375ce54",
   "metadata": {},
   "outputs": [],
   "source": []
  },
  {
   "cell_type": "code",
   "execution_count": null,
   "id": "155477b9-a89e-4b4f-905c-a551e2750276",
   "metadata": {},
   "outputs": [],
   "source": []
  },
  {
   "cell_type": "markdown",
   "id": "9ffb05ef-1dfd-4a7a-a3aa-37f873794b37",
   "metadata": {},
   "source": [
    "### Assignment and Compound Operator\n"
   ]
  },
  {
   "cell_type": "code",
   "execution_count": null,
   "id": "b0a7690f-5536-4b7a-8562-1854e8da4814",
   "metadata": {},
   "outputs": [],
   "source": []
  },
  {
   "cell_type": "code",
   "execution_count": null,
   "id": "324a9b2f-71a0-4f5f-9847-7dc4fc67e019",
   "metadata": {},
   "outputs": [],
   "source": []
  },
  {
   "cell_type": "code",
   "execution_count": null,
   "id": "e703691e-dd2c-4470-918e-8fa1b7823689",
   "metadata": {},
   "outputs": [],
   "source": []
  },
  {
   "cell_type": "code",
   "execution_count": null,
   "id": "b3472238-ed9b-4c97-aae9-7584f8e6458a",
   "metadata": {},
   "outputs": [],
   "source": []
  },
  {
   "cell_type": "markdown",
   "id": "72f4b83c-0a22-440f-a0df-2c0149ba5714",
   "metadata": {},
   "source": [
    "### Membership Operator\n"
   ]
  },
  {
   "cell_type": "code",
   "execution_count": null,
   "id": "595bcee1-058d-4339-94d8-2d2b5367be70",
   "metadata": {},
   "outputs": [],
   "source": []
  },
  {
   "cell_type": "code",
   "execution_count": null,
   "id": "d894d222-8287-40ea-86c8-83190b1109d0",
   "metadata": {},
   "outputs": [],
   "source": []
  },
  {
   "cell_type": "markdown",
   "id": "f9a13a03-b8eb-4542-8d42-b4a2c804c262",
   "metadata": {},
   "source": [
    "### Identity Operator"
   ]
  },
  {
   "cell_type": "code",
   "execution_count": null,
   "id": "dc5fa3f6-ee97-4599-9201-d0d5821b7928",
   "metadata": {},
   "outputs": [],
   "source": []
  }
 ],
 "metadata": {
  "kernelspec": {
   "display_name": "Python [conda env:base] *",
   "language": "python",
   "name": "conda-base-py"
  },
  "language_info": {
   "codemirror_mode": {
    "name": "ipython",
    "version": 3
   },
   "file_extension": ".py",
   "mimetype": "text/x-python",
   "name": "python",
   "nbconvert_exporter": "python",
   "pygments_lexer": "ipython3",
   "version": "3.12.7"
  }
 },
 "nbformat": 4,
 "nbformat_minor": 5
}

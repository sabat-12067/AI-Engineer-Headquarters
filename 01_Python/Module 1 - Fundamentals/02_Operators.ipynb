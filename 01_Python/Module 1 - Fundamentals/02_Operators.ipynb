{
 "cells": [
  {
   "cell_type": "markdown",
   "id": "3a73159a-3761-466f-a5ef-6d6dc9cd257f",
   "metadata": {},
   "source": [
    "# Operators\n",
    "\n",
    "- Arithmetic Operator\n",
    "- Boolean Operator\n",
    "- Relational Operator\n",
    "- Bitwise Operator\n",
    "- Logical Operator\n",
    "- Assignment and Compound Operator\n",
    "- Membership Operator\n",
    "- Identity Operator"
   ]
  },
  {
   "cell_type": "code",
   "execution_count": null,
   "id": "32862648-2a77-4f64-b632-6a7815444512",
   "metadata": {},
   "outputs": [],
   "source": []
  },
  {
   "cell_type": "markdown",
   "id": "c2d12446-39cc-40b2-b0b9-d4d8cc49098e",
   "metadata": {},
   "source": [
    "### Arithmetic Operator\n"
   ]
  },
  {
   "cell_type": "code",
   "execution_count": null,
   "id": "1b923333-14be-4fac-ab0e-1bd474d12ace",
   "metadata": {},
   "outputs": [],
   "source": [
    "+ - * / % // **"
   ]
  },
  {
   "cell_type": "code",
   "execution_count": 13,
   "id": "93eda956-d317-493f-ac06-38437dc53225",
   "metadata": {},
   "outputs": [
    {
     "name": "stdout",
     "output_type": "stream",
     "text": [
      "30\n"
     ]
    }
   ],
   "source": [
    "a = 10 + 20\n",
    "\n",
    "print(a)"
   ]
  },
  {
   "cell_type": "code",
   "execution_count": 15,
   "id": "8412e0fd-1f3d-42d5-a610-6566aec9e5b2",
   "metadata": {},
   "outputs": [
    {
     "name": "stdout",
     "output_type": "stream",
     "text": [
      "-10\n"
     ]
    }
   ],
   "source": [
    "a = 10 - 20\n",
    "\n",
    "print(a)"
   ]
  },
  {
   "cell_type": "code",
   "execution_count": 17,
   "id": "d6c748cc-8f52-4519-b4ee-ff617738ffc0",
   "metadata": {},
   "outputs": [
    {
     "name": "stdout",
     "output_type": "stream",
     "text": [
      "8\n"
     ]
    }
   ],
   "source": [
    "print(2 * 4)"
   ]
  },
  {
   "cell_type": "code",
   "execution_count": 19,
   "id": "4128a792-5d0c-4109-b976-673d626fd346",
   "metadata": {},
   "outputs": [
    {
     "name": "stdout",
     "output_type": "stream",
     "text": [
      "3.5\n"
     ]
    }
   ],
   "source": [
    "print(7/2)"
   ]
  },
  {
   "cell_type": "code",
   "execution_count": 21,
   "id": "52a9fedc-93cc-4908-ba74-ca971d92c882",
   "metadata": {},
   "outputs": [
    {
     "name": "stdout",
     "output_type": "stream",
     "text": [
      "0\n"
     ]
    }
   ],
   "source": [
    "# modulo  %\n",
    "\n",
    "print(10 % 2)  # reminder"
   ]
  },
  {
   "cell_type": "code",
   "execution_count": 23,
   "id": "61dac66d-ea81-4907-a130-082b063a47b1",
   "metadata": {},
   "outputs": [
    {
     "name": "stdout",
     "output_type": "stream",
     "text": [
      "1\n"
     ]
    }
   ],
   "source": [
    "print(11 % 2)"
   ]
  },
  {
   "cell_type": "code",
   "execution_count": 25,
   "id": "480bd230-ccce-4981-82da-703d9d21a4cd",
   "metadata": {},
   "outputs": [
    {
     "name": "stdout",
     "output_type": "stream",
     "text": [
      "5\n"
     ]
    }
   ],
   "source": [
    "print(13 % 8)"
   ]
  },
  {
   "cell_type": "code",
   "execution_count": 27,
   "id": "c032cab3-746d-4657-97b3-eb3d9d0dd874",
   "metadata": {},
   "outputs": [
    {
     "name": "stdout",
     "output_type": "stream",
     "text": [
      "1\n"
     ]
    }
   ],
   "source": [
    "print(51 % 10)"
   ]
  },
  {
   "cell_type": "code",
   "execution_count": 29,
   "id": "1e36dbb0-7110-417f-9982-a301371d9563",
   "metadata": {},
   "outputs": [
    {
     "name": "stdout",
     "output_type": "stream",
     "text": [
      "3\n"
     ]
    }
   ],
   "source": [
    "# floor division\n",
    "\n",
    "print(7 // 2)"
   ]
  },
  {
   "cell_type": "code",
   "execution_count": 31,
   "id": "d6e60c53-1493-4f40-93bd-ff6e6d0a17df",
   "metadata": {},
   "outputs": [
    {
     "name": "stdout",
     "output_type": "stream",
     "text": [
      "2\n"
     ]
    }
   ],
   "source": [
    "print(11 // 4)"
   ]
  },
  {
   "cell_type": "code",
   "execution_count": 33,
   "id": "2cf9117b-c5f0-469e-bd3f-8f7c69a5f38c",
   "metadata": {},
   "outputs": [
    {
     "name": "stdout",
     "output_type": "stream",
     "text": [
      "2\n"
     ]
    }
   ],
   "source": [
    "print(15 // 7)"
   ]
  },
  {
   "cell_type": "code",
   "execution_count": 35,
   "id": "9c847af8-d4d2-4026-8474-26af35f970e7",
   "metadata": {},
   "outputs": [
    {
     "name": "stdout",
     "output_type": "stream",
     "text": [
      "8\n"
     ]
    }
   ],
   "source": [
    "## exponents **\n",
    "\n",
    "print(2 ** 3)   # 2 to the power 3 = 2 * 2 * 2"
   ]
  },
  {
   "cell_type": "code",
   "execution_count": 37,
   "id": "7a3e6647-2d80-414c-ae52-69227f0e6faf",
   "metadata": {},
   "outputs": [
    {
     "name": "stdout",
     "output_type": "stream",
     "text": [
      "27\n"
     ]
    }
   ],
   "source": [
    "print(3 ** 3)"
   ]
  },
  {
   "cell_type": "code",
   "execution_count": 39,
   "id": "ec41e35c-12a1-40a7-b2b6-df29ca81f69c",
   "metadata": {},
   "outputs": [
    {
     "name": "stdout",
     "output_type": "stream",
     "text": [
      "343\n"
     ]
    }
   ],
   "source": [
    "print(7 ** 3)"
   ]
  },
  {
   "cell_type": "markdown",
   "id": "afe3b3c1-7188-4650-b275-73b8d51c0ec4",
   "metadata": {},
   "source": [
    "### Boolean Operator\n"
   ]
  },
  {
   "cell_type": "code",
   "execution_count": null,
   "id": "ce3f8217-99d0-41b3-9532-488ce5fbecd9",
   "metadata": {},
   "outputs": [],
   "source": [
    "True = 1\n",
    "\n",
    "False = 0"
   ]
  },
  {
   "cell_type": "code",
   "execution_count": null,
   "id": "36321774-6ee6-4824-b91a-a6b2c4577c39",
   "metadata": {},
   "outputs": [],
   "source": []
  },
  {
   "cell_type": "markdown",
   "id": "db3ed9f6-d115-42c1-8829-fb734efa6bdf",
   "metadata": {},
   "source": [
    "### Relational Operator\n"
   ]
  },
  {
   "cell_type": "code",
   "execution_count": null,
   "id": "b99c8186-9c51-4579-a591-02c864edb10b",
   "metadata": {},
   "outputs": [],
   "source": [
    "> < >= <= == != "
   ]
  },
  {
   "cell_type": "code",
   "execution_count": 41,
   "id": "d70241de-4a7a-439a-8977-f959d1199fe0",
   "metadata": {},
   "outputs": [
    {
     "data": {
      "text/plain": [
       "True"
      ]
     },
     "execution_count": 41,
     "metadata": {},
     "output_type": "execute_result"
    }
   ],
   "source": [
    "10 > 1"
   ]
  },
  {
   "cell_type": "code",
   "execution_count": 43,
   "id": "71a066a4-904f-4441-8232-1eba65625860",
   "metadata": {},
   "outputs": [
    {
     "data": {
      "text/plain": [
       "False"
      ]
     },
     "execution_count": 43,
     "metadata": {},
     "output_type": "execute_result"
    }
   ],
   "source": [
    "10 > 10"
   ]
  },
  {
   "cell_type": "code",
   "execution_count": 45,
   "id": "1dddfe95-87b5-4796-b000-e3fcbd802f00",
   "metadata": {},
   "outputs": [
    {
     "data": {
      "text/plain": [
       "True"
      ]
     },
     "execution_count": 45,
     "metadata": {},
     "output_type": "execute_result"
    }
   ],
   "source": [
    "11 >= 10"
   ]
  },
  {
   "cell_type": "code",
   "execution_count": 47,
   "id": "3cde06d4-2361-4986-9a0a-11f30a0a41c9",
   "metadata": {},
   "outputs": [
    {
     "data": {
      "text/plain": [
       "True"
      ]
     },
     "execution_count": 47,
     "metadata": {},
     "output_type": "execute_result"
    }
   ],
   "source": [
    "11 >= 11"
   ]
  },
  {
   "cell_type": "code",
   "execution_count": 49,
   "id": "dea6fc56-6907-456c-8c18-40b669436bad",
   "metadata": {},
   "outputs": [
    {
     "data": {
      "text/plain": [
       "True"
      ]
     },
     "execution_count": 49,
     "metadata": {},
     "output_type": "execute_result"
    }
   ],
   "source": [
    "##  ==\n",
    "\n",
    "10 == 10"
   ]
  },
  {
   "cell_type": "code",
   "execution_count": 51,
   "id": "bd37faaa-1621-4574-9a27-6dbbb106fe8f",
   "metadata": {},
   "outputs": [
    {
     "data": {
      "text/plain": [
       "False"
      ]
     },
     "execution_count": 51,
     "metadata": {},
     "output_type": "execute_result"
    }
   ],
   "source": [
    "100 == 10"
   ]
  },
  {
   "cell_type": "code",
   "execution_count": 53,
   "id": "0659f0c7-1380-4535-b384-7c59ecdf64d3",
   "metadata": {},
   "outputs": [
    {
     "data": {
      "text/plain": [
       "False"
      ]
     },
     "execution_count": 53,
     "metadata": {},
     "output_type": "execute_result"
    }
   ],
   "source": [
    "10 == 11"
   ]
  },
  {
   "cell_type": "code",
   "execution_count": 55,
   "id": "87a81d71-b5c1-4fb4-9cda-08a64e4c9296",
   "metadata": {},
   "outputs": [
    {
     "data": {
      "text/plain": [
       "True"
      ]
     },
     "execution_count": 55,
     "metadata": {},
     "output_type": "execute_result"
    }
   ],
   "source": [
    "10 != 11"
   ]
  },
  {
   "cell_type": "code",
   "execution_count": 57,
   "id": "aab502df-1837-4b61-a48e-d5e164991f8d",
   "metadata": {},
   "outputs": [
    {
     "data": {
      "text/plain": [
       "False"
      ]
     },
     "execution_count": 57,
     "metadata": {},
     "output_type": "execute_result"
    }
   ],
   "source": [
    "10 != 10"
   ]
  },
  {
   "cell_type": "code",
   "execution_count": 59,
   "id": "6389fa1a-68b9-4848-918c-baecb661df66",
   "metadata": {},
   "outputs": [
    {
     "data": {
      "text/plain": [
       "True"
      ]
     },
     "execution_count": 59,
     "metadata": {},
     "output_type": "execute_result"
    }
   ],
   "source": [
    "7 != 8"
   ]
  },
  {
   "cell_type": "markdown",
   "id": "4855ddf0-4840-4394-8298-589cfdf9ae31",
   "metadata": {},
   "source": [
    "### Bitwise Operator\n"
   ]
  },
  {
   "cell_type": "code",
   "execution_count": null,
   "id": "d75b66a8-e5f0-4a41-8f0a-ff0551607313",
   "metadata": {},
   "outputs": [],
   "source": [
    "bit\n",
    "\n",
    "0 = low voltage = no charge = no flow of electricty\n",
    "\n",
    "1 = high voltage = charge = electricity"
   ]
  },
  {
   "cell_type": "code",
   "execution_count": null,
   "id": "c5e2dc95-0bf6-434c-ac13-e88d429723ab",
   "metadata": {},
   "outputs": [],
   "source": [
    "& - bitwise and\n",
    "| - bitwise or\n",
    "^ - bitwise xor\n",
    "<<  bitwise left shift\n",
    ">>  bitwise right shift"
   ]
  },
  {
   "cell_type": "code",
   "execution_count": null,
   "id": "d930ecf7-e870-4715-a566-465cd657be5b",
   "metadata": {},
   "outputs": [],
   "source": [
    "# & - bitwise and\n",
    "\n",
    "# truth table\n",
    "\n",
    "0 & 0 = 0\n",
    "0 & 1 = 0\n",
    "1 & 0 = 0\n",
    "1 & 1 = 1"
   ]
  },
  {
   "cell_type": "code",
   "execution_count": 61,
   "id": "ed6b102f-8e03-4173-9ea3-52f20299cea9",
   "metadata": {},
   "outputs": [
    {
     "name": "stdout",
     "output_type": "stream",
     "text": [
      "0\n"
     ]
    }
   ],
   "source": [
    "print(8 & 2)"
   ]
  },
  {
   "cell_type": "code",
   "execution_count": null,
   "id": "c08c1537-993f-4bb8-90a3-58126c8f6f4d",
   "metadata": {},
   "outputs": [],
   "source": [
    "# how to convert a number into binary number?"
   ]
  },
  {
   "cell_type": "code",
   "execution_count": null,
   "id": "095840e1-2e67-40b4-b159-0dcff5851a16",
   "metadata": {},
   "outputs": [],
   "source": [
    "1024    512    256    128    64    32    16    8    4    2    1\n",
    "                                               1    0    0    0\n",
    "                                                         1    0\n",
    "                                               1    0    1    1\n",
    "                                                    1    1    1\n",
    "                                                         1    1"
   ]
  },
  {
   "cell_type": "code",
   "execution_count": null,
   "id": "4c1f2d75-a572-4637-9aee-3ca61d6a8efc",
   "metadata": {},
   "outputs": [],
   "source": [
    "1000\n",
    "0010   &\n",
    "0000   = 0\n"
   ]
  },
  {
   "cell_type": "code",
   "execution_count": 63,
   "id": "f5826c80-8f6d-4d37-8b62-267b254f72ef",
   "metadata": {},
   "outputs": [
    {
     "data": {
      "text/plain": [
       "3"
      ]
     },
     "execution_count": 63,
     "metadata": {},
     "output_type": "execute_result"
    }
   ],
   "source": [
    "11 & 7"
   ]
  },
  {
   "cell_type": "code",
   "execution_count": null,
   "id": "f38eb319-8079-4c43-9335-20bf877779bc",
   "metadata": {},
   "outputs": [],
   "source": [
    "1011\n",
    "0111    &\n",
    "0011"
   ]
  },
  {
   "cell_type": "code",
   "execution_count": null,
   "id": "31cd8ea4-e6ce-4173-a8e0-29bc9c174acc",
   "metadata": {},
   "outputs": [],
   "source": [
    "## | - bitwise or\n",
    "\n",
    "## truth table\n",
    "\n",
    "0 | 0 = 0\n",
    "0 | 1 = 1\n",
    "1 | 0 = 1\n",
    "1 | 1 = 1\n",
    "\n",
    "\n"
   ]
  },
  {
   "cell_type": "code",
   "execution_count": 65,
   "id": "e54ba58f-fd28-4218-9fd3-d11aa48a426a",
   "metadata": {},
   "outputs": [
    {
     "name": "stdout",
     "output_type": "stream",
     "text": [
      "15\n"
     ]
    }
   ],
   "source": [
    "print(15 | 6)"
   ]
  },
  {
   "cell_type": "code",
   "execution_count": null,
   "id": "dea12b81-bf0a-4078-a6ce-98b84f818aef",
   "metadata": {},
   "outputs": [],
   "source": [
    "1024    512    256    128    64    32    16    8    4    2    1\n",
    "                                               1    1    1    1\n",
    "                                                    1    1    0\n",
    "                                               1    1    0    0\n",
    "                                                    1    0    1"
   ]
  },
  {
   "cell_type": "code",
   "execution_count": null,
   "id": "b0dade4e-81c7-46fb-bc30-cec6e951f0f5",
   "metadata": {},
   "outputs": [],
   "source": [
    "1111\n",
    "0110    |\n",
    "1111"
   ]
  },
  {
   "cell_type": "code",
   "execution_count": null,
   "id": "6b4de990-b17e-4843-80a2-08c349bb5103",
   "metadata": {},
   "outputs": [],
   "source": [
    "## ^ - bitwise xor\n",
    "\n",
    "0 ^ 0 = 0\n",
    "0 ^ 1 = 1\n",
    "1 ^ 0 = 1\n",
    "1 ^ 1 = 0"
   ]
  },
  {
   "cell_type": "code",
   "execution_count": 67,
   "id": "ca2b73b2-128e-4fa9-bc1b-722eb8cd00e8",
   "metadata": {},
   "outputs": [
    {
     "data": {
      "text/plain": [
       "9"
      ]
     },
     "execution_count": 67,
     "metadata": {},
     "output_type": "execute_result"
    }
   ],
   "source": [
    "12 ^ 5"
   ]
  },
  {
   "cell_type": "code",
   "execution_count": null,
   "id": "4c5b6a38-1181-4721-8dca-01b17958cb79",
   "metadata": {},
   "outputs": [],
   "source": [
    "1100\n",
    "0101    ^\n",
    "1001"
   ]
  },
  {
   "cell_type": "markdown",
   "id": "4fc34d2a-ab05-4da6-ae27-efb88c0dfff6",
   "metadata": {},
   "source": [
    "### Logical Operator\n"
   ]
  },
  {
   "cell_type": "code",
   "execution_count": null,
   "id": "0d33074e-b5bd-4369-8cd8-4aa8e36d7ce6",
   "metadata": {},
   "outputs": [],
   "source": [
    "and\n",
    "or\n",
    "not"
   ]
  },
  {
   "cell_type": "code",
   "execution_count": null,
   "id": "c6574de0-3bbe-4a56-ba95-bee29e6b94c7",
   "metadata": {},
   "outputs": [],
   "source": [
    "# truth table for and\n",
    "\n",
    "0 and 0 = 0\n",
    "0 and 1 = 0\n",
    "1 and 0 = 0\n",
    "1 and 1 = 1"
   ]
  },
  {
   "cell_type": "code",
   "execution_count": 69,
   "id": "8d85523d-3369-4435-b428-5f8b8edbc0f2",
   "metadata": {},
   "outputs": [
    {
     "data": {
      "text/plain": [
       "False"
      ]
     },
     "execution_count": 69,
     "metadata": {},
     "output_type": "execute_result"
    }
   ],
   "source": [
    "True and False"
   ]
  },
  {
   "cell_type": "code",
   "execution_count": 71,
   "id": "f705e37c-8bd1-49f5-8a6e-0fa1a9fcb127",
   "metadata": {},
   "outputs": [
    {
     "data": {
      "text/plain": [
       "True"
      ]
     },
     "execution_count": 71,
     "metadata": {},
     "output_type": "execute_result"
    }
   ],
   "source": [
    "True and True"
   ]
  },
  {
   "cell_type": "code",
   "execution_count": null,
   "id": "2ae17588-ab5a-45e1-9dd2-beb179ae114a",
   "metadata": {},
   "outputs": [],
   "source": [
    "# truth table for or\n",
    "\n",
    "0 or 0 = 0\n",
    "0 or 1 = 1\n",
    "1 or 0 = 1\n",
    "1 or 1 = 1"
   ]
  },
  {
   "cell_type": "code",
   "execution_count": 73,
   "id": "5d46d417-22d5-4f56-a1df-638cf2593215",
   "metadata": {},
   "outputs": [
    {
     "data": {
      "text/plain": [
       "True"
      ]
     },
     "execution_count": 73,
     "metadata": {},
     "output_type": "execute_result"
    }
   ],
   "source": [
    "True or False"
   ]
  },
  {
   "cell_type": "code",
   "execution_count": 75,
   "id": "011ea7e6-2cab-40f4-b698-a4154375ce54",
   "metadata": {},
   "outputs": [
    {
     "data": {
      "text/plain": [
       "True"
      ]
     },
     "execution_count": 75,
     "metadata": {},
     "output_type": "execute_result"
    }
   ],
   "source": [
    "True or True"
   ]
  },
  {
   "cell_type": "code",
   "execution_count": 77,
   "id": "155477b9-a89e-4b4f-905c-a551e2750276",
   "metadata": {},
   "outputs": [
    {
     "data": {
      "text/plain": [
       "False"
      ]
     },
     "execution_count": 77,
     "metadata": {},
     "output_type": "execute_result"
    }
   ],
   "source": [
    "not True"
   ]
  },
  {
   "cell_type": "code",
   "execution_count": 79,
   "id": "3cf58e91-06e9-4ab1-af58-48375538402e",
   "metadata": {},
   "outputs": [
    {
     "data": {
      "text/plain": [
       "True"
      ]
     },
     "execution_count": 79,
     "metadata": {},
     "output_type": "execute_result"
    }
   ],
   "source": [
    "not False"
   ]
  },
  {
   "cell_type": "code",
   "execution_count": null,
   "id": "3a845f42-a083-4d8e-aa0e-7854a63a338d",
   "metadata": {},
   "outputs": [],
   "source": []
  },
  {
   "cell_type": "markdown",
   "id": "9ffb05ef-1dfd-4a7a-a3aa-37f873794b37",
   "metadata": {},
   "source": [
    "### Assignment and Compound Operator\n"
   ]
  },
  {
   "cell_type": "code",
   "execution_count": 81,
   "id": "b0a7690f-5536-4b7a-8562-1854e8da4814",
   "metadata": {},
   "outputs": [
    {
     "name": "stdout",
     "output_type": "stream",
     "text": [
      "10\n"
     ]
    }
   ],
   "source": [
    "##   =\n",
    "\n",
    "a = 10\n",
    "\n",
    "print(a)"
   ]
  },
  {
   "cell_type": "code",
   "execution_count": null,
   "id": "324a9b2f-71a0-4f5f-9847-7dc4fc67e019",
   "metadata": {},
   "outputs": [],
   "source": [
    "+=  -=  *=    /=   **=  %=   //="
   ]
  },
  {
   "cell_type": "code",
   "execution_count": 83,
   "id": "e703691e-dd2c-4470-918e-8fa1b7823689",
   "metadata": {},
   "outputs": [
    {
     "name": "stdout",
     "output_type": "stream",
     "text": [
      "11\n"
     ]
    }
   ],
   "source": [
    "a = 10\n",
    "\n",
    "a += 1    # a = a + 1\n",
    "\n",
    "print(a)"
   ]
  },
  {
   "cell_type": "code",
   "execution_count": 85,
   "id": "b3472238-ed9b-4c97-aae9-7584f8e6458a",
   "metadata": {},
   "outputs": [
    {
     "name": "stdout",
     "output_type": "stream",
     "text": [
      "15\n"
     ]
    }
   ],
   "source": [
    "a = 10\n",
    "\n",
    "a += 5    # a = a + 5\n",
    "\n",
    "print(a)"
   ]
  },
  {
   "cell_type": "code",
   "execution_count": 87,
   "id": "eac60650-2cc7-4ca7-b650-3608e46458c9",
   "metadata": {},
   "outputs": [
    {
     "name": "stdout",
     "output_type": "stream",
     "text": [
      "3.5\n"
     ]
    }
   ],
   "source": [
    "a = 7\n",
    "\n",
    "a /= 2  # a = a / 2\n",
    "\n",
    "print(a)"
   ]
  },
  {
   "cell_type": "code",
   "execution_count": 89,
   "id": "02538368-6d5a-4137-9908-36ada4118e32",
   "metadata": {},
   "outputs": [
    {
     "name": "stdout",
     "output_type": "stream",
     "text": [
      "8\n"
     ]
    }
   ],
   "source": [
    "a = 2\n",
    "\n",
    "a **= 3  ## a = a ** 3\n",
    "\n",
    "print(a)"
   ]
  },
  {
   "cell_type": "code",
   "execution_count": 91,
   "id": "eb576d67-de3c-4740-a847-c8879f0deb3d",
   "metadata": {},
   "outputs": [
    {
     "name": "stdout",
     "output_type": "stream",
     "text": [
      "2\n"
     ]
    }
   ],
   "source": [
    "a = 11\n",
    "\n",
    "a //= 4   # a = a // 4\n",
    "\n",
    "print(a)"
   ]
  },
  {
   "cell_type": "code",
   "execution_count": null,
   "id": "b70d5db9-81c7-4412-a510-e808fe687f28",
   "metadata": {},
   "outputs": [],
   "source": []
  },
  {
   "cell_type": "markdown",
   "id": "72f4b83c-0a22-440f-a0df-2c0149ba5714",
   "metadata": {},
   "source": [
    "### Membership Operator\n"
   ]
  },
  {
   "cell_type": "code",
   "execution_count": null,
   "id": "595bcee1-058d-4339-94d8-2d2b5367be70",
   "metadata": {},
   "outputs": [],
   "source": [
    "in\n",
    "\n",
    "not in"
   ]
  },
  {
   "cell_type": "code",
   "execution_count": null,
   "id": "d894d222-8287-40ea-86c8-83190b1109d0",
   "metadata": {},
   "outputs": [],
   "source": []
  },
  {
   "cell_type": "markdown",
   "id": "f9a13a03-b8eb-4542-8d42-b4a2c804c262",
   "metadata": {},
   "source": [
    "### Identity Operator"
   ]
  },
  {
   "cell_type": "code",
   "execution_count": null,
   "id": "dc5fa3f6-ee97-4599-9201-d0d5821b7928",
   "metadata": {},
   "outputs": [],
   "source": [
    "is\n",
    "\n",
    "not is"
   ]
  }
 ],
 "metadata": {
  "kernelspec": {
   "display_name": "Python [conda env:base] *",
   "language": "python",
   "name": "conda-base-py"
  },
  "language_info": {
   "codemirror_mode": {
    "name": "ipython",
    "version": 3
   },
   "file_extension": ".py",
   "mimetype": "text/x-python",
   "name": "python",
   "nbconvert_exporter": "python",
   "pygments_lexer": "ipython3",
   "version": "3.12.7"
  }
 },
 "nbformat": 4,
 "nbformat_minor": 5
}

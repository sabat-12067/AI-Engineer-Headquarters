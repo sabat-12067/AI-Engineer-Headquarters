{
 "cells": [
  {
   "cell_type": "markdown",
   "id": "32b44c49-475c-4116-a338-846ce6b2362e",
   "metadata": {},
   "source": [
    "# Logic Building [Code with Me]\n",
    "\n",
    "Here are some coding problems that you can solve with me, by building logic and writing code.\n"
   ]
  },
  {
   "cell_type": "code",
   "execution_count": null,
   "id": "00e28198-dad9-41e7-8c6c-a34db55d5e29",
   "metadata": {},
   "outputs": [],
   "source": []
  },
  {
   "cell_type": "markdown",
   "id": "e341ec7c-6cca-49c2-a751-ab3ea42a39d8",
   "metadata": {},
   "source": [
    "**Write a program to enter a number from the user and check if it is even or odd.**"
   ]
  },
  {
   "cell_type": "code",
   "execution_count": 10,
   "id": "687433ca-dc73-42bb-ac9f-b562caebf3b5",
   "metadata": {},
   "outputs": [
    {
     "name": "stdin",
     "output_type": "stream",
     "text": [
      "Enter a number:  0\n"
     ]
    },
    {
     "name": "stdout",
     "output_type": "stream",
     "text": [
      "the number should not be zero and negative\n"
     ]
    }
   ],
   "source": [
    "n = int(input(\"Enter a number: \"))\n",
    "\n",
    "if n <= 0:\n",
    "    print(\"the number should not be zero and negative\")\n",
    "elif n%2 == 0:\n",
    "    print(\"the number is even\")\n",
    "else:\n",
    "    print(\"the number is odd\")\n"
   ]
  },
  {
   "cell_type": "markdown",
   "id": "d25402bc-0c9b-482f-b43d-c94c13f81faf",
   "metadata": {},
   "source": [
    "**Write a program to check if a number entered by the user is divisible by both 3 and 5.**"
   ]
  },
  {
   "cell_type": "code",
   "execution_count": 18,
   "id": "fd82a1a7-2dc7-40b8-bb5f-c4ede3cfd69b",
   "metadata": {},
   "outputs": [
    {
     "name": "stdin",
     "output_type": "stream",
     "text": [
      "Enter a number:  75\n"
     ]
    },
    {
     "name": "stdout",
     "output_type": "stream",
     "text": [
      "the number is divisible by 3 and 5 both\n"
     ]
    }
   ],
   "source": [
    "n = int(input(\"Enter a number: \"))\n",
    "\n",
    "if n%3 == 0 and n%5 == 0:\n",
    "    print(\"the number is divisible by 3 and 5 both\")\n",
    "else:\n",
    "    print(\"the number is not divisible\")"
   ]
  },
  {
   "cell_type": "markdown",
   "id": "4bc36f44-c63f-4e1f-a0d4-808cf3397d67",
   "metadata": {},
   "source": [
    "**Write a program to enter marks and print the grade based on the following criteria:**\n",
    "\n",
    "Marks >= 90: Grade A\n",
    "\n",
    "Marks >= 80: Grade B\n",
    "\n",
    "Marks >= 70: Grade C\n",
    "\n",
    "Marks >= 60: Grade D\n",
    "\n",
    "Marks < 60: Grade F"
   ]
  },
  {
   "cell_type": "code",
   "execution_count": 22,
   "id": "e3893c63-1686-4961-893a-eee2a8694a25",
   "metadata": {},
   "outputs": [
    {
     "name": "stdin",
     "output_type": "stream",
     "text": [
      "Enter your marks:  99\n"
     ]
    },
    {
     "name": "stdout",
     "output_type": "stream",
     "text": [
      "Grade A\n"
     ]
    }
   ],
   "source": [
    "n = int(input(\"Enter your marks: \"))\n",
    "\n",
    "if n >= 90:\n",
    "    print(\"Grade A\")\n",
    "elif n >= 80:\n",
    "    print(\"Grade B\")\n",
    "elif n >= 70:\n",
    "    print(\"Grade C\")\n",
    "elif n >= 60:\n",
    "    print(\"Grade D\")\n",
    "else:\n",
    "    print(\"Grade F\")"
   ]
  },
  {
   "cell_type": "markdown",
   "id": "893c88ac-e2f3-496d-b009-f05adae968ad",
   "metadata": {},
   "source": [
    "**Write a program to enter a number from the user and check if it is positive, negative, or zero.**"
   ]
  },
  {
   "cell_type": "code",
   "execution_count": 28,
   "id": "e87a3122-d041-443b-b3f2-a3a2deb908b0",
   "metadata": {},
   "outputs": [
    {
     "name": "stdin",
     "output_type": "stream",
     "text": [
      "Enter a number:  0\n"
     ]
    },
    {
     "name": "stdout",
     "output_type": "stream",
     "text": [
      "Zero\n"
     ]
    }
   ],
   "source": [
    "n = int(input(\"Enter a number: \"))\n",
    "\n",
    "if n > 0:\n",
    "    print(\"Positive\")\n",
    "elif n == 0:\n",
    "    print(\"Zero\")\n",
    "else:\n",
    "    print(\"Negative\")"
   ]
  },
  {
   "cell_type": "markdown",
   "id": "77a170a8-c7d4-4691-8a64-9b07abe1814b",
   "metadata": {},
   "source": [
    "**Write a program to enter a person's age and check if they are eligible to vote.**"
   ]
  },
  {
   "cell_type": "code",
   "execution_count": 35,
   "id": "d70ed4ff-ec32-475f-afdd-965c91e5f9ed",
   "metadata": {},
   "outputs": [
    {
     "name": "stdin",
     "output_type": "stream",
     "text": [
      "Enter your age:  17\n"
     ]
    },
    {
     "name": "stdout",
     "output_type": "stream",
     "text": [
      "You are not eligible to vote\n"
     ]
    }
   ],
   "source": [
    "# if the person is above 18\n",
    "\n",
    "n = int(input(\"Enter your age: \"))\n",
    "\n",
    "if n >= 18:\n",
    "    print(\"You are eligible to vote\")\n",
    "else:\n",
    "    print(\"You are not eligible to vote\")"
   ]
  },
  {
   "cell_type": "markdown",
   "id": "227f8184-0e6b-46e2-a353-20908bb8fb79",
   "metadata": {},
   "source": [
    "**Write a program to classify a model’s accuracy score into categories:**\n",
    "\n",
    "Poor (<50%)\n",
    "\n",
    "Average (50–75%)\n",
    "\n",
    "Good (>75%)"
   ]
  },
  {
   "cell_type": "code",
   "execution_count": 43,
   "id": "c38ffc28-bc96-42ec-89bc-ff68e381b270",
   "metadata": {},
   "outputs": [
    {
     "name": "stdin",
     "output_type": "stream",
     "text": [
      "Enter the accuracy of your model:  68\n"
     ]
    },
    {
     "name": "stdout",
     "output_type": "stream",
     "text": [
      "Average Accuracy\n"
     ]
    }
   ],
   "source": [
    "n = int(input(\"Enter the accuracy of your model: \"))\n",
    "\n",
    "if n >= 75:\n",
    "    print(\"Good Accuracy\")\n",
    "elif n >= 50 and n <= 75:\n",
    "    print(\"Average Accuracy\")\n",
    "else:\n",
    "    print(\"Poor Accuracy\")"
   ]
  },
  {
   "cell_type": "code",
   "execution_count": null,
   "id": "d1dc6b7a-1dd2-46f8-a47e-6b453fc53f2a",
   "metadata": {},
   "outputs": [],
   "source": []
  }
 ],
 "metadata": {
  "kernelspec": {
   "display_name": "Python [conda env:base] *",
   "language": "python",
   "name": "conda-base-py"
  },
  "language_info": {
   "codemirror_mode": {
    "name": "ipython",
    "version": 3
   },
   "file_extension": ".py",
   "mimetype": "text/x-python",
   "name": "python",
   "nbconvert_exporter": "python",
   "pygments_lexer": "ipython3",
   "version": "3.12.7"
  }
 },
 "nbformat": 4,
 "nbformat_minor": 5
}

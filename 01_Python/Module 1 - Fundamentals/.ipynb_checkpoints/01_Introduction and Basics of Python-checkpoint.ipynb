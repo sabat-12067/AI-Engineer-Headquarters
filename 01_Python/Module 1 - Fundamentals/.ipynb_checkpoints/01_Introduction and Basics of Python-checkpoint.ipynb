{
 "cells": [
  {
   "cell_type": "markdown",
   "id": "5e0b3103-b4fb-4677-a302-107c061ddd37",
   "metadata": {},
   "source": [
    "# Introduction and Basics of Python\n",
    "\n",
    "- Basic Syntex\n",
    "    - Print Function\n",
    "    - New Line Character\n",
    "    - Horizontal Tab\n",
    "    - Practice Questions\n",
    "- Variables\n",
    "    - Type Function\n",
    "    - Data Type Conversion\n",
    "- User Input\n",
    "    - Input Function\n",
    "- First Python Program of Yours"
   ]
  },
  {
   "cell_type": "code",
   "execution_count": null,
   "id": "d673c838-fa59-4338-8c2a-da724f6a0f4f",
   "metadata": {},
   "outputs": [],
   "source": []
  },
  {
   "cell_type": "markdown",
   "id": "b482c5e2-2a82-4ab3-a851-1f4b32bec9aa",
   "metadata": {},
   "source": [
    "## Basic Syntex\n",
    "\n",
    "### Print Function"
   ]
  },
  {
   "cell_type": "code",
   "execution_count": 2,
   "id": "1f8c5c9f-9d8e-4f00-beea-d5a9a420d8d1",
   "metadata": {},
   "outputs": [
    {
     "name": "stdout",
     "output_type": "stream",
     "text": [
      "Hello World\n"
     ]
    }
   ],
   "source": [
    "print(\"Hello World\")"
   ]
  },
  {
   "cell_type": "code",
   "execution_count": 4,
   "id": "527d02d9-80e6-4f88-b709-b9d5f90cbab4",
   "metadata": {},
   "outputs": [
    {
     "name": "stdout",
     "output_type": "stream",
     "text": [
      "Hi Himanshu\n"
     ]
    }
   ],
   "source": [
    "print(\"Hi Himanshu\")"
   ]
  },
  {
   "cell_type": "code",
   "execution_count": 6,
   "id": "66f445dc-ce08-47b5-811c-8cfc1991fa5b",
   "metadata": {},
   "outputs": [
    {
     "name": "stdout",
     "output_type": "stream",
     "text": [
      "Hello\n",
      "World\n"
     ]
    }
   ],
   "source": [
    "print(\"Hello\")\n",
    "print(\"World\")"
   ]
  },
  {
   "cell_type": "code",
   "execution_count": null,
   "id": "a033b326-58d4-4a73-9e2b-88f3fcbd2d9b",
   "metadata": {},
   "outputs": [],
   "source": []
  },
  {
   "cell_type": "markdown",
   "id": "41e83631-a478-41d9-adfa-d3fb6f04fde5",
   "metadata": {},
   "source": [
    "### New Line Character"
   ]
  },
  {
   "cell_type": "code",
   "execution_count": null,
   "id": "920435a6-bba4-4437-b07f-e586e71c2908",
   "metadata": {},
   "outputs": [],
   "source": [
    "\\n"
   ]
  },
  {
   "cell_type": "code",
   "execution_count": 8,
   "id": "d8a6c1ec-619c-4cb8-b632-f58bcd41f0ce",
   "metadata": {},
   "outputs": [
    {
     "name": "stdout",
     "output_type": "stream",
     "text": [
      "Hello\n",
      "World\n"
     ]
    }
   ],
   "source": [
    "print(\"Hello\\nWorld\")"
   ]
  },
  {
   "cell_type": "code",
   "execution_count": 10,
   "id": "d9b897f0-862c-414a-a7d6-a05728820f60",
   "metadata": {},
   "outputs": [
    {
     "name": "stdout",
     "output_type": "stream",
     "text": [
      "Hi\n",
      "Rama\n"
     ]
    }
   ],
   "source": [
    "print(\"Hi\\nRama\")"
   ]
  },
  {
   "cell_type": "code",
   "execution_count": 12,
   "id": "ac42fb7d-abbf-4ef1-b46e-6cf657ad620f",
   "metadata": {},
   "outputs": [
    {
     "name": "stdout",
     "output_type": "stream",
     "text": [
      "Hi Ra\n",
      "ma\n"
     ]
    }
   ],
   "source": [
    "print(\"Hi Ra\\nma\")"
   ]
  },
  {
   "cell_type": "markdown",
   "id": "7350fae0-0812-4870-a036-1a526a55d29e",
   "metadata": {},
   "source": [
    "### Horizontal Tab"
   ]
  },
  {
   "cell_type": "code",
   "execution_count": 14,
   "id": "10782c2e-7e9b-499a-ae1e-fcb13c2044a5",
   "metadata": {},
   "outputs": [
    {
     "name": "stdout",
     "output_type": "stream",
     "text": [
      "Hello\tWorld\n"
     ]
    }
   ],
   "source": [
    "print(\"Hello\\tWorld\")"
   ]
  },
  {
   "cell_type": "code",
   "execution_count": 16,
   "id": "a0625165-b2d8-4731-a523-e2ac112252c0",
   "metadata": {},
   "outputs": [
    {
     "name": "stdout",
     "output_type": "stream",
     "text": [
      "Hello\t\tWorld\n"
     ]
    }
   ],
   "source": [
    "print(\"Hello\\t\\tWorld\")"
   ]
  },
  {
   "cell_type": "markdown",
   "id": "66bd997c-cf4e-47d5-a81a-901ac4f422ed",
   "metadata": {},
   "source": [
    "### Practice Questions"
   ]
  },
  {
   "cell_type": "code",
   "execution_count": null,
   "id": "650f06c7-8395-4913-80e5-992528e3f838",
   "metadata": {},
   "outputs": [],
   "source": [
    "Rama\n",
    "----8 spaces ----College Name\n",
    "------------16 spaces----------Country"
   ]
  },
  {
   "cell_type": "code",
   "execution_count": 18,
   "id": "2467568f-5a5a-40f1-a732-737121b8b915",
   "metadata": {},
   "outputs": [
    {
     "name": "stdout",
     "output_type": "stream",
     "text": [
      "Rama\n",
      "\t\tMIT\n",
      "\t\t\t\tIndia\n"
     ]
    }
   ],
   "source": [
    "print(\"Rama\\n\\t\\tMIT\\n\\t\\t\\t\\tIndia\")"
   ]
  },
  {
   "cell_type": "code",
   "execution_count": null,
   "id": "d046eae1-97db-4f54-afb0-16a0d8fe9e53",
   "metadata": {},
   "outputs": [],
   "source": [
    "*\n",
    "**\n",
    "***"
   ]
  },
  {
   "cell_type": "code",
   "execution_count": 20,
   "id": "f656832c-cc46-4649-9ba2-37a238b5a962",
   "metadata": {},
   "outputs": [
    {
     "name": "stdout",
     "output_type": "stream",
     "text": [
      "*\n",
      "**\n",
      "***\n"
     ]
    }
   ],
   "source": [
    "print(\"*\\n**\\n***\")"
   ]
  },
  {
   "cell_type": "code",
   "execution_count": null,
   "id": "4c07006f-78d4-4458-a2d5-d664e88b9321",
   "metadata": {},
   "outputs": [],
   "source": [
    "--4--*\n",
    "*----8----*\n",
    "--4--*"
   ]
  },
  {
   "cell_type": "code",
   "execution_count": null,
   "id": "376ec2b1-8a3c-4127-9572-7c8280ac1239",
   "metadata": {},
   "outputs": [],
   "source": [
    "  *\n",
    "*   *\n",
    "  *"
   ]
  },
  {
   "cell_type": "code",
   "execution_count": 24,
   "id": "1ff69614-774d-4387-a6d3-1fe9990f8dbf",
   "metadata": {},
   "outputs": [
    {
     "name": "stdout",
     "output_type": "stream",
     "text": [
      "    *\n",
      "*\t*\n",
      "    *\n"
     ]
    }
   ],
   "source": [
    "print(\"    *\\n*\\t*\\n    *\")"
   ]
  },
  {
   "cell_type": "markdown",
   "id": "7b44329f-8fda-4cf8-aaa2-02c16074655a",
   "metadata": {},
   "source": [
    "### Python Code Flow\n",
    "\n",
    "<img src='images/pythoncodeflow.png' />"
   ]
  },
  {
   "cell_type": "markdown",
   "id": "c0369c3f-7ad8-4c45-a3fd-19eb66f96599",
   "metadata": {},
   "source": [
    "## Variables\n"
   ]
  },
  {
   "cell_type": "code",
   "execution_count": 26,
   "id": "3a9690a8-3455-4bd9-9da5-2c81a54173fd",
   "metadata": {},
   "outputs": [
    {
     "name": "stdout",
     "output_type": "stream",
     "text": [
      "a\n"
     ]
    }
   ],
   "source": [
    "a = 10\n",
    "\n",
    "print(\"a\")"
   ]
  },
  {
   "cell_type": "code",
   "execution_count": 28,
   "id": "2b61f3ab-9ab3-4713-a6e0-641dee6581c0",
   "metadata": {},
   "outputs": [
    {
     "name": "stdout",
     "output_type": "stream",
     "text": [
      "10\n"
     ]
    }
   ],
   "source": [
    "a = 10\n",
    "\n",
    "print(a)"
   ]
  },
  {
   "cell_type": "code",
   "execution_count": 30,
   "id": "68558666-0b6e-4302-97eb-9632c96b4811",
   "metadata": {},
   "outputs": [
    {
     "name": "stdout",
     "output_type": "stream",
     "text": [
      "Rama\n"
     ]
    }
   ],
   "source": [
    "b = \"Rama\"\n",
    "\n",
    "print(b)"
   ]
  },
  {
   "cell_type": "code",
   "execution_count": 32,
   "id": "6c33fe57-2c13-4c4a-868a-c4ce322cfb86",
   "metadata": {},
   "outputs": [
    {
     "name": "stdout",
     "output_type": "stream",
     "text": [
      "10.5\n"
     ]
    }
   ],
   "source": [
    "c = 10.5\n",
    "\n",
    "print(c)"
   ]
  },
  {
   "cell_type": "code",
   "execution_count": null,
   "id": "070b4bb9-93f5-4b05-bd47-228a0429e1a9",
   "metadata": {},
   "outputs": [],
   "source": [
    "# c programming\n",
    "\n",
    "int a = 10;"
   ]
  },
  {
   "cell_type": "markdown",
   "id": "237ca922-8a0a-431f-b2a1-534502b6a027",
   "metadata": {},
   "source": [
    "### Type Function\n"
   ]
  },
  {
   "cell_type": "code",
   "execution_count": 34,
   "id": "99c4897c-f5e8-436c-b79d-dc37a8524509",
   "metadata": {},
   "outputs": [
    {
     "name": "stdout",
     "output_type": "stream",
     "text": [
      "10\n",
      "<class 'int'>\n"
     ]
    }
   ],
   "source": [
    "a = 10\n",
    "\n",
    "print(a)\n",
    "\n",
    "print(type(a))"
   ]
  },
  {
   "cell_type": "code",
   "execution_count": 36,
   "id": "96855b71-c4f4-4fe1-9ff3-0272ff490741",
   "metadata": {},
   "outputs": [
    {
     "name": "stdout",
     "output_type": "stream",
     "text": [
      "India\n",
      "<class 'str'>\n"
     ]
    }
   ],
   "source": [
    "b = \"India\"\n",
    "\n",
    "print(b)\n",
    "\n",
    "print(type(b))"
   ]
  },
  {
   "cell_type": "code",
   "execution_count": 38,
   "id": "f944cdfd-c3bd-4f13-a57c-4ca0bfb11b83",
   "metadata": {},
   "outputs": [
    {
     "name": "stdout",
     "output_type": "stream",
     "text": [
      "Z\n",
      "<class 'str'>\n"
     ]
    }
   ],
   "source": [
    "c = \"Z\"\n",
    "\n",
    "print(c)\n",
    "\n",
    "print(type(c))"
   ]
  },
  {
   "cell_type": "code",
   "execution_count": 40,
   "id": "b6cf87d2-d262-43ae-8836-31f624499e98",
   "metadata": {},
   "outputs": [
    {
     "name": "stdout",
     "output_type": "stream",
     "text": [
      "10.5\n",
      "<class 'float'>\n"
     ]
    }
   ],
   "source": [
    "d = 10.5\n",
    "\n",
    "print(d)\n",
    "\n",
    "print(type(d))"
   ]
  },
  {
   "cell_type": "markdown",
   "id": "9d17cff6-fc08-48b6-8bc3-197a530608b8",
   "metadata": {},
   "source": [
    "### Data Type Conversion\n",
    "\n",
    "int()\n",
    "\n",
    "float()\n",
    "\n",
    "str()"
   ]
  },
  {
   "cell_type": "code",
   "execution_count": 42,
   "id": "78d940c4-2f83-4fe4-aaf3-9e50d4dafa1c",
   "metadata": {},
   "outputs": [
    {
     "name": "stdout",
     "output_type": "stream",
     "text": [
      "<class 'float'>\n",
      "10\n",
      "<class 'int'>\n"
     ]
    }
   ],
   "source": [
    "a = 10.5\n",
    "\n",
    "print(type(a))\n",
    "\n",
    "b = int(a)\n",
    "\n",
    "print(b)\n",
    "\n",
    "print(type(b))"
   ]
  },
  {
   "cell_type": "code",
   "execution_count": 44,
   "id": "b60a4bdd-18c9-4228-9ed9-41f068014dda",
   "metadata": {},
   "outputs": [
    {
     "name": "stdout",
     "output_type": "stream",
     "text": [
      "<class 'str'>\n",
      "10\n",
      "<class 'int'>\n"
     ]
    }
   ],
   "source": [
    "a = \"10\"\n",
    "\n",
    "print(type(a))\n",
    "\n",
    "b = int(a)\n",
    "\n",
    "print(b)\n",
    "\n",
    "print(type(b))"
   ]
  },
  {
   "cell_type": "code",
   "execution_count": 46,
   "id": "7587a3ad-4212-469c-9c97-d4fadcfcad9a",
   "metadata": {},
   "outputs": [
    {
     "ename": "ValueError",
     "evalue": "invalid literal for int() with base 10: 'Cat'",
     "output_type": "error",
     "traceback": [
      "\u001b[0;31m---------------------------------------------------------------------------\u001b[0m",
      "\u001b[0;31mValueError\u001b[0m                                Traceback (most recent call last)",
      "Cell \u001b[0;32mIn[46], line 3\u001b[0m\n\u001b[1;32m      1\u001b[0m a \u001b[38;5;241m=\u001b[39m \u001b[38;5;124m\"\u001b[39m\u001b[38;5;124mCat\u001b[39m\u001b[38;5;124m\"\u001b[39m\n\u001b[0;32m----> 3\u001b[0m \u001b[38;5;28mprint\u001b[39m(\u001b[38;5;28mint\u001b[39m(a))\n",
      "\u001b[0;31mValueError\u001b[0m: invalid literal for int() with base 10: 'Cat'"
     ]
    }
   ],
   "source": [
    "a = \"Cat\"\n",
    "\n",
    "print(int(a))"
   ]
  },
  {
   "cell_type": "code",
   "execution_count": null,
   "id": "0e3338d8-0f88-4ba7-9709-a12341e204ba",
   "metadata": {},
   "outputs": [],
   "source": []
  },
  {
   "cell_type": "markdown",
   "id": "3f2ba589-b125-42ed-94be-02c38b32f760",
   "metadata": {},
   "source": [
    "## User Input\n",
    "\n",
    "### Input Function\n"
   ]
  },
  {
   "cell_type": "code",
   "execution_count": 49,
   "id": "abfedc23-5f40-45b9-b2b1-5f3052817337",
   "metadata": {},
   "outputs": [
    {
     "name": "stdin",
     "output_type": "stream",
     "text": [
      " 10\n"
     ]
    },
    {
     "name": "stdout",
     "output_type": "stream",
     "text": [
      "10\n"
     ]
    }
   ],
   "source": [
    "a = input()\n",
    "\n",
    "print(a)"
   ]
  },
  {
   "cell_type": "code",
   "execution_count": 51,
   "id": "c71e279a-335c-457e-a9fa-02174c9081ae",
   "metadata": {},
   "outputs": [
    {
     "name": "stdin",
     "output_type": "stream",
     "text": [
      "Enter a Number: 10\n"
     ]
    },
    {
     "name": "stdout",
     "output_type": "stream",
     "text": [
      "10\n"
     ]
    }
   ],
   "source": [
    "a = input(\"Enter a Number:\")\n",
    "\n",
    "print(a)"
   ]
  },
  {
   "cell_type": "code",
   "execution_count": 53,
   "id": "6db92f2f-8f14-4899-af38-ee3524f5303b",
   "metadata": {},
   "outputs": [
    {
     "name": "stdin",
     "output_type": "stream",
     "text": [
      "Enter Your Name: Himanshu\n"
     ]
    },
    {
     "name": "stdout",
     "output_type": "stream",
     "text": [
      "Hi Himanshu\n"
     ]
    }
   ],
   "source": [
    "a = input(\"Enter Your Name:\")\n",
    "# a = \"Himanshu\"\n",
    "\n",
    "print(\"Hi\", a)"
   ]
  },
  {
   "cell_type": "code",
   "execution_count": null,
   "id": "e66ccddd-59ea-4687-9c7e-51de5873ed01",
   "metadata": {},
   "outputs": [],
   "source": []
  },
  {
   "cell_type": "markdown",
   "id": "1f59fc09-a873-4459-82f3-c7e610bb4e40",
   "metadata": {},
   "source": [
    "## First Python Program of Yours\n",
    "\n",
    "\n",
    "**Write a program to enter 2 numbers from user and print addition of them?**"
   ]
  },
  {
   "cell_type": "code",
   "execution_count": 56,
   "id": "ab17e2c5-02a7-488a-b0f4-a9c9a77e9a3f",
   "metadata": {},
   "outputs": [
    {
     "name": "stdin",
     "output_type": "stream",
     "text": [
      "Enter Your 1st Number: 10\n",
      "Enter Your 2nd Number: 20\n"
     ]
    },
    {
     "name": "stdout",
     "output_type": "stream",
     "text": [
      "1020\n"
     ]
    }
   ],
   "source": [
    "a = input(\"Enter Your 1st Number:\")\n",
    "b = input(\"Enter Your 2nd Number:\")\n",
    "\n",
    "c = a + b\n",
    "\n",
    "print(c)"
   ]
  },
  {
   "cell_type": "code",
   "execution_count": 58,
   "id": "6d871a0a-f717-4a65-a44b-21dd4158abba",
   "metadata": {},
   "outputs": [
    {
     "data": {
      "text/plain": [
       "'1020'"
      ]
     },
     "execution_count": 58,
     "metadata": {},
     "output_type": "execute_result"
    }
   ],
   "source": [
    "\"10\" + \"20\""
   ]
  },
  {
   "cell_type": "code",
   "execution_count": 60,
   "id": "caabfc67-51a2-478c-b49d-c61ede975cfe",
   "metadata": {},
   "outputs": [
    {
     "name": "stdin",
     "output_type": "stream",
     "text": [
      "Enter Your 1st Number: 10\n",
      "Enter Your 2nd Number: 20\n"
     ]
    },
    {
     "name": "stdout",
     "output_type": "stream",
     "text": [
      "30\n"
     ]
    }
   ],
   "source": [
    "a = int(input(\"Enter Your 1st Number:\"))\n",
    "b = int(input(\"Enter Your 2nd Number:\"))\n",
    "\n",
    "c = a + b\n",
    "\n",
    "print(c)"
   ]
  },
  {
   "cell_type": "code",
   "execution_count": null,
   "id": "41b60af3-9b75-4011-b29a-b6fd77499096",
   "metadata": {},
   "outputs": [],
   "source": []
  }
 ],
 "metadata": {
  "kernelspec": {
   "display_name": "Python [conda env:base] *",
   "language": "python",
   "name": "conda-base-py"
  },
  "language_info": {
   "codemirror_mode": {
    "name": "ipython",
    "version": 3
   },
   "file_extension": ".py",
   "mimetype": "text/x-python",
   "name": "python",
   "nbconvert_exporter": "python",
   "pygments_lexer": "ipython3",
   "version": "3.12.7"
  }
 },
 "nbformat": 4,
 "nbformat_minor": 5
}

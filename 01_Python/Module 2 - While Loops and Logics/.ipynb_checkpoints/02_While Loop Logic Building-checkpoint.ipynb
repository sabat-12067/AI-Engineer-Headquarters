{
 "cells": [
  {
   "cell_type": "markdown",
   "id": "9cb8a887-d83f-4a7c-bcfd-c3c0a69d0524",
   "metadata": {},
   "source": [
    "# While Loop Logic Building [Code with Me]\n"
   ]
  },
  {
   "cell_type": "code",
   "execution_count": null,
   "id": "5dae0943-9ab3-4621-b17c-db21208fe92f",
   "metadata": {},
   "outputs": [],
   "source": []
  },
  {
   "cell_type": "markdown",
   "id": "4b94aa76-ceb3-49c5-a85c-22864111d9fc",
   "metadata": {},
   "source": [
    "**Write a program to enter a number from user and print reverse of it**"
   ]
  },
  {
   "cell_type": "code",
   "execution_count": null,
   "id": "2dd3cbce-4f53-4e35-9949-275c3264e593",
   "metadata": {},
   "outputs": [],
   "source": [
    "153\n",
    "\n",
    "351"
   ]
  },
  {
   "cell_type": "code",
   "execution_count": null,
   "id": "5bf67917-6ff4-40dc-88b8-0f5c747a94b1",
   "metadata": {},
   "outputs": [],
   "source": [
    "153  %  10  = 3\n",
    "153  // 10  = 15\n",
    "\n",
    "15 % 10 = 5\n",
    "15 // 10 = 1\n",
    "\n",
    "1 % 10 = 1\n",
    "1 // 10 = 0\n"
   ]
  },
  {
   "cell_type": "code",
   "execution_count": 9,
   "id": "34603ef4-30ef-46b7-9e8c-d73ee845653a",
   "metadata": {},
   "outputs": [
    {
     "name": "stdin",
     "output_type": "stream",
     "text": [
      "Enter a number:  100\n"
     ]
    },
    {
     "name": "stdout",
     "output_type": "stream",
     "text": [
      "001"
     ]
    }
   ],
   "source": [
    "n = int(input(\"Enter a number: \"))\n",
    "\n",
    "while n > 0:\n",
    "    r = n % 10              # r = 3, 5, 1\n",
    "    print(r, end='')        # 351\n",
    "    n = n // 10             # n = 153, 15, 1, 0"
   ]
  },
  {
   "cell_type": "markdown",
   "id": "078771a8-6ba7-4c1a-add3-6d6c70e9ca17",
   "metadata": {},
   "source": [
    "**Write a program to enter a number from user and print sum of its individual digits**"
   ]
  },
  {
   "cell_type": "code",
   "execution_count": null,
   "id": "f8f42607-49ca-4e9f-97a3-d296f7c54e9c",
   "metadata": {},
   "outputs": [],
   "source": [
    "153\n",
    "\n",
    "1 + 5 + 3 = 9"
   ]
  },
  {
   "cell_type": "code",
   "execution_count": 13,
   "id": "c559d6e1-c5e3-47f1-9bb1-c9132964888d",
   "metadata": {},
   "outputs": [
    {
     "name": "stdin",
     "output_type": "stream",
     "text": [
      "Enter a number:  12345\n"
     ]
    },
    {
     "name": "stdout",
     "output_type": "stream",
     "text": [
      "Sum = 15\n"
     ]
    }
   ],
   "source": [
    "n = int(input(\"Enter a number: \"))\n",
    "\n",
    "s = 0\n",
    "\n",
    "while n > 0:\n",
    "    r = n % 10              # r = 3, 5, 1\n",
    "    s = s + r               # s = 0, 3, 8, 9\n",
    "    n = n // 10             # n = 153, 15, 1, 0\n",
    "\n",
    "print(\"Sum =\", s)"
   ]
  },
  {
   "cell_type": "markdown",
   "id": "d90b827a-22fb-4422-bcfe-04a628b90200",
   "metadata": {},
   "source": [
    "**Reverse of a number again**"
   ]
  },
  {
   "cell_type": "code",
   "execution_count": null,
   "id": "50e9b5a0-b303-42a9-83f3-25f2db1c6297",
   "metadata": {},
   "outputs": [],
   "source": []
  },
  {
   "cell_type": "code",
   "execution_count": null,
   "id": "40224a84-57b5-4ad9-87ae-176153b06181",
   "metadata": {},
   "outputs": [],
   "source": []
  },
  {
   "cell_type": "markdown",
   "id": "da09adf7-988a-4897-8259-dfc890ece7d3",
   "metadata": {},
   "source": [
    "**Write a program to enter a number from user and check if it is palindrome or not**"
   ]
  },
  {
   "cell_type": "code",
   "execution_count": null,
   "id": "b5c96f0d-580b-4bb3-a8ff-4841aca75195",
   "metadata": {},
   "outputs": [],
   "source": []
  },
  {
   "cell_type": "code",
   "execution_count": null,
   "id": "99b5aad0-45b6-4b6c-be55-4837d9b1af7b",
   "metadata": {},
   "outputs": [],
   "source": []
  },
  {
   "cell_type": "markdown",
   "id": "454c47a6-7651-4dec-88e0-25e6de397e9b",
   "metadata": {},
   "source": [
    "**Write a program to enter a number from user and check if it is armstrong number or not**"
   ]
  },
  {
   "cell_type": "code",
   "execution_count": null,
   "id": "2380623e-6aee-42f8-b166-2be1a6bb2185",
   "metadata": {},
   "outputs": [],
   "source": []
  },
  {
   "cell_type": "code",
   "execution_count": null,
   "id": "4d7e200a-c8fc-4497-8349-98c1d8f6bc3b",
   "metadata": {},
   "outputs": [],
   "source": []
  },
  {
   "cell_type": "markdown",
   "id": "0f12a88a-6323-4237-8a27-8190034b8b51",
   "metadata": {},
   "source": [
    "**Write a program to enter a number from user and print its individual digits on seperate line**"
   ]
  },
  {
   "cell_type": "code",
   "execution_count": null,
   "id": "fbce7f34-432d-45a8-b8d3-853c44d544c1",
   "metadata": {},
   "outputs": [],
   "source": []
  },
  {
   "cell_type": "code",
   "execution_count": null,
   "id": "2bbdf21f-2e26-45b5-a023-d7a734ea6f7b",
   "metadata": {},
   "outputs": [],
   "source": []
  },
  {
   "cell_type": "markdown",
   "id": "53925afd-402f-4f23-93f5-12c6e717c7a8",
   "metadata": {},
   "source": [
    "**Write a program to enter a number from user and print its individual digits in character format**"
   ]
  },
  {
   "cell_type": "code",
   "execution_count": null,
   "id": "03b2f92a-b7b3-4e55-8e7a-65388faba2d8",
   "metadata": {},
   "outputs": [],
   "source": []
  },
  {
   "cell_type": "code",
   "execution_count": null,
   "id": "c43655fa-cb50-4591-84c8-1de73b87cb4d",
   "metadata": {},
   "outputs": [],
   "source": []
  },
  {
   "cell_type": "markdown",
   "id": "ec63970d-ca2f-48fc-b992-4e917b33a2e6",
   "metadata": {},
   "source": [
    "**Write a program to enter a number from user and print factorial of it**"
   ]
  },
  {
   "cell_type": "code",
   "execution_count": null,
   "id": "22212b40-f1fb-4000-9b54-254528396622",
   "metadata": {},
   "outputs": [],
   "source": []
  },
  {
   "cell_type": "code",
   "execution_count": null,
   "id": "f64a0ac6-c19d-4c6b-9f56-0abb748a3909",
   "metadata": {},
   "outputs": [],
   "source": []
  }
 ],
 "metadata": {
  "kernelspec": {
   "display_name": "Python 3 (ipykernel)",
   "language": "python",
   "name": "python3"
  },
  "language_info": {
   "codemirror_mode": {
    "name": "ipython",
    "version": 3
   },
   "file_extension": ".py",
   "mimetype": "text/x-python",
   "name": "python",
   "nbconvert_exporter": "python",
   "pygments_lexer": "ipython3",
   "version": "3.12.7"
  }
 },
 "nbformat": 4,
 "nbformat_minor": 5
}

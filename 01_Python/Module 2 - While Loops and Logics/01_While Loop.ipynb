{
 "cells": [
  {
   "cell_type": "markdown",
   "id": "53d2507b-12d7-4b1d-91d8-90972f76fe7c",
   "metadata": {},
   "source": [
    "# While Loop\n",
    "\n",
    "- How While loop works?\n",
    "- How print function exactly change the line?\n",
    "- Series based questions"
   ]
  },
  {
   "cell_type": "code",
   "execution_count": null,
   "id": "31853cd2-190d-4c61-9505-be8a8dc09a1d",
   "metadata": {},
   "outputs": [],
   "source": []
  },
  {
   "cell_type": "markdown",
   "id": "79df3c6d-bfdd-4d3c-bb21-09a955cc09be",
   "metadata": {},
   "source": [
    "## How While loop works?\n"
   ]
  },
  {
   "cell_type": "code",
   "execution_count": 16,
   "id": "df0b86b4-d940-41f7-9d8b-e05006f10718",
   "metadata": {},
   "outputs": [
    {
     "name": "stdout",
     "output_type": "stream",
     "text": [
      "Himanshu\n"
     ]
    }
   ],
   "source": [
    "print(\"Himanshu\")"
   ]
  },
  {
   "cell_type": "code",
   "execution_count": 18,
   "id": "144a32b5-cc10-465c-9e57-c3d52103b92b",
   "metadata": {},
   "outputs": [
    {
     "name": "stdout",
     "output_type": "stream",
     "text": [
      "Himanshu\n",
      "Himanshu\n",
      "Himanshu\n",
      "Himanshu\n",
      "Himanshu\n"
     ]
    }
   ],
   "source": [
    "i = 1\n",
    "\n",
    "#     6 <= 5\n",
    "while i <= 5:\n",
    "    print(\"Himanshu\")\n",
    "    i += 1             # i = i + 1"
   ]
  },
  {
   "cell_type": "code",
   "execution_count": 20,
   "id": "53bb220e-ae2c-4efb-b48b-55bd95959457",
   "metadata": {},
   "outputs": [
    {
     "name": "stdout",
     "output_type": "stream",
     "text": [
      "Himanshu\n",
      "Himanshu\n",
      "Himanshu\n",
      "Himanshu\n",
      "Himanshu\n",
      "Himanshu\n",
      "Himanshu\n",
      "Himanshu\n",
      "Himanshu\n",
      "Himanshu\n"
     ]
    }
   ],
   "source": [
    "i = 1\n",
    "\n",
    "#     1 <= 10\n",
    "while i <= 10:\n",
    "    print(\"Himanshu\")\n",
    "    i += 1             # i = i + 1"
   ]
  },
  {
   "cell_type": "code",
   "execution_count": 22,
   "id": "c2840a02-9056-4bcd-a3cf-408bf6c6d58a",
   "metadata": {},
   "outputs": [],
   "source": [
    "i = 1\n",
    "\n",
    "while i <= 0:\n",
    "    print(\"India\")\n",
    "    i += 1"
   ]
  },
  {
   "cell_type": "code",
   "execution_count": 24,
   "id": "b5bdfaec-890d-44b6-9176-f008b9d4f870",
   "metadata": {
    "scrolled": true
   },
   "outputs": [
    {
     "name": "stdout",
     "output_type": "stream",
     "text": [
      "Mumbai\n"
     ]
    }
   ],
   "source": [
    "i = 1\n",
    "\n",
    "while i <= 0:\n",
    "    print(\"India\")\n",
    "    i += 1\n",
    "print(\"Mumbai\")"
   ]
  },
  {
   "cell_type": "code",
   "execution_count": null,
   "id": "ede72b6e-54b9-45c0-8e36-053d933dffa4",
   "metadata": {},
   "outputs": [],
   "source": [
    "1\n",
    "2\n",
    "3\n",
    "4\n",
    "5\n",
    "6\n",
    "7\n",
    "8\n",
    "9\n",
    "10"
   ]
  },
  {
   "cell_type": "code",
   "execution_count": 26,
   "id": "6450e060-282b-4e48-ba24-42c3289f57b1",
   "metadata": {},
   "outputs": [
    {
     "name": "stdout",
     "output_type": "stream",
     "text": [
      "1\n",
      "2\n",
      "3\n",
      "4\n",
      "5\n",
      "6\n",
      "7\n",
      "8\n",
      "9\n",
      "10\n"
     ]
    }
   ],
   "source": [
    "i = 1\n",
    "\n",
    "while i <= 10:\n",
    "    print(i)\n",
    "    i += 1"
   ]
  },
  {
   "cell_type": "markdown",
   "id": "87d517b9-416e-4b40-a3d9-c0abbad0a8f6",
   "metadata": {},
   "source": [
    "## How print function exactly change the line?\n"
   ]
  },
  {
   "cell_type": "code",
   "execution_count": 29,
   "id": "1f1200eb-dd80-4b17-a22a-13e42695f0ec",
   "metadata": {},
   "outputs": [
    {
     "name": "stdout",
     "output_type": "stream",
     "text": [
      "Hello\n",
      "World\n"
     ]
    }
   ],
   "source": [
    "print(\"Hello\")\n",
    "print(\"World\")"
   ]
  },
  {
   "cell_type": "code",
   "execution_count": 31,
   "id": "e8ea7d3a-032f-4f06-a227-f85922000a03",
   "metadata": {},
   "outputs": [
    {
     "name": "stdout",
     "output_type": "stream",
     "text": [
      "Hello\n",
      "World\n"
     ]
    }
   ],
   "source": [
    "print(\"Hello\\nWorld\")"
   ]
  },
  {
   "cell_type": "code",
   "execution_count": 33,
   "id": "7edf2d6e-00bb-4462-9acb-86bfab650ec4",
   "metadata": {},
   "outputs": [
    {
     "name": "stdout",
     "output_type": "stream",
     "text": [
      "Hello\n",
      "World\n"
     ]
    }
   ],
   "source": [
    "print(\"Hello\", end='\\n')    ## \"Hello\" + '\\n' => \"Hello\\n\"\n",
    "print(\"World\")"
   ]
  },
  {
   "cell_type": "code",
   "execution_count": 35,
   "id": "6f08aee2-f726-44e9-b8e1-01e7df17ec9b",
   "metadata": {},
   "outputs": [
    {
     "name": "stdout",
     "output_type": "stream",
     "text": [
      "Hello World\n"
     ]
    }
   ],
   "source": [
    "print(\"Hello\", end=' ')    ## \"Hello\" + ' ' => \"Hello \"\n",
    "print(\"World\")"
   ]
  },
  {
   "cell_type": "code",
   "execution_count": 37,
   "id": "f985c252-2b28-48a2-8755-8b49da9256d1",
   "metadata": {},
   "outputs": [
    {
     "name": "stdout",
     "output_type": "stream",
     "text": [
      "HelloWorld\n"
     ]
    }
   ],
   "source": [
    "print(\"Hello\", end='')    ## \"Hello\" + '' => \"Hello\"\n",
    "print(\"World\")"
   ]
  },
  {
   "cell_type": "code",
   "execution_count": 39,
   "id": "c89babdc-7da5-4dd1-9a27-28b34f10405c",
   "metadata": {},
   "outputs": [
    {
     "name": "stdout",
     "output_type": "stream",
     "text": [
      "Hello+++World\n"
     ]
    }
   ],
   "source": [
    "print(\"Hello\", end='+++')    ## \"Hello\" + '+++' => \"Hello+++\"\n",
    "print(\"World\")"
   ]
  },
  {
   "cell_type": "code",
   "execution_count": null,
   "id": "18814d4b-b256-4f7f-ab5d-21f7c560a0c5",
   "metadata": {},
   "outputs": [],
   "source": []
  },
  {
   "cell_type": "code",
   "execution_count": null,
   "id": "569736e2-10d1-4553-8bc4-7f7c8cfdeb39",
   "metadata": {},
   "outputs": [],
   "source": []
  },
  {
   "cell_type": "markdown",
   "id": "60917d23-af4d-4bef-b33b-3c7f7d20382e",
   "metadata": {},
   "source": [
    "## Series based questions"
   ]
  },
  {
   "cell_type": "markdown",
   "id": "0c09a54a-921d-443b-8762-8e7f22e46a22",
   "metadata": {},
   "source": [
    "**Write a program to print following series**"
   ]
  },
  {
   "cell_type": "code",
   "execution_count": null,
   "id": "a094be42-3b63-44c3-b654-51f7f2f702be",
   "metadata": {},
   "outputs": [],
   "source": [
    "1 2 3 4 5 6 7 8 9 10"
   ]
  },
  {
   "cell_type": "code",
   "execution_count": 41,
   "id": "e31729c2-6a96-4eca-a196-75675baa36e4",
   "metadata": {},
   "outputs": [
    {
     "name": "stdout",
     "output_type": "stream",
     "text": [
      "1  2  3  4  5  6  7  8  9  10  "
     ]
    }
   ],
   "source": [
    "i = 1\n",
    "\n",
    "while i <= 10:\n",
    "    print(i, end='  ')\n",
    "    i += 1"
   ]
  },
  {
   "cell_type": "code",
   "execution_count": null,
   "id": "cd159149-0267-46db-a688-dccd3575bb8c",
   "metadata": {},
   "outputs": [],
   "source": [
    "1 4 9 16 25 36 49 64 81 100"
   ]
  },
  {
   "cell_type": "code",
   "execution_count": 45,
   "id": "73cbf6b0-658f-4329-aa10-e15dea80e155",
   "metadata": {},
   "outputs": [
    {
     "name": "stdout",
     "output_type": "stream",
     "text": [
      "16\n"
     ]
    }
   ],
   "source": [
    "print(4 * 4)"
   ]
  },
  {
   "cell_type": "code",
   "execution_count": 47,
   "id": "954b901b-722b-4527-a977-b451bd43ae71",
   "metadata": {},
   "outputs": [
    {
     "name": "stdout",
     "output_type": "stream",
     "text": [
      "1  4  9  16  25  36  49  64  81  100  "
     ]
    }
   ],
   "source": [
    "i = 1\n",
    "\n",
    "while i <= 10:\n",
    "    print(i * i, end='  ')\n",
    "    i += 1"
   ]
  },
  {
   "cell_type": "code",
   "execution_count": null,
   "id": "321ea390-c4e4-4e09-a732-7420f025d6c3",
   "metadata": {},
   "outputs": [],
   "source": []
  },
  {
   "cell_type": "code",
   "execution_count": null,
   "id": "3160ad10-328f-4f0c-94e9-d23960293d9d",
   "metadata": {},
   "outputs": [],
   "source": [
    "1/1 2/4 3/9 4/16 5/25 6/36 7/49 8/64 9/81 10/100"
   ]
  },
  {
   "cell_type": "code",
   "execution_count": 49,
   "id": "608af6cd-e1ca-467e-81f0-e2909eccb5b0",
   "metadata": {},
   "outputs": [
    {
     "name": "stdout",
     "output_type": "stream",
     "text": [
      "1/1  2/4  3/9  4/16  5/25  6/36  7/49  8/64  9/81  10/100  "
     ]
    }
   ],
   "source": [
    "i = 1\n",
    "\n",
    "while i <= 10:\n",
    "    print(i, end='/')\n",
    "    print(i * i, end='  ')\n",
    "    i += 1"
   ]
  },
  {
   "cell_type": "code",
   "execution_count": null,
   "id": "14944d07-1358-4a1d-a116-50b1552033e1",
   "metadata": {},
   "outputs": [],
   "source": []
  },
  {
   "cell_type": "code",
   "execution_count": null,
   "id": "bab27db8-68ab-4b64-b294-5a8c868e3035",
   "metadata": {},
   "outputs": [],
   "source": [
    "1 + 2 + 3 + 4 + 5 + 6 + 7 + 8 + 9 + 10"
   ]
  },
  {
   "cell_type": "code",
   "execution_count": 51,
   "id": "aedbc70c-75ee-4519-842c-4d2ff3b5f054",
   "metadata": {},
   "outputs": [
    {
     "name": "stdout",
     "output_type": "stream",
     "text": [
      "1+2+3+4+5+6+7+8+9+10+"
     ]
    }
   ],
   "source": [
    "i = 1\n",
    "\n",
    "while i <= 10:\n",
    "    print(i, end='+')\n",
    "    i += 1"
   ]
  },
  {
   "cell_type": "code",
   "execution_count": 53,
   "id": "61b4d619-62ea-443e-b162-adec68dae3f7",
   "metadata": {},
   "outputs": [
    {
     "name": "stdout",
     "output_type": "stream",
     "text": [
      "1 + 2 + 3 + 4 + 5 + 6 + 7 + 8 + 9 + 10 + "
     ]
    }
   ],
   "source": [
    "i = 1\n",
    "\n",
    "while i <= 10:\n",
    "    print(i, end=' + ')\n",
    "    i += 1"
   ]
  },
  {
   "cell_type": "code",
   "execution_count": 57,
   "id": "ae588cc3-0339-44c5-857e-f0b462e32403",
   "metadata": {},
   "outputs": [
    {
     "name": "stdout",
     "output_type": "stream",
     "text": [
      "1 + 2 + 3 + 4 + 5 + 6 + 7 + 8 + 9 + 10\n"
     ]
    }
   ],
   "source": [
    "i = 1\n",
    "\n",
    "while i <= 10:\n",
    "    if i < 10:\n",
    "        print(i, end=' + ')\n",
    "    else:\n",
    "        print(i)\n",
    "    i += 1"
   ]
  },
  {
   "cell_type": "code",
   "execution_count": null,
   "id": "a4145a19-c41f-4558-adac-afd67f811c2b",
   "metadata": {},
   "outputs": [],
   "source": []
  }
 ],
 "metadata": {
  "kernelspec": {
   "display_name": "Python 3 (ipykernel)",
   "language": "python",
   "name": "python3"
  },
  "language_info": {
   "codemirror_mode": {
    "name": "ipython",
    "version": 3
   },
   "file_extension": ".py",
   "mimetype": "text/x-python",
   "name": "python",
   "nbconvert_exporter": "python",
   "pygments_lexer": "ipython3",
   "version": "3.12.7"
  }
 },
 "nbformat": 4,
 "nbformat_minor": 5
}

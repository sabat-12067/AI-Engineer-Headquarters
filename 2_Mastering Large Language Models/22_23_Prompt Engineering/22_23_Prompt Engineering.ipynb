{
 "cells": [
  {
   "cell_type": "markdown",
   "id": "96a6dadc-9927-490b-9681-e518cfcb5b15",
   "metadata": {},
   "source": [
    "# Prompt Engineering\n",
    "\n",
    "https://github.com/snwfdhmp/awesome-gpt-prompt-engineering"
   ]
  },
  {
   "cell_type": "code",
   "execution_count": null,
   "id": "69315bc7-8d1f-4703-9141-6b4a5e48a763",
   "metadata": {},
   "outputs": [],
   "source": [
    "print(\"whatever\")"
   ]
  },
  {
   "cell_type": "code",
   "execution_count": null,
   "id": "0f43417c-940b-4fb0-b4d2-db147f7db2f7",
   "metadata": {},
   "outputs": [],
   "source": [
    "Hi, how are you?"
   ]
  },
  {
   "cell_type": "code",
   "execution_count": null,
   "id": "a05ac881-c655-42fe-a983-46ab0531d456",
   "metadata": {},
   "outputs": [],
   "source": [
    "format\n",
    "tone\n",
    "constraints\n",
    "\n",
    "context - act as an engineer"
   ]
  },
  {
   "cell_type": "code",
   "execution_count": null,
   "id": "f08d4213-0249-4f5c-9de7-4acd0132cc54",
   "metadata": {},
   "outputs": [],
   "source": []
  },
  {
   "cell_type": "code",
   "execution_count": null,
   "id": "86dc1c32-e016-4000-9492-465a1bda3a20",
   "metadata": {},
   "outputs": [],
   "source": []
  },
  {
   "cell_type": "markdown",
   "id": "ef8e1b84-2528-4b60-97a1-56ceee654500",
   "metadata": {},
   "source": [
    "# Zero Shot"
   ]
  },
  {
   "cell_type": "code",
   "execution_count": null,
   "id": "dc46ca13-14a0-43a8-9f5c-3c6b4fe1789e",
   "metadata": {},
   "outputs": [],
   "source": [
    "no specific examples are given"
   ]
  },
  {
   "cell_type": "code",
   "execution_count": null,
   "id": "f14549f1-4112-49ce-a7fa-8f4b30f661c8",
   "metadata": {},
   "outputs": [],
   "source": [
    "classify this text as positive or negative: \"your t-shirt is killer\""
   ]
  },
  {
   "cell_type": "code",
   "execution_count": null,
   "id": "93a6a21c-2413-41dc-941c-581f1f1abea1",
   "metadata": {},
   "outputs": [],
   "source": []
  },
  {
   "cell_type": "code",
   "execution_count": null,
   "id": "7e6ffb7d-a85c-4f09-985a-af9a9e6afe41",
   "metadata": {},
   "outputs": [],
   "source": []
  },
  {
   "cell_type": "code",
   "execution_count": null,
   "id": "0a0e26ef-5a5b-4963-bf78-1974920a6e3d",
   "metadata": {},
   "outputs": [],
   "source": []
  },
  {
   "cell_type": "markdown",
   "id": "0bd93744-4df6-4e5a-8b69-f198c6cd4ab5",
   "metadata": {},
   "source": [
    "# Few Shot\n"
   ]
  },
  {
   "cell_type": "code",
   "execution_count": null,
   "id": "67d96722-4dc5-4c08-ae5e-b72aa6b3c2cc",
   "metadata": {},
   "outputs": [],
   "source": [
    "few examples were mentioned with the prompt"
   ]
  },
  {
   "cell_type": "code",
   "execution_count": null,
   "id": "96c2803a-7ed1-413c-886e-2cf56688e674",
   "metadata": {},
   "outputs": [],
   "source": [
    "classify the following reviews as positive or negative: \n",
    "\n",
    "1. \"I loved the food, it was delicious!\" -> positive\n",
    "2. \"the service was slow and rude\" -> negative\n",
    "3. \"amazing atmosphere and great music\" -> positive\n",
    "\n",
    "now classify this review: \"The pizza was cold and tasteless\""
   ]
  },
  {
   "cell_type": "code",
   "execution_count": null,
   "id": "2c99886b-ed2e-4fd2-b60e-75ff90756040",
   "metadata": {},
   "outputs": [],
   "source": []
  },
  {
   "cell_type": "code",
   "execution_count": null,
   "id": "56abadc5-6398-4e0d-8a18-f5f592cb58c7",
   "metadata": {},
   "outputs": [],
   "source": []
  },
  {
   "cell_type": "markdown",
   "id": "38b2f74a-d8a3-491d-8e4b-b514a2121237",
   "metadata": {},
   "source": [
    "# Chain of Thoughts (CoT)"
   ]
  },
  {
   "cell_type": "code",
   "execution_count": null,
   "id": "a84ef1a9-e29e-4cdd-8ee7-415959f67e3b",
   "metadata": {},
   "outputs": [],
   "source": [
    "llm will break down a problem into steps"
   ]
  },
  {
   "cell_type": "code",
   "execution_count": null,
   "id": "9e2d0004-b869-45b1-8332-e98bd356d40c",
   "metadata": {},
   "outputs": [],
   "source": [
    "solve this math problem step by step: 65 * 85"
   ]
  },
  {
   "cell_type": "code",
   "execution_count": null,
   "id": "8f097f4f-1857-4add-9746-89e72b357ca6",
   "metadata": {},
   "outputs": [],
   "source": []
  },
  {
   "cell_type": "markdown",
   "id": "22110e60-e1ed-4733-9a8f-d81542ff4ed9",
   "metadata": {},
   "source": [
    "# Tree of Thoughts"
   ]
  },
  {
   "cell_type": "code",
   "execution_count": null,
   "id": "72a3f59b-dae1-477f-a96f-33f263fbd39c",
   "metadata": {},
   "outputs": [],
   "source": [
    "llm explores multiple reasoning paths - decision tree \n",
    "\n",
    "and arrive to the best solution"
   ]
  },
  {
   "cell_type": "code",
   "execution_count": null,
   "id": "30a0f51f-6339-4b80-bc12-6052e8ac1bc5",
   "metadata": {},
   "outputs": [],
   "source": [
    "\"explore two different ways to solve this\""
   ]
  },
  {
   "cell_type": "code",
   "execution_count": null,
   "id": "cc247905-5a5a-46a4-a3b5-f8238e09675b",
   "metadata": {},
   "outputs": [],
   "source": [
    "my prompt: \"if were a prompt engineer expert, how can you make this prompt better/optimum for my requirements, do it for me: act as an AI engineer with 20 years of experience, i want to become an AI engineer, give me a step by step roadmap for the same, add your advice for each step, also give me actionable tips for each step to start working right way\""
   ]
  },
  {
   "cell_type": "code",
   "execution_count": null,
   "id": "ec9bd92f-bab2-409e-9324-7bba07a7dd25",
   "metadata": {},
   "outputs": [],
   "source": [
    "optimized prompt: \"\"\"You are an AI engineer with 20 years of hands-on experience. I’m starting my journey to become an AI engineer from scratch.\n",
    "\n",
    "Give me a detailed step-by-step roadmap to become an AI engineer, covering foundational to advanced topics. For each step, include:\n",
    "\n",
    "What I should learn\n",
    "\n",
    "Your expert advice from real-world experience\n",
    "\n",
    "Practical, actionable tasks I can start today\n",
    "\n",
    "Keep the tone clear and motivating, and structure the answer in a way that I can directly follow as a learning path.\"\"\""
   ]
  },
  {
   "cell_type": "markdown",
   "id": "dcdbbbe9-c154-4ac9-9ee7-61e1f70adb2f",
   "metadata": {},
   "source": [
    "# Day 23\n",
    "\n",
    "### Designing prompts for evaluation [LLM as a judge]\n"
   ]
  },
  {
   "cell_type": "code",
   "execution_count": null,
   "id": "88894a9e-3310-4938-b5bb-7041f9b70322",
   "metadata": {},
   "outputs": [],
   "source": [
    "use an LLM to evaluate outputs "
   ]
  },
  {
   "cell_type": "code",
   "execution_count": null,
   "id": "fd2486dd-fccb-4725-b1ec-e609d6064bac",
   "metadata": {},
   "outputs": [],
   "source": [
    "\"Score this summary from 1-10 based on clarity, conciseness, and accuracy: 'AI is used in healthcare to predict diseases and improve parient outcomes.' \""
   ]
  },
  {
   "cell_type": "code",
   "execution_count": null,
   "id": "d9cde873-8b5f-43e8-a3f2-61c1674dfe4a",
   "metadata": {},
   "outputs": [],
   "source": [
    "\"Compare these two answers to the question 'what is blockchain?' and pick the better one based on depth and clarity\":\n",
    "\n",
    "Answer 1: \"Blockchain is a digital ledger for transactions.\"\n",
    "Answer 2: \"Blockchain is a decentralized, secure ledger that records transactions across multiple computers, ensuring transparency and immutability.\""
   ]
  },
  {
   "cell_type": "code",
   "execution_count": null,
   "id": "2beeddb8-8e91-41f1-a34a-d3c78ea9de48",
   "metadata": {},
   "outputs": [],
   "source": [
    "real world: evalute my blogs:\n",
    "- engagement\n",
    "- SEO"
   ]
  },
  {
   "cell_type": "code",
   "execution_count": null,
   "id": "bad98a79-def4-4126-9d26-8478397d6c11",
   "metadata": {},
   "outputs": [],
   "source": [
    "Determine if this user comment is appropriate or inappropriate for a family-friendly website.\n",
    "Comment: \"This app is awesome, but the ads are super annoying!\"\n",
    "Explain your reasoning."
   ]
  },
  {
   "cell_type": "markdown",
   "id": "581d52f5-bc31-4ae7-b7f0-c31c5365ae82",
   "metadata": {},
   "source": [
    "#### zero-shot "
   ]
  },
  {
   "cell_type": "code",
   "execution_count": null,
   "id": "6b873a8a-961e-464f-9160-132874995d7e",
   "metadata": {},
   "outputs": [],
   "source": [
    "classify this review as positive or negative: \n",
    "'The service was quick, and the staff was friendly'"
   ]
  },
  {
   "cell_type": "markdown",
   "id": "79c2691b-0743-44bd-b5df-b7b98bde8cec",
   "metadata": {},
   "source": [
    "#### few-shot"
   ]
  },
  {
   "cell_type": "code",
   "execution_count": null,
   "id": "e4bbd75c-c869-4137-b776-46c89be910b4",
   "metadata": {},
   "outputs": [],
   "source": [
    "classify these emails as urgent or non-urgent:\n",
    "\n",
    "1. \"My payment failed, and i neet it resolved now\" -> Urgent\n",
    "2. \"can you send me a brochure?\" -> Non-urgent\n",
    "3. \"System error, data loss imminent\" -> urgent\n",
    "\n",
    "now classify this email: 'Please update my subscription plan'"
   ]
  },
  {
   "cell_type": "code",
   "execution_count": null,
   "id": "1707bc0e-dbaa-4fe5-a683-164e14f93b36",
   "metadata": {},
   "outputs": [],
   "source": []
  },
  {
   "cell_type": "code",
   "execution_count": null,
   "id": "bc452c20-08c6-42e4-b508-bb5fb50224cf",
   "metadata": {},
   "outputs": [],
   "source": []
  },
  {
   "cell_type": "code",
   "execution_count": null,
   "id": "ab4c5e45-5db5-434d-a613-3ee9491e8074",
   "metadata": {},
   "outputs": [],
   "source": []
  },
  {
   "cell_type": "code",
   "execution_count": null,
   "id": "8f29b093-b519-46ec-bb6d-2cfa8ff84ef3",
   "metadata": {},
   "outputs": [],
   "source": []
  },
  {
   "cell_type": "code",
   "execution_count": null,
   "id": "cdb6e297-4b6a-4e01-b0fd-4d624c5d8d23",
   "metadata": {},
   "outputs": [],
   "source": []
  }
 ],
 "metadata": {
  "kernelspec": {
   "display_name": "Python 3 (ipykernel)",
   "language": "python",
   "name": "python3"
  },
  "language_info": {
   "codemirror_mode": {
    "name": "ipython",
    "version": 3
   },
   "file_extension": ".py",
   "mimetype": "text/x-python",
   "name": "python",
   "nbconvert_exporter": "python",
   "pygments_lexer": "ipython3",
   "version": "3.12.9"
  }
 },
 "nbformat": 4,
 "nbformat_minor": 5
}

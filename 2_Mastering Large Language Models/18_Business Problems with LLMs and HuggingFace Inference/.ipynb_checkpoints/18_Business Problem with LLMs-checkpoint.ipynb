{
 "cells": [
  {
   "cell_type": "markdown",
   "id": "7a4bbf09-5298-492f-bd1b-ef1d159e0817",
   "metadata": {},
   "source": [
    "# Business Problem Solved by LLMs"
   ]
  },
  {
   "cell_type": "code",
   "execution_count": null,
   "id": "c9a9c76d-40cf-4a34-8de7-27dad93c9916",
   "metadata": {},
   "outputs": [],
   "source": [
    "customer support \n",
    "\n",
    "- chatbots and virtual assistants (banking, e-commerce)\n",
    "- sentiment analysis (customer feedback)\n",
    "- multilingual support"
   ]
  },
  {
   "cell_type": "code",
   "execution_count": null,
   "id": "31fa499c-93aa-4e12-b613-136796870fb5",
   "metadata": {},
   "outputs": [],
   "source": [
    "content generation and marketing\n",
    "\n",
    "- automated content creation (blogs, product description, marketing copy)\n",
    "- personalized marketing"
   ]
  },
  {
   "cell_type": "code",
   "execution_count": null,
   "id": "e2e45350-c4ae-40e1-a9e3-8925653c38fb",
   "metadata": {},
   "outputs": [],
   "source": [
    "data analysis and insights\n",
    "\n",
    "- text summarization\n",
    "- trend analysis\n",
    "- information extraction"
   ]
  },
  {
   "cell_type": "code",
   "execution_count": null,
   "id": "97520f17-3eba-4c00-9e6f-ad66ce183beb",
   "metadata": {},
   "outputs": [],
   "source": [
    "process automation\n",
    "\n",
    "- document processing\n",
    "- email and communication automation\n",
    "- HR application"
   ]
  },
  {
   "cell_type": "code",
   "execution_count": null,
   "id": "22b81326-8afe-47eb-9c29-197848cde5c6",
   "metadata": {},
   "outputs": [],
   "source": []
  },
  {
   "cell_type": "markdown",
   "id": "eeb72a78-920b-46cf-bdcf-13a0bf0dfbb1",
   "metadata": {},
   "source": [
    "# Workflow for Developing LLM-Based Applications"
   ]
  },
  {
   "cell_type": "code",
   "execution_count": null,
   "id": "a2339c61-8ca7-4e19-ab86-4419b2d1e53b",
   "metadata": {},
   "outputs": [],
   "source": [
    "1 - problem and requirements gathering\n",
    "2 - selecting the right LLM\n",
    "    - pre-trained vs custom models\n",
    "    - model size \n",
    "    - provider selection\n",
    "\n",
    "3 - data preperation\n",
    "4 - model customization\n",
    "    - prompt engineering\n",
    "    - fine-tuning\n",
    "    - PEFT\n",
    "5 - integration into apps\n",
    "    - API integration\n",
    "    - UI\n",
    "6 - evaluation and testing\n",
    "    - performance metrics\n",
    "    - human-in-the-loop evaluation\n",
    "7 - deployment\n",
    "    - cloud deployment\n",
    "    - on-premise\n",
    "    - monitoring and logging\n",
    "\n",
    "8 - ethical and security"
   ]
  },
  {
   "cell_type": "code",
   "execution_count": null,
   "id": "2d597ae3-ff31-4467-ac48-f145dd69c315",
   "metadata": {},
   "outputs": [],
   "source": []
  },
  {
   "cell_type": "markdown",
   "id": "fb728e85-0512-4611-9051-92cb4d63fbd4",
   "metadata": {},
   "source": [
    "# Hands-On HuggingFace Demo\n",
    "\n",
    "For Inference"
   ]
  },
  {
   "cell_type": "code",
   "execution_count": null,
   "id": "3b495440-c478-4c2b-b008-4bc38db97bba",
   "metadata": {},
   "outputs": [],
   "source": [
    "paid\n",
    "- azure open AI\n",
    "- aws\n",
    "- GCP"
   ]
  },
  {
   "cell_type": "code",
   "execution_count": null,
   "id": "5a0a2584-c785-4453-8b17-dfde26884f20",
   "metadata": {},
   "outputs": [],
   "source": [
    "free \n",
    "\n",
    "- huggingface\n",
    "- grok API\n",
    "- deepseek API\n",
    "- cloudflare worker AI"
   ]
  },
  {
   "cell_type": "code",
   "execution_count": null,
   "id": "b017496b-2572-4dde-b11f-c7e19b236a7d",
   "metadata": {},
   "outputs": [],
   "source": []
  },
  {
   "cell_type": "code",
   "execution_count": null,
   "id": "79b29586-6194-4206-abb9-2f7031405404",
   "metadata": {},
   "outputs": [],
   "source": []
  }
 ],
 "metadata": {
  "kernelspec": {
   "display_name": "Python 3 (ipykernel)",
   "language": "python",
   "name": "python3"
  },
  "language_info": {
   "codemirror_mode": {
    "name": "ipython",
    "version": 3
   },
   "file_extension": ".py",
   "mimetype": "text/x-python",
   "name": "python",
   "nbconvert_exporter": "python",
   "pygments_lexer": "ipython3",
   "version": "3.12.9"
  }
 },
 "nbformat": 4,
 "nbformat_minor": 5
}

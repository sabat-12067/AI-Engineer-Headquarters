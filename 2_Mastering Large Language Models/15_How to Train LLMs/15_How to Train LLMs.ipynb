{
 "cells": [
  {
   "cell_type": "markdown",
   "id": "c9944964-f9df-4bb9-950d-0ac04d34a21a",
   "metadata": {},
   "source": [
    "# How to train LLMs\n",
    "\n",
    "\n",
    "Demo\n",
    "\n",
    "- training workflow"
   ]
  },
  {
   "cell_type": "code",
   "execution_count": null,
   "id": "c6fb8011-15d2-400c-a31b-75e1a334d7d8",
   "metadata": {},
   "outputs": [],
   "source": [
    "- preprocess code data\n",
    "- fine-tune mistral 7b \n",
    "- inference (flask)"
   ]
  }
 ],
 "metadata": {
  "kernelspec": {
   "display_name": "Python 3 (ipykernel)",
   "language": "python",
   "name": "python3"
  },
  "language_info": {
   "codemirror_mode": {
    "name": "ipython",
    "version": 3
   },
   "file_extension": ".py",
   "mimetype": "text/x-python",
   "name": "python",
   "nbconvert_exporter": "python",
   "pygments_lexer": "ipython3",
   "version": "3.12.9"
  }
 },
 "nbformat": 4,
 "nbformat_minor": 5
}

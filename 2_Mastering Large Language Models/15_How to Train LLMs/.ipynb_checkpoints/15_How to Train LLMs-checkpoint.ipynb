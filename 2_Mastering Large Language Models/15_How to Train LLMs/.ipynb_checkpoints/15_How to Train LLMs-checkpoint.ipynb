{
 "cells": [
  {
   "cell_type": "markdown",
   "id": "23a92512-e697-44af-9376-ad1ac2594bfd",
   "metadata": {},
   "source": [
    "# Resources\n",
    "\n",
    "Comparison of Cloud services: https://docs.google.com/spreadsheets/d/1Zjl2Gp5Rgx4iKpz_-baatKkDW4hp2TF6NZGuq11tTzQ/edit?usp=sharing\n",
    "\n",
    "PPT - How to train LLMs: https://docs.google.com/presentation/d/1zLq5vzzHmdjya6D1PKLbDM5V7ElZi7_EDZFhVwLjAjY/edit?usp=sharing\n",
    "\n",
    "Dataset for code generation: https://huggingface.co/datasets/bigcode/the-stack\n",
    "\n"
   ]
  },
  {
   "cell_type": "markdown",
   "id": "c9944964-f9df-4bb9-950d-0ac04d34a21a",
   "metadata": {},
   "source": [
    "# How to train LLMs\n",
    "\n",
    "\n",
    "Demo\n",
    "\n",
    "- training workflow"
   ]
  },
  {
   "cell_type": "code",
   "execution_count": null,
   "id": "c6fb8011-15d2-400c-a31b-75e1a334d7d8",
   "metadata": {},
   "outputs": [],
   "source": [
    "- preprocess code data\n",
    "- fine-tune mistral 7b \n",
    "- inference (flask)"
   ]
  }
 ],
 "metadata": {
  "kernelspec": {
   "display_name": "Python 3 (ipykernel)",
   "language": "python",
   "name": "python3"
  },
  "language_info": {
   "codemirror_mode": {
    "name": "ipython",
    "version": 3
   },
   "file_extension": ".py",
   "mimetype": "text/x-python",
   "name": "python",
   "nbconvert_exporter": "python",
   "pygments_lexer": "ipython3",
   "version": "3.12.9"
  }
 },
 "nbformat": 4,
 "nbformat_minor": 5
}

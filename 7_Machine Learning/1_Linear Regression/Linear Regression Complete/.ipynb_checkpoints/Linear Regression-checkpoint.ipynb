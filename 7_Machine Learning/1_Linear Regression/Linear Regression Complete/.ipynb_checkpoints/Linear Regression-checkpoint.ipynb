{
 "cells": [
  {
   "cell_type": "markdown",
   "metadata": {},
   "source": [
    "# Objectives\n",
    "1. Understand the concept of simple linear regression and its applications in predictive analytics.\n",
    "2. Learn to build simple linear regression models using the Python package statsmodel."
   ]
  },
  {
   "cell_type": "markdown",
   "metadata": {},
   "source": [
    "# Simple Linear Regression\n",
    "Simple linear regression is a statistical technique used for finding the existence of an association \n",
    "relationship between a dependent variable (aka response variable or outcome variable) and an independent\n",
    "variable (aka explanatory variable, predictor variable or feature).\n",
    "<br>\n",
    "<br>\n",
    "Regression is one of the most popular supervised learning algorithms in predictive analytics. A regression model requires the knowledge of both the outcome and the feature variables in the training dataset."
   ]
  },
  {
   "cell_type": "markdown",
   "metadata": {},
   "source": [
    "1. A hospital may be interested in finding how the total cost of a patient for a treatment varies with the body weight of the patient.\n",
    "2. Insurance companies would like to understand the association between healthcare costs and ageing.\n",
    "3. An organization may be interested in finding the relationship between revenue generated from a product and features such as the price, money spent on promotion, competitors’ price, and promotion expenses.\n",
    "4. Restaurants would like to know the relationship between the customer waiting time after placing the order and the revenue.\n",
    "5. E-commerce companies such as Amazon, BigBasket, and Flipkart would like to understand the relationship between revenue and features such as <br>\n",
    "(a) Number of customer visits to their portal.<br>\n",
    "(b) Number of clicks on products.<br>\n",
    "(c) Number of items on sale.<br>\n",
    "(d) Average discount percentage.<br>\n",
    "6. Banks and other financial institutions would like to understand the impact of variables such as unemployment rate, marital status, balance in the bank account, rain fall, etc. on the percentage of non-performing assets (NPA)."
   ]
  },
  {
   "cell_type": "markdown",
   "metadata": {},
   "source": [
    "# STEPS IN BUILDING A REGRESSION MODEL\n",
    "In this section, we will explain the steps used in building a regression model. Building a regression\n",
    "model is an iterative process and several iterations may be required before finalizing the appropriate\n",
    "model.\n",
    "#### STEP 1: Collect/Extract Data\n",
    "The first step in building a regression model is to collect or extract data on the dependent (outcome) vari-\n",
    "able and independent (feature) variables from different data sources. Data collection in many cases can\n",
    "be time-consuming and expensive, even when the organization has well-designed enterprise resource\n",
    "planning (ERP) system.\n",
    "#### STEP 2: Pre-Process the Data\n",
    "Before the model is built, it is essential to ensure the quality of the data for issues such as reliability, com-\n",
    "pleteness, usefulness, accuracy, missing data, and outliers.\n",
    "1. Data imputation techniques may be used to deal with missing data. Use of descriptive statistics and visualization (such as box plot and scatter plot) may be used to identify the existence of outliers and variability in the dataset.\n",
    "2. Many new variables (such as the ratio of variables or product of variables) can be derived (aka feature engineering) and also used in model building.\n",
    "3. Categorical data has must be pre-processed using dummy variables (part of feature engineering) before it is used in the regression model.\n",
    "\n",
    "#### STEP 3: Dividing Data into Training and Validation Datasets\n",
    "In this stage the data is divided into two subsets (sometimes more than two subsets): training dataset\n",
    "and validation or test dataset. The proportion of training dataset is usually between 70% and 80% of the\n",
    "data and the remaining data is treated as the validation data. The subsets may be created using random/­\n",
    "stratified sampling procedure. This is an important step to measure the performance of the model using\n",
    "dataset not used in model building. It is also essential to check for any overfitting of the model. In many\n",
    "cases, multiple training and multiple test data are used (called cross-validation).\n",
    "\n",
    "#### STEP 4: Perform Descriptive Analytics or Data Exploration\n",
    "It is always a good practice to perform descriptive analytics before moving to building a predictive ana-\n",
    "lytics model. Descriptive statistics will help us to understand the variability in the model and visualiza-\n",
    "tion of the data through, say, a box plot which will show if there are any outliers in the data. Another\n",
    "visualization technique, the scatter plot, may also reveal if there is any obvious relationship between the\n",
    "two variables under consideration. Scatter plot is useful to describe the functional relationship between\n",
    "the dependent or outcome variable and features.\n",
    "#### STEP 5: Build the Model\n",
    "The model is built using the training dataset to estimate the regression parameters. The method of\n",
    "Ordinary Least Squares (OLS) is used to estimate the regression parameters.\n",
    "#### STEP 6: Perform Model Diagnostics\n",
    "Regression is often misused since many times the modeler fails to perform necessary diagnostics tests\n",
    "before applying the model. Before it can be applied, it is necessary that the model created is validated\n",
    "for all model assumptions including the definition of the function form. If the model assumptions are\n",
    "violated, then the modeler must use remedial measure.\n",
    "#### STEP 7: Validate the Model and Measure Model Accuracy\n",
    "A major concern in analytics is over-fitting, that is, the model may perform very well on the training\n",
    "dataset, but may perform badly in validation dataset. It is important to ensure that the model perfor-\n",
    "mance is consistent on the validation dataset as is in the training dataset. In fact, the model may be cross-\n",
    "validated using multiple training and test datasets.\n",
    "#### STEP 8: Decide on Model Deployment\n",
    "The final step in the regression model is to develop a deployment strategy in the form of actionable items\n",
    "and business rules that can be used by the organization."
   ]
  },
  {
   "cell_type": "markdown",
   "metadata": {},
   "source": [
    "# BUILDING SIMPLE LINEAR REGRESSION MODEL\n",
    "Simple Linear Regression (SLR) is a statistical model in which there is only one independent vari-\n",
    "able (or feature) and the functional relationship between the outcome variable and the regression\n",
    "coefficient is linear. Linear regression implies that the mathematical function is linear with respect to\n",
    "regression parameters.\n",
    "One of the functional forms of SLR is as follows:\n",
    "<img src=\"q.png\" />\n",
    "\n",
    "For a dataset with n observations (X i , Y i ), where i = 1, 2, ..., n, the above functional form can be written\n",
    "as follows:\n",
    "<img src=\"w.png\" />\n",
    "\n",
    "where Y i is the value of ith observation of the dependent variable (outcome variable) in the sample, X i is\n",
    "the value of ith observation of the independent variable or feature in the sample, e i is the random error\n",
    "(also known as residuals) in predicting the value of Y i , b 0 and b 1 are the regression parameters (or regres-\n",
    "sion coefficients or feature weights).\n",
    "\n",
    "The regression relationship stated is a statistical relationship, and so is not exact, unlike\n",
    "a mathematical relationship, and thus the error terms e i . It can be written as\n",
    "<img src=\"e.png\" />\n",
    "The regression parameters b 0 and b 1 are estimated by minimizing the sum of squared errors (SSE).\n",
    "n n\n",
    "i = 1 i = 1\n",
    "<img src=\"r.png\" />\n",
    "The estimated values of regression parameters are given by taking partial derivative of SSE with respect\n",
    "to b 0 and b 1 and solving the resulting equations for the regression parameters. The estimated parameter\n",
    "values are given by\n",
    "<img src=\"t.png\" />\n",
    "\n",
    " are the estimated values of the regression parameters b and b . The above proce-\n",
    "where b\n",
    "0\n",
    "1\n",
    "0\n",
    "1\n",
    "dure is known as method of ordinary least square (OLS). The estimate using OLS gives the best linear\n",
    "unbiased estimates (BLUE) of regression parameters.\n",
    "\n",
    "Assumptions of the Linear Regression Model\n",
    "1. The errors or residuals e i are assumed to follow a normal distribution with expected value of error E(e i ) = 0.\n",
    "2. The variance of error, VAR(e i ), is constant for various values of independent variable X. This is known as homoscedasticity. When the variance is not constant, it is called heter­oscedasticity.\n",
    "3. The error and independent variable are uncorrelated.\n",
    "4. The functional relationship between the outcome variable and feature is correctly defined.\n",
    "\n",
    "Properties of Simple Linear Regression\n",
    "1. The mean value of Y i for given X i , E ( Y i | X ) = b\n",
    "\n",
    "2. Y i follows a normal distribution with mean b\n",
    "\n",
    "Let us consider an example of predicting MBA Salary (outcome variable) from marks in Grade 10\n",
    "(feature)."
   ]
  },
  {
   "cell_type": "markdown",
   "metadata": {},
   "source": [
    "# Example"
   ]
  },
  {
   "cell_type": "code",
   "execution_count": 1,
   "metadata": {},
   "outputs": [],
   "source": [
    "import pandas as pd\n",
    "import numpy as np\n",
    "## Setting pandas print option to print decimal values upto\n",
    "## 4 decimal places\n",
    "np.set_printoptions(precision=4, linewidth=100)"
   ]
  },
  {
   "cell_type": "code",
   "execution_count": 2,
   "metadata": {},
   "outputs": [
    {
     "data": {
      "text/html": [
       "<div>\n",
       "<style scoped>\n",
       "    .dataframe tbody tr th:only-of-type {\n",
       "        vertical-align: middle;\n",
       "    }\n",
       "\n",
       "    .dataframe tbody tr th {\n",
       "        vertical-align: top;\n",
       "    }\n",
       "\n",
       "    .dataframe thead th {\n",
       "        text-align: right;\n",
       "    }\n",
       "</style>\n",
       "<table border=\"1\" class=\"dataframe\">\n",
       "  <thead>\n",
       "    <tr style=\"text-align: right;\">\n",
       "      <th></th>\n",
       "      <th>age</th>\n",
       "      <th>sex</th>\n",
       "      <th>gmat_tot</th>\n",
       "      <th>gmat_qpc</th>\n",
       "      <th>gmat_vpc</th>\n",
       "      <th>gmat_tpc</th>\n",
       "      <th>s_avg</th>\n",
       "      <th>f_avg</th>\n",
       "      <th>quarter</th>\n",
       "      <th>work_yrs</th>\n",
       "      <th>frstlang</th>\n",
       "      <th>salary</th>\n",
       "      <th>satis</th>\n",
       "    </tr>\n",
       "  </thead>\n",
       "  <tbody>\n",
       "    <tr>\n",
       "      <th>0</th>\n",
       "      <td>23</td>\n",
       "      <td>2</td>\n",
       "      <td>620</td>\n",
       "      <td>77</td>\n",
       "      <td>87</td>\n",
       "      <td>87</td>\n",
       "      <td>3.40</td>\n",
       "      <td>3.00</td>\n",
       "      <td>1</td>\n",
       "      <td>2</td>\n",
       "      <td>1</td>\n",
       "      <td>0</td>\n",
       "      <td>7</td>\n",
       "    </tr>\n",
       "    <tr>\n",
       "      <th>1</th>\n",
       "      <td>24</td>\n",
       "      <td>1</td>\n",
       "      <td>610</td>\n",
       "      <td>90</td>\n",
       "      <td>71</td>\n",
       "      <td>87</td>\n",
       "      <td>3.50</td>\n",
       "      <td>4.00</td>\n",
       "      <td>1</td>\n",
       "      <td>2</td>\n",
       "      <td>1</td>\n",
       "      <td>0</td>\n",
       "      <td>6</td>\n",
       "    </tr>\n",
       "    <tr>\n",
       "      <th>2</th>\n",
       "      <td>24</td>\n",
       "      <td>1</td>\n",
       "      <td>670</td>\n",
       "      <td>99</td>\n",
       "      <td>78</td>\n",
       "      <td>95</td>\n",
       "      <td>3.30</td>\n",
       "      <td>3.25</td>\n",
       "      <td>1</td>\n",
       "      <td>2</td>\n",
       "      <td>1</td>\n",
       "      <td>0</td>\n",
       "      <td>6</td>\n",
       "    </tr>\n",
       "    <tr>\n",
       "      <th>3</th>\n",
       "      <td>24</td>\n",
       "      <td>1</td>\n",
       "      <td>570</td>\n",
       "      <td>56</td>\n",
       "      <td>81</td>\n",
       "      <td>75</td>\n",
       "      <td>3.30</td>\n",
       "      <td>2.67</td>\n",
       "      <td>1</td>\n",
       "      <td>1</td>\n",
       "      <td>1</td>\n",
       "      <td>0</td>\n",
       "      <td>7</td>\n",
       "    </tr>\n",
       "    <tr>\n",
       "      <th>4</th>\n",
       "      <td>24</td>\n",
       "      <td>2</td>\n",
       "      <td>710</td>\n",
       "      <td>93</td>\n",
       "      <td>98</td>\n",
       "      <td>98</td>\n",
       "      <td>3.60</td>\n",
       "      <td>3.75</td>\n",
       "      <td>1</td>\n",
       "      <td>2</td>\n",
       "      <td>1</td>\n",
       "      <td>999</td>\n",
       "      <td>5</td>\n",
       "    </tr>\n",
       "    <tr>\n",
       "      <th>5</th>\n",
       "      <td>24</td>\n",
       "      <td>1</td>\n",
       "      <td>640</td>\n",
       "      <td>82</td>\n",
       "      <td>89</td>\n",
       "      <td>91</td>\n",
       "      <td>3.90</td>\n",
       "      <td>3.75</td>\n",
       "      <td>1</td>\n",
       "      <td>2</td>\n",
       "      <td>1</td>\n",
       "      <td>0</td>\n",
       "      <td>6</td>\n",
       "    </tr>\n",
       "    <tr>\n",
       "      <th>6</th>\n",
       "      <td>25</td>\n",
       "      <td>1</td>\n",
       "      <td>610</td>\n",
       "      <td>89</td>\n",
       "      <td>74</td>\n",
       "      <td>87</td>\n",
       "      <td>3.40</td>\n",
       "      <td>3.50</td>\n",
       "      <td>1</td>\n",
       "      <td>2</td>\n",
       "      <td>1</td>\n",
       "      <td>0</td>\n",
       "      <td>5</td>\n",
       "    </tr>\n",
       "    <tr>\n",
       "      <th>7</th>\n",
       "      <td>25</td>\n",
       "      <td>2</td>\n",
       "      <td>650</td>\n",
       "      <td>88</td>\n",
       "      <td>89</td>\n",
       "      <td>92</td>\n",
       "      <td>3.30</td>\n",
       "      <td>3.75</td>\n",
       "      <td>1</td>\n",
       "      <td>2</td>\n",
       "      <td>1</td>\n",
       "      <td>0</td>\n",
       "      <td>6</td>\n",
       "    </tr>\n",
       "    <tr>\n",
       "      <th>8</th>\n",
       "      <td>25</td>\n",
       "      <td>1</td>\n",
       "      <td>630</td>\n",
       "      <td>79</td>\n",
       "      <td>91</td>\n",
       "      <td>89</td>\n",
       "      <td>3.30</td>\n",
       "      <td>3.25</td>\n",
       "      <td>1</td>\n",
       "      <td>2</td>\n",
       "      <td>2</td>\n",
       "      <td>999</td>\n",
       "      <td>4</td>\n",
       "    </tr>\n",
       "    <tr>\n",
       "      <th>9</th>\n",
       "      <td>25</td>\n",
       "      <td>1</td>\n",
       "      <td>680</td>\n",
       "      <td>99</td>\n",
       "      <td>81</td>\n",
       "      <td>96</td>\n",
       "      <td>3.45</td>\n",
       "      <td>3.67</td>\n",
       "      <td>1</td>\n",
       "      <td>2</td>\n",
       "      <td>1</td>\n",
       "      <td>998</td>\n",
       "      <td>998</td>\n",
       "    </tr>\n",
       "  </tbody>\n",
       "</table>\n",
       "</div>"
      ],
      "text/plain": [
       "   age  sex  gmat_tot  gmat_qpc  gmat_vpc  gmat_tpc  s_avg  f_avg  quarter  \\\n",
       "0   23    2       620        77        87        87   3.40   3.00        1   \n",
       "1   24    1       610        90        71        87   3.50   4.00        1   \n",
       "2   24    1       670        99        78        95   3.30   3.25        1   \n",
       "3   24    1       570        56        81        75   3.30   2.67        1   \n",
       "4   24    2       710        93        98        98   3.60   3.75        1   \n",
       "5   24    1       640        82        89        91   3.90   3.75        1   \n",
       "6   25    1       610        89        74        87   3.40   3.50        1   \n",
       "7   25    2       650        88        89        92   3.30   3.75        1   \n",
       "8   25    1       630        79        91        89   3.30   3.25        1   \n",
       "9   25    1       680        99        81        96   3.45   3.67        1   \n",
       "\n",
       "   work_yrs  frstlang  salary  satis  \n",
       "0         2         1       0      7  \n",
       "1         2         1       0      6  \n",
       "2         2         1       0      6  \n",
       "3         1         1       0      7  \n",
       "4         2         1     999      5  \n",
       "5         2         1       0      6  \n",
       "6         2         1       0      5  \n",
       "7         2         1       0      6  \n",
       "8         2         2     999      4  \n",
       "9         2         1     998    998  "
      ]
     },
     "execution_count": 2,
     "metadata": {},
     "output_type": "execute_result"
    }
   ],
   "source": [
    "mba_salary_df = pd.read_csv('MBASSData.csv')\n",
    "mba_salary_df.head(10)"
   ]
  },
  {
   "cell_type": "code",
   "execution_count": 3,
   "metadata": {},
   "outputs": [
    {
     "name": "stdout",
     "output_type": "stream",
     "text": [
      "<class 'pandas.core.frame.DataFrame'>\n",
      "RangeIndex: 274 entries, 0 to 273\n",
      "Data columns (total 13 columns):\n",
      " #   Column    Non-Null Count  Dtype  \n",
      "---  ------    --------------  -----  \n",
      " 0   age       274 non-null    int64  \n",
      " 1   sex       274 non-null    int64  \n",
      " 2   gmat_tot  274 non-null    int64  \n",
      " 3   gmat_qpc  274 non-null    int64  \n",
      " 4   gmat_vpc  274 non-null    int64  \n",
      " 5   gmat_tpc  274 non-null    int64  \n",
      " 6   s_avg     274 non-null    float64\n",
      " 7   f_avg     274 non-null    float64\n",
      " 8   quarter   274 non-null    int64  \n",
      " 9   work_yrs  274 non-null    int64  \n",
      " 10  frstlang  274 non-null    int64  \n",
      " 11  salary    274 non-null    int64  \n",
      " 12  satis     274 non-null    int64  \n",
      "dtypes: float64(2), int64(11)\n",
      "memory usage: 28.0 KB\n"
     ]
    }
   ],
   "source": [
    "mba_salary_df.info()"
   ]
  },
  {
   "cell_type": "markdown",
   "metadata": {},
   "source": [
    "Field Description age age - in years<br>\n",
    "sex 1=Male; 2=Female<br>\n",
    "gmat_tot total GMAT score<br>\n",
    "gmat_qpc quantitative GMAT percentile<br>\n",
    "gmat_vpc verbal GMAT percentile<br>\n",
    "qmat_tpc overall GMAT percentile<br>\n",
    "s_avg spring MBA average<br>\n",
    "f_avg fall MBA average<br>\n",
    "quarter quartile ranking (1st is top, 4th is bottom)<br>\n",
    "work_yrs years of work experience<br>\n",
    "frstlang first language (1=English; 2=other)<br>\n",
    "salary starting salary<br>\n",
    "satis degree of satisfaction with MBA program (1= low, 7 = high satisfaction)<br>\n",
    "<br>\n",
    "Missing salary and data are coded as follows:<br>\n",
    "998 = did not answer the survey<br>\n",
    "999 = answered the survey but did not disclose salary data<br>\n",
    "Size of data set: 274 records<br>"
   ]
  },
  {
   "cell_type": "markdown",
   "metadata": {},
   "source": [
    "# Creating Feature Set X and Outcome Variable Y\n",
    "The statsmodel library is used in Python for building statistical models. OLS API available in statsmodel.api\n",
    "is used for estimation of parameters for simple linear regression model. \n",
    "\n",
    "The OLS() model takes two parameters Y and X. In this example, Percentage in Grade 10 will be X and Salary will be Y. \n",
    "\n",
    "OLS API available in statsmodel.api estimates only the coefficient of X parameter. To estimate regression coefficient b 0 , a constant term of 1 needs to be added as a separate column. \n",
    "\n",
    "As the value of the columns remains\n",
    "same across all samples, the parameter estimated for this feature or column will be the intercept term.\n"
   ]
  },
  {
   "cell_type": "code",
   "execution_count": 4,
   "metadata": {},
   "outputs": [
    {
     "data": {
      "text/html": [
       "<div>\n",
       "<style scoped>\n",
       "    .dataframe tbody tr th:only-of-type {\n",
       "        vertical-align: middle;\n",
       "    }\n",
       "\n",
       "    .dataframe tbody tr th {\n",
       "        vertical-align: top;\n",
       "    }\n",
       "\n",
       "    .dataframe thead th {\n",
       "        text-align: right;\n",
       "    }\n",
       "</style>\n",
       "<table border=\"1\" class=\"dataframe\">\n",
       "  <thead>\n",
       "    <tr style=\"text-align: right;\">\n",
       "      <th></th>\n",
       "      <th>const</th>\n",
       "      <th>gmat_tot</th>\n",
       "    </tr>\n",
       "  </thead>\n",
       "  <tbody>\n",
       "    <tr>\n",
       "      <th>0</th>\n",
       "      <td>1.0</td>\n",
       "      <td>620</td>\n",
       "    </tr>\n",
       "    <tr>\n",
       "      <th>1</th>\n",
       "      <td>1.0</td>\n",
       "      <td>610</td>\n",
       "    </tr>\n",
       "    <tr>\n",
       "      <th>2</th>\n",
       "      <td>1.0</td>\n",
       "      <td>670</td>\n",
       "    </tr>\n",
       "    <tr>\n",
       "      <th>3</th>\n",
       "      <td>1.0</td>\n",
       "      <td>570</td>\n",
       "    </tr>\n",
       "    <tr>\n",
       "      <th>4</th>\n",
       "      <td>1.0</td>\n",
       "      <td>710</td>\n",
       "    </tr>\n",
       "  </tbody>\n",
       "</table>\n",
       "</div>"
      ],
      "text/plain": [
       "   const  gmat_tot\n",
       "0    1.0       620\n",
       "1    1.0       610\n",
       "2    1.0       670\n",
       "3    1.0       570\n",
       "4    1.0       710"
      ]
     },
     "execution_count": 4,
     "metadata": {},
     "output_type": "execute_result"
    }
   ],
   "source": [
    "import statsmodels.api as sm\n",
    "X = sm.add_constant(mba_salary_df['gmat_tot'])\n",
    "X.head(5)"
   ]
  },
  {
   "cell_type": "code",
   "execution_count": 5,
   "metadata": {},
   "outputs": [
    {
     "data": {
      "text/plain": [
       "0           0\n",
       "1           0\n",
       "2           0\n",
       "3           0\n",
       "4         999\n",
       "        ...  \n",
       "269    104000\n",
       "270    105000\n",
       "271    115000\n",
       "272    126710\n",
       "273    220000\n",
       "Name: salary, Length: 274, dtype: int64"
      ]
     },
     "execution_count": 5,
     "metadata": {},
     "output_type": "execute_result"
    }
   ],
   "source": [
    "Y = mba_salary_df['salary']\n",
    "Y"
   ]
  },
  {
   "cell_type": "markdown",
   "metadata": {},
   "source": [
    "### Splitting the Dataset into Training and Validation Sets"
   ]
  },
  {
   "cell_type": "code",
   "execution_count": 6,
   "metadata": {},
   "outputs": [],
   "source": [
    "from sklearn.model_selection import train_test_split\n",
    "train_X, test_X, train_y, test_y = train_test_split(X,Y,train_size = 0.8,random_state = 100)"
   ]
  },
  {
   "cell_type": "markdown",
   "metadata": {},
   "source": [
    "### Fitting the Model\n",
    "We will fit the model using OLS method and pass train_y and train_X as parameters.\n"
   ]
  },
  {
   "cell_type": "code",
   "execution_count": 7,
   "metadata": {},
   "outputs": [],
   "source": [
    "mba_salary_lm = sm.OLS(train_y, train_X).fit()"
   ]
  },
  {
   "cell_type": "markdown",
   "metadata": {},
   "source": [
    "The fit() method on OLS() estimates the parameters and returns model information to the variable mba_\n",
    "salary_lm, which contains the model parameters, accuracy measures, and residual values among other details.\n",
    "### Printing Estimated Parameters and Interpreting Them"
   ]
  },
  {
   "cell_type": "code",
   "execution_count": 8,
   "metadata": {
    "scrolled": true
   },
   "outputs": [
    {
     "name": "stdout",
     "output_type": "stream",
     "text": [
      "const       57452.820410\n",
      "gmat_tot      -31.088619\n",
      "dtype: float64\n"
     ]
    }
   ],
   "source": [
    "print(mba_salary_lm.params)"
   ]
  },
  {
   "cell_type": "markdown",
   "metadata": {},
   "source": [
    "The estimated (predicted) model can be written as\n",
    "MBA Salary = 57452.82 + (-31.088619) * (gmat_tot)"
   ]
  },
  {
   "cell_type": "markdown",
   "metadata": {},
   "source": [
    "# MODEL DIAGNOSTICS\n",
    "It is important to validate the regression model to ensure its validity and goodness of fit before it\n",
    "can be used for practical applications. The following measures are used to validate the simple linear\n",
    "regression models:\n",
    "1. Co-efficient of determination (R-squared).\n",
    "2. Hypothesis test for the regression coefficient.\n",
    "3. Analysis of variance for overall model validity (important for multiple linear regression).\n",
    "4. Residual analysis to validate the regression model assumptions.\n",
    "5. Outlier analysis, since the presence of outliers can significantly impact the regression parameters."
   ]
  },
  {
   "cell_type": "markdown",
   "metadata": {},
   "source": [
    "## Co-efficient of Determination (R-Squared or R 2 )\n",
    "The primary objective of regression is to explain the variation in Y using the knowledge of X. The\n",
    "co-efficient of determination (R-squared or R 2 ) measures the percentage of variation in Y explained by\n",
    "the model (b 0 + b 1 X). The simple linear regression model can be broken into\n",
    "1. Variation in outcome variable explained by the model.\n",
    "2. Unexplained variation"
   ]
  },
  {
   "cell_type": "markdown",
   "metadata": {},
   "source": [
    "<img src = \"one.png\" />"
   ]
  },
  {
   "cell_type": "markdown",
   "metadata": {},
   "source": [
    "It can be proven mathematically that <br>\n",
    "<img src = \"two.png\" />\n",
    "SST is the sum of squares of total variation,SSR is the sum of squares of explained variation due to the regression model, and SSE is the sum of squares of unexplained variation (error).\n",
    "\n",
    "\n",
    "The co-efficient\n",
    "of determination (R-squared) is given by"
   ]
  },
  {
   "cell_type": "markdown",
   "metadata": {},
   "source": [
    "<img src = \"three.png\" />\n",
    "\n",
    "The co-efficient of determination (R-squared) has the following properties:\n",
    "1. The value of R-squared lies between 0 and 1.\n",
    "2. Mathematically, R-squared (R 2 ) is square of correlation coefficient (R 2 = r 2 ), where r is the Pearson correlation co-efficient.\n",
    "3. Higher R-squared indicates better fit; however, one should be careful about the spurious relationship."
   ]
  },
  {
   "cell_type": "markdown",
   "metadata": {},
   "source": [
    "## Hypothesis Test for the Regression Co-eff icient\n",
    "The regression co-efficient (b 1 ) captures the existence of a linear relationship between the outcome vari-\n",
    "able and the feature. If b 1 = 0, we can conclude that there is no statistically significant linear relationship\n",
    "between the two variables. \n",
    "\n",
    "It can be proved that the sampling distribution of b 1 is a t-distribution. \n",
    "\n",
    "The null and alternative hypotheses are\n",
    "\n",
    "<img src = \"four.png\" />\n"
   ]
  },
  {
   "cell_type": "markdown",
   "metadata": {},
   "source": [
    "# Analysis of Variance (ANOVA) in Regression Analysis\n",
    "We can check the overall validity of the regression model using ANOVA in the case of multiple linear\n",
    "regression model with k features. The null and alternative hypotheses are given by\n",
    "<img src = \"five.png\" />\n",
    "H A : Not all regression coefficients are zero\n",
    "The corresponding F-statistic is given by\n",
    "\n",
    "<img src = \"six.png\" />\n",
    "\n",
    "\n",
    "\n",
    "where MSR (= SSR/k) and MSE [= SSE/(n − k − 1)] are mean squared regression and mean squared error,\n",
    "respectively. F-test is used for checking whether the overall regression model is statistically significant or not.\n",
    "\n",
    "## Regression Model Summary"
   ]
  },
  {
   "cell_type": "code",
   "execution_count": 9,
   "metadata": {},
   "outputs": [
    {
     "data": {
      "text/html": [
       "<table class=\"simpletable\">\n",
       "<tr>\n",
       "        <td>Model:</td>               <td>OLS</td>         <td>Adj. R-squared:</td>     <td>-0.003</td>  \n",
       "</tr>\n",
       "<tr>\n",
       "  <td>Dependent Variable:</td>      <td>salary</td>             <td>AIC:</td>          <td>5372.9541</td>\n",
       "</tr>\n",
       "<tr>\n",
       "         <td>Date:</td>        <td>2020-06-05 19:27</td>        <td>BIC:</td>          <td>5379.7323</td>\n",
       "</tr>\n",
       "<tr>\n",
       "   <td>No. Observations:</td>         <td>219</td>         <td>Log-Likelihood:</td>     <td>-2684.5</td> \n",
       "</tr>\n",
       "<tr>\n",
       "       <td>Df Model:</td>              <td>1</td>           <td>F-statistic:</td>       <td>0.2857</td>  \n",
       "</tr>\n",
       "<tr>\n",
       "     <td>Df Residuals:</td>           <td>217</td>       <td>Prob (F-statistic):</td>    <td>0.594</td>  \n",
       "</tr>\n",
       "<tr>\n",
       "      <td>R-squared:</td>            <td>0.001</td>            <td>Scale:</td>        <td>2.6216e+09</td>\n",
       "</tr>\n",
       "</table>\n",
       "<table class=\"simpletable\">\n",
       "<tr>\n",
       "      <td></td>        <th>Coef.</th>    <th>Std.Err.</th>     <th>t</th>     <th>P>|t|</th>   <th>[0.025</th>      <th>0.975]</th>   \n",
       "</tr>\n",
       "<tr>\n",
       "  <th>const</th>    <td>57452.8204</td> <td>36297.9490</td> <td>1.5828</td>  <td>0.1149</td> <td>-14088.8508</td> <td>128994.4916</td>\n",
       "</tr>\n",
       "<tr>\n",
       "  <th>gmat_tot</th>  <td>-31.0886</td>    <td>58.1628</td>  <td>-0.5345</td> <td>0.5935</td>  <td>-145.7251</td>    <td>83.5478</td>  \n",
       "</tr>\n",
       "</table>\n",
       "<table class=\"simpletable\">\n",
       "<tr>\n",
       "     <td>Omnibus:</td>    <td>39.932</td>  <td>Durbin-Watson:</td>    <td>2.019</td>\n",
       "</tr>\n",
       "<tr>\n",
       "  <td>Prob(Omnibus):</td>  <td>0.000</td> <td>Jarque-Bera (JB):</td> <td>28.750</td>\n",
       "</tr>\n",
       "<tr>\n",
       "       <td>Skew:</td>      <td>0.773</td>     <td>Prob(JB):</td>      <td>0.000</td>\n",
       "</tr>\n",
       "<tr>\n",
       "     <td>Kurtosis:</td>    <td>2.129</td>  <td>Condition No.:</td>    <td>6547</td> \n",
       "</tr>\n",
       "</table>"
      ],
      "text/plain": [
       "<class 'statsmodels.iolib.summary2.Summary'>\n",
       "\"\"\"\n",
       "                   Results: Ordinary least squares\n",
       "=====================================================================\n",
       "Model:                OLS              Adj. R-squared:     -0.003    \n",
       "Dependent Variable:   salary           AIC:                5372.9541 \n",
       "Date:                 2020-06-05 19:27 BIC:                5379.7323 \n",
       "No. Observations:     219              Log-Likelihood:     -2684.5   \n",
       "Df Model:             1                F-statistic:        0.2857    \n",
       "Df Residuals:         217              Prob (F-statistic): 0.594     \n",
       "R-squared:            0.001            Scale:              2.6216e+09\n",
       "---------------------------------------------------------------------\n",
       "           Coef.     Std.Err.     t    P>|t|     [0.025      0.975]  \n",
       "---------------------------------------------------------------------\n",
       "const    57452.8204 36297.9490  1.5828 0.1149 -14088.8508 128994.4916\n",
       "gmat_tot   -31.0886    58.1628 -0.5345 0.5935   -145.7251     83.5478\n",
       "---------------------------------------------------------------------\n",
       "Omnibus:                39.932        Durbin-Watson:           2.019 \n",
       "Prob(Omnibus):          0.000         Jarque-Bera (JB):        28.750\n",
       "Skew:                   0.773         Prob(JB):                0.000 \n",
       "Kurtosis:               2.129         Condition No.:           6547  \n",
       "=====================================================================\n",
       "* The condition number is large (7e+03). This might indicate\n",
       "strong multicollinearity or other numerical problems.\n",
       "\"\"\""
      ]
     },
     "execution_count": 9,
     "metadata": {},
     "output_type": "execute_result"
    }
   ],
   "source": [
    "mba_salary_lm.summary2()"
   ]
  },
  {
   "cell_type": "markdown",
   "metadata": {},
   "source": [
    "#### From the summary output\n",
    "1. The model R-squared value is 0.001, that is, the model explains 0.1% of the variation in salary.\n",
    "2. The p-value for the t-test is 0.5935 which indicates that there is not a statistically significant relationship (at significance value a = 0.05) between the feature, gmat_tot, and salary.Also, the probability value of F-statistic of the model is 0.594 which indicates that the overall model is not statistically significant. Note that, in a simple linear regression, the p-value for t-test and F-test will be the same since the null hypothesis is the same. (Also F = t 2 in the case of SLR.)"
   ]
  },
  {
   "cell_type": "markdown",
   "metadata": {},
   "source": []
  },
  {
   "cell_type": "markdown",
   "metadata": {},
   "source": [
    "## Residual Analysis\n",
    "Residuals or errors are the difference between the actual value of the outcome variable and the predicted value ( Y - Y hat ) . Residual (error) analysis is important to check whether the assumptions of regression models have been satisfied. It is performed to check the following:\n",
    "1. The residuals are normally distributed.\n",
    "2. Variance of residual is constant (homoscedasticity).\n",
    "3. The functional form of regression is correctly specified.\n",
    "4. There are no outliers.\n",
    "\n",
    "#### Check for Normal Distribution of Residual\n",
    "The normality of residuals can be checked using the probability−probability plot (P-P plot). P-P plot\n",
    "compares the cumulative distribution function of two probability distributions against each other. In\n",
    "the current context, we use the P-P plot to check whether the distribution of the residuals matches with\n",
    "that of a normal distribution. In Python, ProbPlot() method on statsmodel draws the P-P plot"
   ]
  },
  {
   "cell_type": "code",
   "execution_count": 10,
   "metadata": {},
   "outputs": [
    {
     "data": {
      "text/plain": [
       "<Figure size 576x432 with 0 Axes>"
      ]
     },
     "metadata": {},
     "output_type": "display_data"
    },
    {
     "data": {
      "image/png": "[encoded data removed]",
      "text/plain": [
       "<Figure size 432x288 with 1 Axes>"
      ]
     },
     "metadata": {
      "needs_background": "light"
     },
     "output_type": "display_data"
    }
   ],
   "source": [
    "import matplotlib.pyplot as plt\n",
    "import seaborn as sn\n",
    "%matplotlib inline\n",
    "\n",
    "mba_salary_resid = mba_salary_lm.resid #The residuals of the model- resid\n",
    "probplot = sm.ProbPlot(mba_salary_resid)\n",
    "\n",
    "\n",
    "plt.figure( figsize = (8, 6))\n",
    "probplot.ppplot( line='45' )\n",
    "\n",
    "plt.title('Normal P-P Plot of Regression Standardized Residuals')\n",
    "plt.show()"
   ]
  },
  {
   "cell_type": "markdown",
   "metadata": {},
   "source": [
    "The diagonal line is the cumulative distribution of a normal distribution, whereas the dots\n",
    "represent the cumulative distribution of the residuals. \n",
    "\n",
    "Since the dots are close to the diagonal line, we can\n",
    "conclude that the residuals follow an approximate normal distribution (we need only an approximate\n",
    "normal distribution)."
   ]
  },
  {
   "cell_type": "markdown",
   "metadata": {},
   "source": [
    "## Test of Homoscedasticity\n",
    "An important assumption of the regression model is that the residuals have constant variance\n",
    "(homoscedasticity) across different values of the predicted value (Y). \n",
    "\n",
    "The homoscedasticity can be\n",
    "observed by drawing a residual plot, which is a plot between standardized residual value and standardized predicted value. If there is heteroscedasticity (non-constant variance of residuals), then a\n",
    "funnel type shape in the residual plot can be expected. \n",
    "\n",
    "A non-constant variance of the residuals is\n",
    "known as heteroscedasticity.\n",
    "\n",
    "\n",
    "The following custom method get_standardized_values() creates the standardized values of\n",
    "a series of values (variable). It subtracts values from mean and divides by standard deviation of\n",
    "the variable."
   ]
  },
  {
   "cell_type": "code",
   "execution_count": 11,
   "metadata": {},
   "outputs": [
    {
     "data": {
      "image/png": "[encoded data removed]",
      "text/plain": [
       "<Figure size 432x288 with 1 Axes>"
      ]
     },
     "metadata": {
      "needs_background": "light"
     },
     "output_type": "display_data"
    }
   ],
   "source": [
    "def get_standardized_values( vals ):\n",
    "    return (vals - vals.mean())/vals.std()\n",
    "\n",
    "plt.scatter(get_standardized_values( mba_salary_lm.fittedvalues ),get_standardized_values( mba_salary_resid ))\n",
    "plt.title('Residual Plot: MBA Salary Prediction')\n",
    "plt.xlabel('Standardized predicted values')\n",
    "plt.ylabel('Standardized Residuals');"
   ]
  },
  {
   "cell_type": "markdown",
   "metadata": {},
   "source": [
    "observed that the residuals are random and have funnel shape, which means\n",
    "the residuals have non constant variance (heteroscedasticity)."
   ]
  },
  {
   "cell_type": "markdown",
   "metadata": {},
   "source": [
    "## Outlier Analysis\n",
    "Outliers are observations whose values show a large deviation from the mean value. Presence of an\n",
    "outlier can have a significant influence on the values of regression coefficients. Thus, it is important to\n",
    "identify the existence of outliers in the data.\n",
    "The following distance measures are useful in identifying influential observations:\n",
    "1. Z-Score\n",
    "2. Mahalanobis Distance\n",
    "3. Cook’s Distance\n",
    "4. Leverage Values\n",
    "\n",
    "### Z-Score\n",
    "Z-score is the standardized distance of an observation from its mean value. For the predicted value of the\n",
    "dependent variable Y, the Z-score is given by\n",
    "\n",
    "<img src = \"seven.png\" />\n",
    "\n",
    "where Y i is the predicted value of Y for ith observation, Y is the mean or expected value of Y, s Y is the\n",
    "variance of Y.\n",
    "Any observation with a Z-score of more than 3 may be flagged as an outlier. The Z-score in the data\n",
    "can be obtained using the following code:"
   ]
  },
  {
   "cell_type": "code",
   "execution_count": 13,
   "metadata": {},
   "outputs": [
    {
     "data": {
      "text/html": [
       "<div>\n",
       "<style scoped>\n",
       "    .dataframe tbody tr th:only-of-type {\n",
       "        vertical-align: middle;\n",
       "    }\n",
       "\n",
       "    .dataframe tbody tr th {\n",
       "        vertical-align: top;\n",
       "    }\n",
       "\n",
       "    .dataframe thead th {\n",
       "        text-align: right;\n",
       "    }\n",
       "</style>\n",
       "<table border=\"1\" class=\"dataframe\">\n",
       "  <thead>\n",
       "    <tr style=\"text-align: right;\">\n",
       "      <th></th>\n",
       "      <th>age</th>\n",
       "      <th>sex</th>\n",
       "      <th>gmat_tot</th>\n",
       "      <th>gmat_qpc</th>\n",
       "      <th>gmat_vpc</th>\n",
       "      <th>gmat_tpc</th>\n",
       "      <th>s_avg</th>\n",
       "      <th>f_avg</th>\n",
       "      <th>quarter</th>\n",
       "      <th>work_yrs</th>\n",
       "      <th>frstlang</th>\n",
       "      <th>salary</th>\n",
       "      <th>satis</th>\n",
       "      <th>z_score_salary</th>\n",
       "    </tr>\n",
       "  </thead>\n",
       "  <tbody>\n",
       "    <tr>\n",
       "      <th>273</th>\n",
       "      <td>40</td>\n",
       "      <td>2</td>\n",
       "      <td>500</td>\n",
       "      <td>60</td>\n",
       "      <td>45</td>\n",
       "      <td>51</td>\n",
       "      <td>2.5</td>\n",
       "      <td>2.75</td>\n",
       "      <td>4</td>\n",
       "      <td>15</td>\n",
       "      <td>2</td>\n",
       "      <td>220000</td>\n",
       "      <td>6</td>\n",
       "      <td>3.558389</td>\n",
       "    </tr>\n",
       "  </tbody>\n",
       "</table>\n",
       "</div>"
      ],
      "text/plain": [
       "     age  sex  gmat_tot  gmat_qpc  gmat_vpc  gmat_tpc  s_avg  f_avg  quarter  \\\n",
       "273   40    2       500        60        45        51    2.5   2.75        4   \n",
       "\n",
       "     work_yrs  frstlang  salary  satis  z_score_salary  \n",
       "273        15         2  220000      6        3.558389  "
      ]
     },
     "execution_count": 13,
     "metadata": {},
     "output_type": "execute_result"
    }
   ],
   "source": [
    "from scipy.stats import zscore\n",
    "mba_salary_df['z_score_salary'] = zscore( mba_salary_df.salary )\n",
    "\n",
    "mba_salary_df[ (mba_salary_df.z_score_salary > 3.0) | (mba_salary_df.z_score_salary < -3.0) ]"
   ]
  },
  {
   "cell_type": "markdown",
   "metadata": {},
   "source": [
    "there are one observation that are outliers as per the Z-score."
   ]
  },
  {
   "cell_type": "markdown",
   "metadata": {},
   "source": [
    "## Cook’s Distance\n",
    "Cook’s distance measures how much the predicted value of the dependent variable changes for all the\n",
    "observations in the sample when a particular observation is excluded from the sample for the estimation\n",
    "of regression parameters.\n",
    "\n",
    "\n",
    "A Cook’s distance value of more than 1 indicates highly influential observation. Python code for\n",
    "calculating Cook’s distance is provided below. In this get_influence() returns the influence of observations\n",
    "in the model and cook_distance variable provides Cook’s distance measures. \n",
    "\n",
    "Then the distances can be\n",
    "plotted against the observation index to find out which observations are influential."
   ]
  },
  {
   "cell_type": "code",
   "execution_count": 15,
   "metadata": {
    "scrolled": false
   },
   "outputs": [
    {
     "name": "stderr",
     "output_type": "stream",
     "text": [
      "/home/heman/anaconda3/lib/python3.7/site-packages/ipykernel_launcher.py:5: UserWarning: In Matplotlib 3.3 individual lines on a stem plot will be added as a LineCollection instead of individual lines. This significantly improves the performance of a stem plot. To remove this warning and switch to the new behaviour, set the \"use_line_collection\" keyword argument to True.\n",
      "  \"\"\"\n"
     ]
    },
    {
     "data": {
      "image/png": "[encoded data removed]",
      "text/plain": [
       "<Figure size 432x288 with 1 Axes>"
      ]
     },
     "metadata": {
      "needs_background": "light"
     },
     "output_type": "display_data"
    }
   ],
   "source": [
    "import numpy as np\n",
    "mba_influence = mba_salary_lm.get_influence()\n",
    "(c, p) = mba_influence.cooks_distance\n",
    "\n",
    "plt.stem(np.arange( len( train_X) ),np.round( c, 3 ),markerfmt=',');\n",
    "plt.title('Cooks distance for all observations in MBA Salaray data set' );\n",
    "plt.xlabel('Row index')\n",
    "plt.ylabel('Cooks Distance');"
   ]
  },
  {
   "cell_type": "markdown",
   "metadata": {},
   "source": [
    "it can be observed that none of the observations’ Cook’s distance exceed 1 and hence\n",
    "none of them are outliers."
   ]
  },
  {
   "cell_type": "markdown",
   "metadata": {},
   "source": [
    "## Leverage Values\n",
    "Leverage value of an observation measures the influence of that observation on the overall fit of the\n",
    "regression function and is related to the Mahalanobis distance. \n",
    "\n",
    "Leverage value of more than 3(k + 1)/n\n",
    "is treated as highly influential observation, where k is the number of features in the model and n is the\n",
    "sample size.\n",
    "statsmodels.graphics.regressionplots module provides influence_plot() which draws a plot between\n",
    "standardized residuals and leverage value. \n",
    "\n",
    "Mostly, the observations with high leverage value (as men-\n",
    "tioned above) and high residuals [more than value 3(k + 1)/n] can be removed from the training dataset."
   ]
  },
  {
   "cell_type": "code",
   "execution_count": 16,
   "metadata": {},
   "outputs": [
    {
     "data": {
      "image/png": "[encoded data removed]",
      "text/plain": [
       "<Figure size 576x432 with 1 Axes>"
      ]
     },
     "metadata": {
      "needs_background": "light"
     },
     "output_type": "display_data"
    }
   ],
   "source": [
    "from statsmodels.graphics.regressionplots import influence_plot\n",
    "fig, ax = plt.subplots( figsize=(8,6) )\n",
    "influence_plot( mba_salary_lm, ax = ax )\n",
    "plt.title('Leverage Value Vs Residuals')\n",
    "plt.show();"
   ]
  },
  {
   "cell_type": "markdown",
   "metadata": {},
   "source": [
    "the size of the circle is proportional to the product of residual and leverage value. The\n",
    "larger the circle, the larger is the residual and hence influence of the observation."
   ]
  },
  {
   "cell_type": "markdown",
   "metadata": {},
   "source": [
    "#### Making Prediction and Measuring Accuracy\n",
    "Ideally, the prediction should be made on the validation (or test) data and the accuracy of prediction\n",
    "should be evaluated.\n",
    "\n",
    "#### Predicting using the Validation Set\n",
    "The model variable has a method predict(), which takes the X parameters and returns the predicted values."
   ]
  },
  {
   "cell_type": "code",
   "execution_count": 19,
   "metadata": {},
   "outputs": [],
   "source": [
    "pred_y = mba_salary_lm.predict( test_X )"
   ]
  },
  {
   "cell_type": "markdown",
   "metadata": {},
   "source": [
    "pred_y variable contains the predicted value. We can compare the predicted values with the actual values\n",
    "and calculate the accuracy in the next section.\n",
    "\n",
    "#### Finding R-Squared and RMSE\n",
    "Several measures can be used for measuring the accuracy of prediction. Mean Square Error (MSE),\n",
    "Root Mean Square Error (RMSE) and Mean Absolute Percentage Error (MAPE) are some of the frequently used measures. sklearn.metrics has r2_score and mean_squared_error for measuring R-squared\n",
    "and MSE values. We need to take the square root of the MSE value to get RMSE value. \n",
    "\n",
    "Both the methods\n",
    "take predicted Y values and actual Y values to calculate the accuracy measures. Numpy module has sqrt\n",
    "method to calculate the square root of a value."
   ]
  },
  {
   "cell_type": "code",
   "execution_count": 20,
   "metadata": {},
   "outputs": [
    {
     "data": {
      "text/plain": [
       "0.00048620103457663877"
      ]
     },
     "execution_count": 20,
     "metadata": {},
     "output_type": "execute_result"
    }
   ],
   "source": [
    "from sklearn.metrics import r2_score, mean_squared_error\n",
    "np.abs(r2_score(test_y, pred_y))"
   ]
  },
  {
   "cell_type": "markdown",
   "metadata": {},
   "source": [
    "So, the model only explains 0.04% of the variance in the validation set."
   ]
  },
  {
   "cell_type": "code",
   "execution_count": 21,
   "metadata": {},
   "outputs": [
    {
     "data": {
      "text/plain": [
       "50118.761052580936"
      ]
     },
     "execution_count": 21,
     "metadata": {},
     "output_type": "execute_result"
    }
   ],
   "source": [
    "import numpy\n",
    "np.sqrt(mean_squared_error(test_y, pred_y))"
   ]
  },
  {
   "cell_type": "markdown",
   "metadata": {},
   "source": [
    "RMSE means the average error the model makes in predicting the outcome. The smaller the value of\n",
    "RMSE, the better the model is."
   ]
  },
  {
   "cell_type": "markdown",
   "metadata": {},
   "source": [
    "#### Calculating Prediction Intervals\n",
    "The regression equation gives us the point estimate of the outcome variable for a given value of the\n",
    "independent variable. \n",
    "\n",
    "In many applications, we would be interested in knowing the interval estimate of\n",
    "Y i for a given value of explanatory variable. wls_prediction_std() returns the prediction interval while\n",
    "making a prediction. It takes significance value (a) to calculate the interval. \n",
    "\n",
    "An a-value of 0.1 returns\n",
    "the prediction at confidence interval of 90%. The code for calculating prediction interval is as follows:"
   ]
  },
  {
   "cell_type": "code",
   "execution_count": 22,
   "metadata": {},
   "outputs": [],
   "source": [
    "from statsmodels.sandbox.regression.predstd import wls_prediction_std\n",
    "# Predict the y values\n",
    "pred_y = mba_salary_lm.predict( test_X )"
   ]
  },
  {
   "cell_type": "code",
   "execution_count": 23,
   "metadata": {},
   "outputs": [
    {
     "data": {
      "text/html": [
       "<div>\n",
       "<style scoped>\n",
       "    .dataframe tbody tr th:only-of-type {\n",
       "        vertical-align: middle;\n",
       "    }\n",
       "\n",
       "    .dataframe tbody tr th {\n",
       "        vertical-align: top;\n",
       "    }\n",
       "\n",
       "    .dataframe thead th {\n",
       "        text-align: right;\n",
       "    }\n",
       "</style>\n",
       "<table border=\"1\" class=\"dataframe\">\n",
       "  <thead>\n",
       "    <tr style=\"text-align: right;\">\n",
       "      <th></th>\n",
       "      <th>gmat_perc</th>\n",
       "      <th>pred_y</th>\n",
       "      <th>pred_y_left</th>\n",
       "      <th>pred_y_righ</th>\n",
       "    </tr>\n",
       "  </thead>\n",
       "  <tbody>\n",
       "    <tr>\n",
       "      <th>59</th>\n",
       "      <td>600</td>\n",
       "      <td>38799.648768</td>\n",
       "      <td>-45998.739214</td>\n",
       "      <td>123598.036750</td>\n",
       "    </tr>\n",
       "    <tr>\n",
       "      <th>266</th>\n",
       "      <td>650</td>\n",
       "      <td>37245.217798</td>\n",
       "      <td>-47573.672440</td>\n",
       "      <td>122064.108036</td>\n",
       "    </tr>\n",
       "    <tr>\n",
       "      <th>225</th>\n",
       "      <td>660</td>\n",
       "      <td>36934.331604</td>\n",
       "      <td>-47921.301188</td>\n",
       "      <td>121789.964396</td>\n",
       "    </tr>\n",
       "    <tr>\n",
       "      <th>251</th>\n",
       "      <td>570</td>\n",
       "      <td>39732.307350</td>\n",
       "      <td>-45184.329147</td>\n",
       "      <td>124648.943847</td>\n",
       "    </tr>\n",
       "    <tr>\n",
       "      <th>191</th>\n",
       "      <td>620</td>\n",
       "      <td>38177.876380</td>\n",
       "      <td>-46596.051517</td>\n",
       "      <td>122951.804277</td>\n",
       "    </tr>\n",
       "    <tr>\n",
       "      <th>125</th>\n",
       "      <td>580</td>\n",
       "      <td>39421.421156</td>\n",
       "      <td>-45444.940739</td>\n",
       "      <td>124287.783052</td>\n",
       "    </tr>\n",
       "    <tr>\n",
       "      <th>124</th>\n",
       "      <td>580</td>\n",
       "      <td>39421.421156</td>\n",
       "      <td>-45444.940739</td>\n",
       "      <td>124287.783052</td>\n",
       "    </tr>\n",
       "    <tr>\n",
       "      <th>144</th>\n",
       "      <td>650</td>\n",
       "      <td>37245.217798</td>\n",
       "      <td>-47573.672440</td>\n",
       "      <td>122064.108036</td>\n",
       "    </tr>\n",
       "    <tr>\n",
       "      <th>201</th>\n",
       "      <td>600</td>\n",
       "      <td>38799.648768</td>\n",
       "      <td>-45998.739214</td>\n",
       "      <td>123598.036750</td>\n",
       "    </tr>\n",
       "    <tr>\n",
       "      <th>75</th>\n",
       "      <td>660</td>\n",
       "      <td>36934.331604</td>\n",
       "      <td>-47921.301188</td>\n",
       "      <td>121789.964396</td>\n",
       "    </tr>\n",
       "  </tbody>\n",
       "</table>\n",
       "</div>"
      ],
      "text/plain": [
       "     gmat_perc        pred_y   pred_y_left    pred_y_righ\n",
       "59         600  38799.648768 -45998.739214  123598.036750\n",
       "266        650  37245.217798 -47573.672440  122064.108036\n",
       "225        660  36934.331604 -47921.301188  121789.964396\n",
       "251        570  39732.307350 -45184.329147  124648.943847\n",
       "191        620  38177.876380 -46596.051517  122951.804277\n",
       "125        580  39421.421156 -45444.940739  124287.783052\n",
       "124        580  39421.421156 -45444.940739  124287.783052\n",
       "144        650  37245.217798 -47573.672440  122064.108036\n",
       "201        600  38799.648768 -45998.739214  123598.036750\n",
       "75         660  36934.331604 -47921.301188  121789.964396"
      ]
     },
     "execution_count": 23,
     "metadata": {},
     "output_type": "execute_result"
    }
   ],
   "source": [
    "# Predict the low and high interval values for y\n",
    "_, pred_y_low, pred_y_high = wls_prediction_std( mba_salary_lm,test_X,alpha = 0.1)\n",
    "# Store all the values in a dataframe\n",
    "pred_y_df = pd.DataFrame( { 'gmat_perc': test_X['gmat_tot'], 'pred_y': pred_y, 'pred_y_left': pred_y_low, 'pred_y_righ': pred_y_high } )\n",
    "pred_y_df[0:10]"
   ]
  },
  {
   "cell_type": "code",
   "execution_count": null,
   "metadata": {},
   "outputs": [],
   "source": []
  }
 ],
 "metadata": {
  "kernelspec": {
   "display_name": "Python 3",
   "language": "python",
   "name": "python3"
  },
  "language_info": {
   "codemirror_mode": {
    "name": "ipython",
    "version": 3
   },
   "file_extension": ".py",
   "mimetype": "text/x-python",
   "name": "python",
   "nbconvert_exporter": "python",
   "pygments_lexer": "ipython3",
   "version": "3.7.6"
  }
 },
 "nbformat": 4,
 "nbformat_minor": 4
}

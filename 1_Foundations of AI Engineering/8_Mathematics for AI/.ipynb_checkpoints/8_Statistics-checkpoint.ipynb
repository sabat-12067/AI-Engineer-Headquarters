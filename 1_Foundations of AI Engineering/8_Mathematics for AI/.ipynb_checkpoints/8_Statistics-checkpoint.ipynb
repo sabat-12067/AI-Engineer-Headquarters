{
 "cells": [
  {
   "cell_type": "code",
   "execution_count": null,
   "id": "790bc5a5-7947-49eb-8676-6b52599e4f03",
   "metadata": {},
   "outputs": [],
   "source": [
    "Machine Learning\n",
    "\n",
    "- statistics\n",
    "- linear algebra\n",
    "- probability\n",
    "- calculus"
   ]
  },
  {
   "cell_type": "markdown",
   "id": "37024fa1",
   "metadata": {},
   "source": [
    "# Statistics\n"
   ]
  },
  {
   "cell_type": "code",
   "execution_count": null,
   "id": "6b83cea5",
   "metadata": {},
   "outputs": [],
   "source": [
    "data science = software development + statistics (research and experimentation)\n",
    "\n",
    "AI = software development + models (LLM and ML model) + math (research)"
   ]
  },
  {
   "cell_type": "code",
   "execution_count": null,
   "id": "09d4bd42-1077-48a7-b34b-cd57edad06ca",
   "metadata": {},
   "outputs": [],
   "source": [
    "                                            statistics\n",
    "            Descriptive                                                     Inferential\n",
    "         - univariate                                                         - Hypothesis testing\n",
    "         - bivariate                                                          - model fitting\n",
    "         - multivariate\n",
    "- central tendency\n",
    "- frequency\n",
    "- despersion"
   ]
  },
  {
   "cell_type": "code",
   "execution_count": null,
   "id": "2fa744f0-33e2-4254-af28-823181360c3f",
   "metadata": {},
   "outputs": [],
   "source": [
    "                                 Data\n",
    "Qualitative                                              Quantitative\n",
    "\"I am from India\"                                         - discrete\n",
    "                                                             - number of students\n",
    "                                                             - categories\n",
    "                                                             - ratings\n",
    "                                                          - continuous\n",
    "                                                             - height (6.5)"
   ]
  },
  {
   "cell_type": "code",
   "execution_count": null,
   "id": "2f5ed35d-565e-44ae-9d7b-0450e3c5bc60",
   "metadata": {},
   "outputs": [],
   "source": [
    "1. measure of frequency -> what is the count\n",
    "2. measure of central tendency - mean, median, mode\n",
    "                               - geomatric mean -> ratio or rates\n",
    "                               - harmonic mean\n",
    "3. despersion\n",
    "            - range (max - min) -> sensitive to outliers\n",
    "            - inter quartile range - (75th percentile - 25th percentile)\n",
    "            - variance - how scattered your data is\n",
    "            - standard deviation"
   ]
  },
  {
   "cell_type": "code",
   "execution_count": null,
   "id": "d63a783a-7ec3-4521-8ff7-67aaebce0130",
   "metadata": {},
   "outputs": [],
   "source": [
    "# mean\n",
    "\n",
    "(sum of all values)/total number of values\n",
    "\n",
    "- it best represents data\n",
    "- it consider all the data points\n",
    "- discrete data - obtained by counting\n",
    "                                - number of students\n",
    "                                - number of chairs in a classroom\n",
    "                                - number of coins giving heads\n",
    "- continuous data \n",
    "                - obtained by measuring\n",
    "                - height of students\n",
    "                - weights\n",
    "                - time it takes for a session\n",
    "                - distance from class to home\n",
    "- extremely sensitive to presence of outliers"
   ]
  },
  {
   "cell_type": "code",
   "execution_count": null,
   "id": "bf78bc95-933e-4963-9188-bd685fc06745",
   "metadata": {},
   "outputs": [],
   "source": [
    "# median\n",
    "\n",
    "- arrange the data points in ascending order or decending order\n",
    "- less sensitive to outliers\n",
    "- 50% of the data is on either side of it\n",
    "- dealing with ordinal data (data with order)\n",
    "- categorical data - positive or negative reviews\n",
    "\n",
    "- decision tree - for splitting the data into 2 equal parts\n"
   ]
  },
  {
   "cell_type": "code",
   "execution_count": null,
   "id": "d53154fb-3ffc-40e6-be7b-2ec3362a540b",
   "metadata": {},
   "outputs": [],
   "source": [
    "# mode\n",
    "\n",
    "- values that occurs most\n",
    "- sentiment from a data of reviews - what is the frequency of positive reviews\n",
    "- vote in an election\n",
    "- mode is not good for continuous data\n",
    "- recommendation system - "
   ]
  },
  {
   "cell_type": "code",
   "execution_count": null,
   "id": "033bba57-8892-46b4-9b55-9043af921a76",
   "metadata": {},
   "outputs": [],
   "source": []
  },
  {
   "cell_type": "code",
   "execution_count": null,
   "id": "8040c2c3-7653-4c11-a3d9-9ed6bc26f932",
   "metadata": {},
   "outputs": [],
   "source": []
  },
  {
   "cell_type": "code",
   "execution_count": null,
   "id": "af307ef2-76cd-4b77-888b-3ea69c4b58c9",
   "metadata": {},
   "outputs": [],
   "source": []
  },
  {
   "cell_type": "code",
   "execution_count": null,
   "id": "4bc57fc9-7847-48ab-afcb-177efcfaf876",
   "metadata": {},
   "outputs": [],
   "source": []
  },
  {
   "cell_type": "code",
   "execution_count": null,
   "id": "6b3367f6-fd9a-4dd8-b18d-17c8d8510213",
   "metadata": {},
   "outputs": [],
   "source": []
  },
  {
   "cell_type": "code",
   "execution_count": null,
   "id": "597c013b-f4ff-4714-8e0a-2e524b769705",
   "metadata": {},
   "outputs": [],
   "source": []
  },
  {
   "cell_type": "code",
   "execution_count": null,
   "id": "6a9a8d69-9c3d-49b9-82a8-ed9a14a3a463",
   "metadata": {},
   "outputs": [],
   "source": []
  },
  {
   "cell_type": "code",
   "execution_count": null,
   "id": "fd1220e9-1cbc-49e0-bcbc-fdf4ad8e84f7",
   "metadata": {},
   "outputs": [],
   "source": []
  }
 ],
 "metadata": {
  "kernelspec": {
   "display_name": "Python 3 (ipykernel)",
   "language": "python",
   "name": "python3"
  },
  "language_info": {
   "codemirror_mode": {
    "name": "ipython",
    "version": 3
   },
   "file_extension": ".py",
   "mimetype": "text/x-python",
   "name": "python",
   "nbconvert_exporter": "python",
   "pygments_lexer": "ipython3",
   "version": "3.12.9"
  }
 },
 "nbformat": 4,
 "nbformat_minor": 5
}

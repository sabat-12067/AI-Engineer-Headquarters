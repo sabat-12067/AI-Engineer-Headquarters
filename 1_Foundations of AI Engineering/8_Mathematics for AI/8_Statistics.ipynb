{
 "cells": [
  {
   "cell_type": "code",
   "execution_count": null,
   "id": "790bc5a5-7947-49eb-8676-6b52599e4f03",
   "metadata": {},
   "outputs": [],
   "source": [
    "Machine Learning\n",
    "\n",
    "- statistics\n",
    "- linear algebra\n",
    "- probability\n",
    "- calculus"
   ]
  },
  {
   "cell_type": "markdown",
   "id": "37024fa1",
   "metadata": {},
   "source": [
    "# Statistics\n"
   ]
  },
  {
   "cell_type": "code",
   "execution_count": null,
   "id": "6b83cea5",
   "metadata": {},
   "outputs": [],
   "source": [
    "data science = software development + statistics (research and experimentation)\n",
    "\n",
    "AI = software development + models (LLM and ML model) + math (research)"
   ]
  },
  {
   "cell_type": "code",
   "execution_count": null,
   "id": "09d4bd42-1077-48a7-b34b-cd57edad06ca",
   "metadata": {},
   "outputs": [],
   "source": [
    "                                            statistics\n",
    "            Descriptive                                                     Inferential\n",
    "         - univariate                                                         - Hypothesis testing\n",
    "         - bivariate                                                          - model fitting\n",
    "         - multivariate\n",
    "- central tendency\n",
    "- frequency\n",
    "- despersion"
   ]
  },
  {
   "cell_type": "code",
   "execution_count": null,
   "id": "2fa744f0-33e2-4254-af28-823181360c3f",
   "metadata": {},
   "outputs": [],
   "source": [
    "                                 Data\n",
    "Qualitative                                              Quantitative\n",
    "\"I am from India\"                                         - discrete\n",
    "                                                             - number of students\n",
    "                                                             - categories\n",
    "                                                             - ratings\n",
    "                                                          - continuous\n",
    "                                                             - height (6.5)"
   ]
  },
  {
   "cell_type": "code",
   "execution_count": null,
   "id": "2f5ed35d-565e-44ae-9d7b-0450e3c5bc60",
   "metadata": {},
   "outputs": [],
   "source": [
    "1. measure of frequency -> what is the count\n",
    "2. measure of central tendency - mean, median, mode\n",
    "                               - geomatric mean -> ratio or rates\n",
    "                               - harmonic mean\n",
    "3. despersion\n",
    "            - range (max - min) -> sensitive to outliers\n",
    "            - inter quartile range - (75th percentile - 25th percentile)\n",
    "            - variance - how scattered your data is\n",
    "            - standard deviation"
   ]
  },
  {
   "cell_type": "code",
   "execution_count": null,
   "id": "d63a783a-7ec3-4521-8ff7-67aaebce0130",
   "metadata": {},
   "outputs": [],
   "source": [
    "# mean\n",
    "\n",
    "(sum of all values)/total number of values\n",
    "\n",
    "- it best represents data\n",
    "- it consider all the data points\n",
    "- discrete data - obtained by counting\n",
    "                                - number of students\n",
    "                                - number of chairs in a classroom\n",
    "                                - number of coins giving heads\n",
    "- continuous data \n",
    "                - obtained by measuring\n",
    "                - height of students\n",
    "                - weights\n",
    "                - time it takes for a session\n",
    "                - distance from class to home\n",
    "- extremely sensitive to presence of outliers"
   ]
  },
  {
   "cell_type": "code",
   "execution_count": null,
   "id": "bf78bc95-933e-4963-9188-bd685fc06745",
   "metadata": {},
   "outputs": [],
   "source": [
    "# median\n",
    "\n",
    "- arrange the data points in ascending order or decending order\n",
    "- less sensitive to outliers\n",
    "- 50% of the data is on either side of it\n",
    "- dealing with ordinal data (data with order)\n",
    "- categorical data - positive or negative reviews\n",
    "\n",
    "- decision tree - for splitting the data into 2 equal parts\n"
   ]
  },
  {
   "cell_type": "code",
   "execution_count": null,
   "id": "d53154fb-3ffc-40e6-be7b-2ec3362a540b",
   "metadata": {},
   "outputs": [],
   "source": [
    "# mode\n",
    "\n",
    "- values that occurs most\n",
    "- sentiment from a data of reviews - what is the frequency of positive reviews\n",
    "- vote in an election\n",
    "- mode is not good for continuous data\n",
    "- recommendation system - frequency of a particular genre"
   ]
  },
  {
   "cell_type": "code",
   "execution_count": null,
   "id": "033bba57-8892-46b4-9b55-9043af921a76",
   "metadata": {},
   "outputs": [],
   "source": [
    "# standard deviation\n",
    "\n",
    "- distance from a data point to mean is deviation\n",
    "- sum of all the distance from mean is standard deviation\n",
    "\n",
    "- if standard deviation is less: which means the data points are closer to mean\n",
    "- spread of data\n",
    "- feature selection - id, name - remove the columns"
   ]
  },
  {
   "cell_type": "markdown",
   "id": "fede83e5-a5dd-4d70-a0a5-8eb64cb97f58",
   "metadata": {},
   "source": [
    "# example\n",
    "\n"
   ]
  },
  {
   "cell_type": "code",
   "execution_count": 1,
   "id": "67fae738-f017-4d2c-98ad-a9362d810573",
   "metadata": {},
   "outputs": [
    {
     "name": "stdout",
     "output_type": "stream",
     "text": [
      "Collecting seaborn\n",
      "  Downloading seaborn-0.13.2-py3-none-any.whl.metadata (5.4 kB)\n",
      "Requirement already satisfied: numpy!=1.24.0,>=1.20 in /Users/him/miniconda3/lib/python3.12/site-packages (from seaborn) (2.2.5)\n",
      "Requirement already satisfied: pandas>=1.2 in /Users/him/miniconda3/lib/python3.12/site-packages (from seaborn) (2.2.3)\n",
      "Collecting matplotlib!=3.6.1,>=3.4 (from seaborn)\n",
      "  Downloading matplotlib-3.10.3-cp312-cp312-macosx_11_0_arm64.whl.metadata (11 kB)\n",
      "Collecting contourpy>=1.0.1 (from matplotlib!=3.6.1,>=3.4->seaborn)\n",
      "  Downloading contourpy-1.3.2-cp312-cp312-macosx_11_0_arm64.whl.metadata (5.5 kB)\n",
      "Collecting cycler>=0.10 (from matplotlib!=3.6.1,>=3.4->seaborn)\n",
      "  Using cached cycler-0.12.1-py3-none-any.whl.metadata (3.8 kB)\n",
      "Collecting fonttools>=4.22.0 (from matplotlib!=3.6.1,>=3.4->seaborn)\n",
      "  Downloading fonttools-4.58.0-cp312-cp312-macosx_10_13_universal2.whl.metadata (104 kB)\n",
      "Collecting kiwisolver>=1.3.1 (from matplotlib!=3.6.1,>=3.4->seaborn)\n",
      "  Downloading kiwisolver-1.4.8-cp312-cp312-macosx_11_0_arm64.whl.metadata (6.2 kB)\n",
      "Requirement already satisfied: packaging>=20.0 in /Users/him/miniconda3/lib/python3.12/site-packages (from matplotlib!=3.6.1,>=3.4->seaborn) (24.2)\n",
      "Collecting pillow>=8 (from matplotlib!=3.6.1,>=3.4->seaborn)\n",
      "  Downloading pillow-11.2.1-cp312-cp312-macosx_11_0_arm64.whl.metadata (8.9 kB)\n",
      "Collecting pyparsing>=2.3.1 (from matplotlib!=3.6.1,>=3.4->seaborn)\n",
      "  Downloading pyparsing-3.2.3-py3-none-any.whl.metadata (5.0 kB)\n",
      "Requirement already satisfied: python-dateutil>=2.7 in /Users/him/miniconda3/lib/python3.12/site-packages (from matplotlib!=3.6.1,>=3.4->seaborn) (2.9.0.post0)\n",
      "Requirement already satisfied: pytz>=2020.1 in /Users/him/miniconda3/lib/python3.12/site-packages (from pandas>=1.2->seaborn) (2025.2)\n",
      "Requirement already satisfied: tzdata>=2022.7 in /Users/him/miniconda3/lib/python3.12/site-packages (from pandas>=1.2->seaborn) (2025.2)\n",
      "Requirement already satisfied: six>=1.5 in /Users/him/miniconda3/lib/python3.12/site-packages (from python-dateutil>=2.7->matplotlib!=3.6.1,>=3.4->seaborn) (1.17.0)\n",
      "Downloading seaborn-0.13.2-py3-none-any.whl (294 kB)\n",
      "Downloading matplotlib-3.10.3-cp312-cp312-macosx_11_0_arm64.whl (8.1 MB)\n",
      "\u001b[2K   \u001b[90m━━━━━━━━━━━━━━━━━━━━━━━━━━━━━━━━━━━━━━━━\u001b[0m \u001b[32m8.1/8.1 MB\u001b[0m \u001b[31m3.8 MB/s\u001b[0m eta \u001b[36m0:00:00\u001b[0ma \u001b[36m0:00:01\u001b[0m\n",
      "Downloading contourpy-1.3.2-cp312-cp312-macosx_11_0_arm64.whl (255 kB)\n",
      "Using cached cycler-0.12.1-py3-none-any.whl (8.3 kB)\n",
      "Downloading fonttools-4.58.0-cp312-cp312-macosx_10_13_universal2.whl (2.7 MB)\n",
      "\u001b[2K   \u001b[90m━━━━━━━━━━━━━━━━━━━━━━━━━━━━━━━━━━━━━━━━\u001b[0m \u001b[32m2.7/2.7 MB\u001b[0m \u001b[31m4.2 MB/s\u001b[0m eta \u001b[36m0:00:00\u001b[0ma \u001b[36m0:00:01\u001b[0m\n",
      "\u001b[?25hDownloading kiwisolver-1.4.8-cp312-cp312-macosx_11_0_arm64.whl (65 kB)\n",
      "Downloading pillow-11.2.1-cp312-cp312-macosx_11_0_arm64.whl (3.0 MB)\n",
      "\u001b[2K   \u001b[90m━━━━━━━━━━━━━━━━━━━━━━━━━━━━━━━━━━━━━━━━\u001b[0m \u001b[32m3.0/3.0 MB\u001b[0m \u001b[31m3.9 MB/s\u001b[0m eta \u001b[36m0:00:00\u001b[0ma \u001b[36m0:00:01\u001b[0m\n",
      "\u001b[?25hDownloading pyparsing-3.2.3-py3-none-any.whl (111 kB)\n",
      "Installing collected packages: pyparsing, pillow, kiwisolver, fonttools, cycler, contourpy, matplotlib, seaborn\n",
      "Successfully installed contourpy-1.3.2 cycler-0.12.1 fonttools-4.58.0 kiwisolver-1.4.8 matplotlib-3.10.3 pillow-11.2.1 pyparsing-3.2.3 seaborn-0.13.2\n"
     ]
    }
   ],
   "source": [
    "!pip install seaborn"
   ]
  },
  {
   "cell_type": "code",
   "execution_count": 2,
   "id": "bd54d290-32e2-49ec-98fe-0ff26d88f934",
   "metadata": {},
   "outputs": [
    {
     "name": "stdout",
     "output_type": "stream",
     "text": [
      "Requirement already satisfied: matplotlib in /Users/him/miniconda3/lib/python3.12/site-packages (3.10.3)\n",
      "Requirement already satisfied: contourpy>=1.0.1 in /Users/him/miniconda3/lib/python3.12/site-packages (from matplotlib) (1.3.2)\n",
      "Requirement already satisfied: cycler>=0.10 in /Users/him/miniconda3/lib/python3.12/site-packages (from matplotlib) (0.12.1)\n",
      "Requirement already satisfied: fonttools>=4.22.0 in /Users/him/miniconda3/lib/python3.12/site-packages (from matplotlib) (4.58.0)\n",
      "Requirement already satisfied: kiwisolver>=1.3.1 in /Users/him/miniconda3/lib/python3.12/site-packages (from matplotlib) (1.4.8)\n",
      "Requirement already satisfied: numpy>=1.23 in /Users/him/miniconda3/lib/python3.12/site-packages (from matplotlib) (2.2.5)\n",
      "Requirement already satisfied: packaging>=20.0 in /Users/him/miniconda3/lib/python3.12/site-packages (from matplotlib) (24.2)\n",
      "Requirement already satisfied: pillow>=8 in /Users/him/miniconda3/lib/python3.12/site-packages (from matplotlib) (11.2.1)\n",
      "Requirement already satisfied: pyparsing>=2.3.1 in /Users/him/miniconda3/lib/python3.12/site-packages (from matplotlib) (3.2.3)\n",
      "Requirement already satisfied: python-dateutil>=2.7 in /Users/him/miniconda3/lib/python3.12/site-packages (from matplotlib) (2.9.0.post0)\n",
      "Requirement already satisfied: six>=1.5 in /Users/him/miniconda3/lib/python3.12/site-packages (from python-dateutil>=2.7->matplotlib) (1.17.0)\n"
     ]
    }
   ],
   "source": [
    "!pip install matplotlib"
   ]
  },
  {
   "cell_type": "code",
   "execution_count": null,
   "id": "af307ef2-76cd-4b77-888b-3ea69c4b58c9",
   "metadata": {},
   "outputs": [],
   "source": [
    "import numpy as np\n",
    "import pandas as pd\n",
    "import "
   ]
  },
  {
   "cell_type": "code",
   "execution_count": null,
   "id": "4bc57fc9-7847-48ab-afcb-177efcfaf876",
   "metadata": {},
   "outputs": [],
   "source": []
  },
  {
   "cell_type": "code",
   "execution_count": null,
   "id": "6b3367f6-fd9a-4dd8-b18d-17c8d8510213",
   "metadata": {},
   "outputs": [],
   "source": []
  },
  {
   "cell_type": "code",
   "execution_count": null,
   "id": "597c013b-f4ff-4714-8e0a-2e524b769705",
   "metadata": {},
   "outputs": [],
   "source": []
  },
  {
   "cell_type": "code",
   "execution_count": null,
   "id": "6a9a8d69-9c3d-49b9-82a8-ed9a14a3a463",
   "metadata": {},
   "outputs": [],
   "source": []
  },
  {
   "cell_type": "code",
   "execution_count": null,
   "id": "fd1220e9-1cbc-49e0-bcbc-fdf4ad8e84f7",
   "metadata": {},
   "outputs": [],
   "source": []
  }
 ],
 "metadata": {
  "kernelspec": {
   "display_name": "Python 3 (ipykernel)",
   "language": "python",
   "name": "python3"
  },
  "language_info": {
   "codemirror_mode": {
    "name": "ipython",
    "version": 3
   },
   "file_extension": ".py",
   "mimetype": "text/x-python",
   "name": "python",
   "nbconvert_exporter": "python",
   "pygments_lexer": "ipython3",
   "version": "3.12.9"
  }
 },
 "nbformat": 4,
 "nbformat_minor": 5
}

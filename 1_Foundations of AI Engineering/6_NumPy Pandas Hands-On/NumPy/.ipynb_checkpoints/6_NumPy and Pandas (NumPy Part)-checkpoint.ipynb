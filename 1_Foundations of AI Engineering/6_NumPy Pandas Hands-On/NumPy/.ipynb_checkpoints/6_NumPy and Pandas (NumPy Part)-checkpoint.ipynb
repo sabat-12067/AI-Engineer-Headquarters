{
 "cells": [
  {
   "cell_type": "markdown",
   "id": "3eb4e683",
   "metadata": {},
   "source": [
    "# NumPy\n",
    "\n",
    "Numeric Python"
   ]
  },
  {
   "cell_type": "code",
   "execution_count": null,
   "id": "e3a63eab-1cc0-4f8c-8210-d614389b930f",
   "metadata": {},
   "outputs": [],
   "source": [
    "list - collection of different type of elements -> [10,'goa',11.5]\n",
    "- memory allocation is not continuous          id(10), id('goa')\n",
    "\n",
    "array - collection of similar type of elements -> [10,20,30,99,16]\n",
    "                                                    0  1  2\n",
    "- memory allocation is continuous                2011, 2013, 2015, ...\n"
   ]
  },
  {
   "cell_type": "code",
   "execution_count": 1,
   "id": "6eb1a40f-a8fe-4b19-870a-66bde4e5c30e",
   "metadata": {},
   "outputs": [
    {
     "name": "stdout",
     "output_type": "stream",
     "text": [
      "Collecting numpy\n",
      "  Downloading numpy-2.2.5-cp312-cp312-macosx_14_0_arm64.whl.metadata (62 kB)\n",
      "Downloading numpy-2.2.5-cp312-cp312-macosx_14_0_arm64.whl (5.2 MB)\n",
      "\u001b[2K   \u001b[90m━━━━━━━━━━━━━━━━━━━━━━━━━━━━━━━━━━━━━━━━\u001b[0m \u001b[32m5.2/5.2 MB\u001b[0m \u001b[31m3.9 MB/s\u001b[0m eta \u001b[36m0:00:00\u001b[0ma \u001b[36m0:00:01\u001b[0m\n",
      "Installing collected packages: numpy\n",
      "Successfully installed numpy-2.2.5\n"
     ]
    }
   ],
   "source": [
    "!pip install numpy"
   ]
  },
  {
   "cell_type": "markdown",
   "id": "f99329ae",
   "metadata": {},
   "source": [
    "### 1 - Creating a vector"
   ]
  },
  {
   "cell_type": "code",
   "execution_count": 2,
   "id": "6eeb65bd-3f32-40f5-a938-45fe8071f4c9",
   "metadata": {},
   "outputs": [],
   "source": [
    "import numpy as np"
   ]
  },
  {
   "cell_type": "code",
   "execution_count": 4,
   "id": "8b6861e3-be37-401b-86a4-c862339439a3",
   "metadata": {},
   "outputs": [],
   "source": [
    "# help(np)"
   ]
  },
  {
   "cell_type": "code",
   "execution_count": 5,
   "id": "d667a800-8b9f-4491-bcd4-a3e23370ca79",
   "metadata": {},
   "outputs": [
    {
     "data": {
      "text/plain": [
       "array([1, 2, 3, 4])"
      ]
     },
     "execution_count": 5,
     "metadata": {},
     "output_type": "execute_result"
    }
   ],
   "source": [
    "v = np.array([1,2,3,4])\n",
    "\n",
    "v"
   ]
  },
  {
   "cell_type": "code",
   "execution_count": 6,
   "id": "93a1d1e7-9c52-471e-9182-db6f0ccb503e",
   "metadata": {},
   "outputs": [
    {
     "name": "stdout",
     "output_type": "stream",
     "text": [
      "<class 'numpy.ndarray'>\n"
     ]
    }
   ],
   "source": [
    "print(type(v))"
   ]
  },
  {
   "cell_type": "code",
   "execution_count": 7,
   "id": "d1e55702-b813-49ea-938c-e0154da6b1f2",
   "metadata": {},
   "outputs": [
    {
     "data": {
      "text/plain": [
       "array([[1],\n",
       "       [2],\n",
       "       [3]])"
      ]
     },
     "execution_count": 7,
     "metadata": {},
     "output_type": "execute_result"
    }
   ],
   "source": [
    "v = np.array([[1],[2],[3]])\n",
    "\n",
    "v"
   ]
  },
  {
   "cell_type": "markdown",
   "id": "5e24a9b2",
   "metadata": {},
   "source": [
    "### 2 - Matrix"
   ]
  },
  {
   "cell_type": "code",
   "execution_count": 8,
   "id": "685b7e25-f437-48c6-b7b8-3d589039489b",
   "metadata": {},
   "outputs": [
    {
     "data": {
      "text/plain": [
       "array([[1, 2, 3],\n",
       "       [4, 5, 6],\n",
       "       [7, 8, 9]])"
      ]
     },
     "execution_count": 8,
     "metadata": {},
     "output_type": "execute_result"
    }
   ],
   "source": [
    "matrix = np.array([[1,2,3],[4,5,6], [7,8,9]])\n",
    "\n",
    "matrix"
   ]
  },
  {
   "cell_type": "code",
   "execution_count": 9,
   "id": "491557e4-b6ca-468b-8f04-385eda7c515e",
   "metadata": {},
   "outputs": [
    {
     "name": "stdout",
     "output_type": "stream",
     "text": [
      "[[1 2 3]\n",
      " [4 5 6]\n",
      " [7 8 9]]\n"
     ]
    }
   ],
   "source": [
    "print(matrix)"
   ]
  },
  {
   "cell_type": "code",
   "execution_count": null,
   "id": "d7d15a66-6843-479b-9503-fe5812cf7245",
   "metadata": {},
   "outputs": [],
   "source": [
    "0th dimension ----->        .\n",
    "1st dimension ----->        ._______.\n",
    "\n",
    "2nd dimension ----->        .____|____.\n",
    "\n",
    "3rd dimension ----->.       .____|____.\n",
    "                                /\n",
    "4th dimension ----->        \n",
    ".\n",
    ".\n",
    ".\n",
    "nth dimension"
   ]
  },
  {
   "cell_type": "code",
   "execution_count": null,
   "id": "a3442a28-0581-47e3-a41c-f9e1c1218146",
   "metadata": {},
   "outputs": [],
   "source": [
    "1080px\n",
    "\n",
    "720 px"
   ]
  },
  {
   "cell_type": "code",
   "execution_count": null,
   "id": "9d8a4675-27c2-4737-9da1-d382b074be5e",
   "metadata": {},
   "outputs": [],
   "source": []
  },
  {
   "cell_type": "markdown",
   "id": "90f42aa5",
   "metadata": {},
   "source": [
    "### 3 - Describe Matrix"
   ]
  },
  {
   "cell_type": "code",
   "execution_count": 10,
   "id": "bd417073-33c1-47b9-9dc1-0c34ca85f929",
   "metadata": {},
   "outputs": [
    {
     "data": {
      "text/plain": [
       "array([[1, 2, 3],\n",
       "       [4, 5, 6],\n",
       "       [7, 8, 9]])"
      ]
     },
     "execution_count": 10,
     "metadata": {},
     "output_type": "execute_result"
    }
   ],
   "source": [
    "matrix = np.array([[1,2,3],[4,5,6], [7,8,9]])\n",
    "\n",
    "matrix"
   ]
  },
  {
   "cell_type": "code",
   "execution_count": 11,
   "id": "870d2ed1-4d15-4126-bfa2-4bbebd9c058a",
   "metadata": {},
   "outputs": [
    {
     "data": {
      "text/plain": [
       "(3, 3)"
      ]
     },
     "execution_count": 11,
     "metadata": {},
     "output_type": "execute_result"
    }
   ],
   "source": [
    "matrix.shape"
   ]
  },
  {
   "cell_type": "code",
   "execution_count": 12,
   "id": "c9fad9b6-195b-4519-a476-80448283e643",
   "metadata": {},
   "outputs": [
    {
     "data": {
      "text/plain": [
       "9"
      ]
     },
     "execution_count": 12,
     "metadata": {},
     "output_type": "execute_result"
    }
   ],
   "source": [
    "matrix.size"
   ]
  },
  {
   "cell_type": "code",
   "execution_count": 13,
   "id": "c00ef462-d5af-4561-ac39-6b2a97c3460f",
   "metadata": {},
   "outputs": [
    {
     "data": {
      "text/plain": [
       "2"
      ]
     },
     "execution_count": 13,
     "metadata": {},
     "output_type": "execute_result"
    }
   ],
   "source": [
    "matrix.ndim"
   ]
  },
  {
   "cell_type": "code",
   "execution_count": null,
   "id": "77c413b0-6e40-47e4-b6d0-67048a218353",
   "metadata": {},
   "outputs": [],
   "source": []
  },
  {
   "cell_type": "code",
   "execution_count": null,
   "id": "0b0f727d-6505-4e7d-98a9-3b587428fb2d",
   "metadata": {},
   "outputs": [],
   "source": []
  },
  {
   "cell_type": "markdown",
   "id": "f8ce1ad3",
   "metadata": {},
   "source": [
    "### 4 - Max and Min Values"
   ]
  },
  {
   "cell_type": "code",
   "execution_count": 14,
   "id": "f6279769-6884-4656-bedb-6242e323205c",
   "metadata": {},
   "outputs": [
    {
     "data": {
      "text/plain": [
       "array([[1, 2, 3],\n",
       "       [4, 5, 6],\n",
       "       [7, 8, 9]])"
      ]
     },
     "execution_count": 14,
     "metadata": {},
     "output_type": "execute_result"
    }
   ],
   "source": [
    "matrix = np.array([[1,2,3],[4,5,6], [7,8,9]])\n",
    "\n",
    "matrix"
   ]
  },
  {
   "cell_type": "code",
   "execution_count": 15,
   "id": "d75be49a-fd10-4064-9970-7dde30e7368d",
   "metadata": {},
   "outputs": [
    {
     "name": "stdout",
     "output_type": "stream",
     "text": [
      "9\n"
     ]
    }
   ],
   "source": [
    "print(np.max(matrix))"
   ]
  },
  {
   "cell_type": "code",
   "execution_count": 16,
   "id": "ac5c77b3-6bdf-498f-98b7-55417323dd50",
   "metadata": {},
   "outputs": [
    {
     "name": "stdout",
     "output_type": "stream",
     "text": [
      "1\n"
     ]
    }
   ],
   "source": [
    "print(np.min(matrix))"
   ]
  },
  {
   "cell_type": "code",
   "execution_count": 17,
   "id": "5d2ff415-6488-4d7b-b049-4656ebebd289",
   "metadata": {},
   "outputs": [
    {
     "name": "stdout",
     "output_type": "stream",
     "text": [
      "[7 8 9]\n"
     ]
    }
   ],
   "source": [
    "print(np.max(matrix, axis = 0)) # columns"
   ]
  },
  {
   "cell_type": "code",
   "execution_count": 19,
   "id": "9ed6b8a3-114d-45ab-9b8b-c17727087d6c",
   "metadata": {},
   "outputs": [
    {
     "name": "stdout",
     "output_type": "stream",
     "text": [
      "[3 6 9]\n"
     ]
    }
   ],
   "source": [
    "print(np.max(matrix, axis = 1)) # rows"
   ]
  },
  {
   "cell_type": "code",
   "execution_count": 21,
   "id": "fd5a21f9-e88b-47ee-a22b-3d3fd1c74324",
   "metadata": {
    "scrolled": true
   },
   "outputs": [],
   "source": [
    "# help(np.max)"
   ]
  },
  {
   "cell_type": "code",
   "execution_count": 22,
   "id": "7c043c9d-61b6-48e1-b827-f288cc6d8aa6",
   "metadata": {},
   "outputs": [
    {
     "name": "stdout",
     "output_type": "stream",
     "text": [
      "3\n"
     ]
    }
   ],
   "source": [
    "print(np.max(matrix, axis=1)[0])"
   ]
  },
  {
   "cell_type": "markdown",
   "id": "a7d53746",
   "metadata": {},
   "source": [
    "### 5 - Statistics"
   ]
  },
  {
   "cell_type": "code",
   "execution_count": null,
   "id": "961704dc-6325-46d0-a613-845b0658fa86",
   "metadata": {},
   "outputs": [],
   "source": [
    "1 - Descriptive - mean, median, mode, standard deviation, variance, IQR, percentile\n",
    "\n",
    "2 - Inferential - models, hypothesis testing, regression(relationship)"
   ]
  },
  {
   "cell_type": "code",
   "execution_count": 23,
   "id": "850a36ca-1bf3-431d-8230-7ecec8895433",
   "metadata": {},
   "outputs": [
    {
     "data": {
      "text/plain": [
       "array([[1, 2, 3],\n",
       "       [4, 5, 6],\n",
       "       [7, 8, 9]])"
      ]
     },
     "execution_count": 23,
     "metadata": {},
     "output_type": "execute_result"
    }
   ],
   "source": [
    "matrix = np.array([[1,2,3],[4,5,6], [7,8,9]])\n",
    "\n",
    "matrix"
   ]
  },
  {
   "cell_type": "code",
   "execution_count": 24,
   "id": "bd00d946-18b2-4b1c-8256-42016a061235",
   "metadata": {},
   "outputs": [
    {
     "name": "stdout",
     "output_type": "stream",
     "text": [
      "5.0\n"
     ]
    }
   ],
   "source": [
    "print(np.mean(matrix))"
   ]
  },
  {
   "cell_type": "code",
   "execution_count": 25,
   "id": "cd127705-6952-4620-88ed-d6da96a897a4",
   "metadata": {},
   "outputs": [
    {
     "name": "stdout",
     "output_type": "stream",
     "text": [
      "2.581988897471611\n"
     ]
    }
   ],
   "source": [
    "print(np.std(matrix))"
   ]
  },
  {
   "cell_type": "code",
   "execution_count": 26,
   "id": "f8abfba3-dc7d-4533-bd9a-9d9b9bc51ea1",
   "metadata": {},
   "outputs": [
    {
     "name": "stdout",
     "output_type": "stream",
     "text": [
      "6.666666666666667\n"
     ]
    }
   ],
   "source": [
    "print(np.var(matrix))"
   ]
  },
  {
   "cell_type": "code",
   "execution_count": null,
   "id": "1012025a-9bfb-4127-8914-cb00bed0a4d1",
   "metadata": {},
   "outputs": [],
   "source": []
  },
  {
   "cell_type": "markdown",
   "id": "a0e8f1ca",
   "metadata": {},
   "source": [
    "### 6 - Reshaping arrays"
   ]
  },
  {
   "cell_type": "code",
   "execution_count": 27,
   "id": "f5055539-f94e-4d0e-9be3-fc7ea805028f",
   "metadata": {},
   "outputs": [
    {
     "data": {
      "text/plain": [
       "array([[1, 2, 3],\n",
       "       [4, 5, 6],\n",
       "       [7, 8, 9]])"
      ]
     },
     "execution_count": 27,
     "metadata": {},
     "output_type": "execute_result"
    }
   ],
   "source": [
    "matrix = np.array([[1,2,3],[4,5,6], [7,8,9]])\n",
    "\n",
    "matrix"
   ]
  },
  {
   "cell_type": "code",
   "execution_count": 28,
   "id": "e5f0e346-5e57-4a74-ac2a-770cdacca4e4",
   "metadata": {},
   "outputs": [
    {
     "name": "stdout",
     "output_type": "stream",
     "text": [
      "[1 2 3 4 5 6 7 8 9]\n"
     ]
    }
   ],
   "source": [
    "print(matrix.reshape(9))"
   ]
  },
  {
   "cell_type": "code",
   "execution_count": 29,
   "id": "e8b428e0-215e-4531-a7f8-cbeed6e08e11",
   "metadata": {},
   "outputs": [
    {
     "name": "stdout",
     "output_type": "stream",
     "text": [
      "[[1]\n",
      " [2]\n",
      " [3]\n",
      " [4]\n",
      " [5]\n",
      " [6]\n",
      " [7]\n",
      " [8]\n",
      " [9]]\n"
     ]
    }
   ],
   "source": [
    "print(matrix.reshape(9,1))"
   ]
  },
  {
   "cell_type": "code",
   "execution_count": 30,
   "id": "ade9cd89-14fc-4f76-a811-26f3b4824a70",
   "metadata": {},
   "outputs": [
    {
     "ename": "ValueError",
     "evalue": "cannot reshape array of size 9 into shape (9,2)",
     "output_type": "error",
     "traceback": [
      "\u001b[31m---------------------------------------------------------------------------\u001b[39m",
      "\u001b[31mValueError\u001b[39m                                Traceback (most recent call last)",
      "\u001b[36mCell\u001b[39m\u001b[36m \u001b[39m\u001b[32mIn[30]\u001b[39m\u001b[32m, line 1\u001b[39m\n\u001b[32m----> \u001b[39m\u001b[32m1\u001b[39m \u001b[38;5;28mprint\u001b[39m(matrix.reshape(\u001b[32m9\u001b[39m,\u001b[32m2\u001b[39m))\n",
      "\u001b[31mValueError\u001b[39m: cannot reshape array of size 9 into shape (9,2)"
     ]
    }
   ],
   "source": [
    "print(matrix.reshape(9,2))"
   ]
  },
  {
   "cell_type": "code",
   "execution_count": 31,
   "id": "95d9b8c2-44aa-41f1-8d6d-f603db5a1e0b",
   "metadata": {},
   "outputs": [
    {
     "name": "stdout",
     "output_type": "stream",
     "text": [
      "[1 2 3 4 5 6 7 8 9]\n"
     ]
    }
   ],
   "source": [
    "print(matrix.flatten())"
   ]
  },
  {
   "cell_type": "markdown",
   "id": "2dd29496",
   "metadata": {},
   "source": [
    "\n",
    "### 7 - Selecting Elements"
   ]
  },
  {
   "cell_type": "code",
   "execution_count": 33,
   "id": "98d9adb6-9d67-4e54-8a34-b8fb4ff9364a",
   "metadata": {},
   "outputs": [
    {
     "name": "stdout",
     "output_type": "stream",
     "text": [
      "11\n"
     ]
    }
   ],
   "source": [
    "#            -7 -6 -5 -4 -3 -2 -1\n",
    "v = np.array([11,12,13,14,15,16,17])\n",
    "#            0  1  2   3  4  5  6\n",
    "\n",
    "print(v[0])"
   ]
  },
  {
   "cell_type": "code",
   "execution_count": 34,
   "id": "ca703c7a-a49c-4634-9892-6538fe3660f4",
   "metadata": {},
   "outputs": [
    {
     "name": "stdout",
     "output_type": "stream",
     "text": [
      "16\n"
     ]
    }
   ],
   "source": [
    "print(v[5])"
   ]
  },
  {
   "cell_type": "code",
   "execution_count": 35,
   "id": "72b912ed-7d1c-4615-8623-144af867c1c9",
   "metadata": {},
   "outputs": [
    {
     "name": "stdout",
     "output_type": "stream",
     "text": [
      "17\n"
     ]
    }
   ],
   "source": [
    "print(v[-1])"
   ]
  },
  {
   "cell_type": "code",
   "execution_count": 36,
   "id": "56fbf93c-c5fa-4ee9-be1d-bf8f495d5753",
   "metadata": {},
   "outputs": [
    {
     "name": "stdout",
     "output_type": "stream",
     "text": [
      "[14 15 16]\n"
     ]
    }
   ],
   "source": [
    "print(v[3:6])"
   ]
  },
  {
   "cell_type": "code",
   "execution_count": 37,
   "id": "3c049bc7-89bd-436f-ab6f-10354618d4a4",
   "metadata": {},
   "outputs": [
    {
     "name": "stdout",
     "output_type": "stream",
     "text": [
      "[13 14 15]\n"
     ]
    }
   ],
   "source": [
    "print(v[2:5])"
   ]
  },
  {
   "cell_type": "code",
   "execution_count": 38,
   "id": "97274001-3ac1-4af3-a6de-aa3741a799a4",
   "metadata": {},
   "outputs": [
    {
     "data": {
      "text/plain": [
       "array([[1, 2, 3],\n",
       "       [4, 5, 6],\n",
       "       [7, 8, 9]])"
      ]
     },
     "execution_count": 38,
     "metadata": {},
     "output_type": "execute_result"
    }
   ],
   "source": [
    "matrix = np.array([[1,2,3],[4,5,6], [7,8,9]])\n",
    "\n",
    "matrix"
   ]
  },
  {
   "cell_type": "code",
   "execution_count": null,
   "id": "5650f96d-33f1-4e30-920b-078133c8db87",
   "metadata": {},
   "outputs": [],
   "source": [
    "00  01  02\n",
    "10  11  12\n",
    "20  21  22"
   ]
  },
  {
   "cell_type": "code",
   "execution_count": 40,
   "id": "6ee6aefd-b57c-43d7-9153-6be9d2cc688b",
   "metadata": {},
   "outputs": [
    {
     "name": "stdout",
     "output_type": "stream",
     "text": [
      "1\n"
     ]
    }
   ],
   "source": [
    "print(matrix[0,0])"
   ]
  },
  {
   "cell_type": "code",
   "execution_count": 41,
   "id": "3dc31f29-e348-43e4-a3fc-22a9a19dc0b9",
   "metadata": {},
   "outputs": [
    {
     "name": "stdout",
     "output_type": "stream",
     "text": [
      "8\n"
     ]
    }
   ],
   "source": [
    "print(matrix[2,1])"
   ]
  },
  {
   "cell_type": "code",
   "execution_count": null,
   "id": "07ccc4ba-1b96-48ef-bc40-2b2a74f7fc24",
   "metadata": {},
   "outputs": [],
   "source": []
  },
  {
   "cell_type": "markdown",
   "id": "6861bcbf",
   "metadata": {},
   "source": [
    "### 8 - Random Values"
   ]
  },
  {
   "cell_type": "code",
   "execution_count": 43,
   "id": "4cc9174a-cd02-427c-8101-9cb02c862b1f",
   "metadata": {},
   "outputs": [
    {
     "data": {
      "text/plain": [
       "array([1, 0, 8, 7, 6])"
      ]
     },
     "execution_count": 43,
     "metadata": {},
     "output_type": "execute_result"
    }
   ],
   "source": [
    "np.random.randint(0,11,5)"
   ]
  },
  {
   "cell_type": "code",
   "execution_count": 45,
   "id": "c975eff7-4772-4d8f-8a2b-f51f32125af0",
   "metadata": {},
   "outputs": [
    {
     "data": {
      "text/plain": [
       "array([ 3,  7,  8,  1,  4,  1, 10,  2,  6])"
      ]
     },
     "execution_count": 45,
     "metadata": {},
     "output_type": "execute_result"
    }
   ],
   "source": [
    "np.random.randint(0,11,9)"
   ]
  },
  {
   "cell_type": "code",
   "execution_count": 47,
   "id": "ad40bea0-75d9-4b44-af8a-4b334153b759",
   "metadata": {},
   "outputs": [
    {
     "data": {
      "text/plain": [
       "array([[3, 2, 3],\n",
       "       [6, 3, 8],\n",
       "       [0, 6, 8]])"
      ]
     },
     "execution_count": 47,
     "metadata": {},
     "output_type": "execute_result"
    }
   ],
   "source": [
    "np.random.randint(0,11,9).reshape(3,3)"
   ]
  },
  {
   "cell_type": "code",
   "execution_count": 50,
   "id": "7c1fecc9-564a-41b5-b832-8a914f10ddaa",
   "metadata": {},
   "outputs": [
    {
     "data": {
      "text/plain": [
       "array([3, 6, 6])"
      ]
     },
     "execution_count": 50,
     "metadata": {},
     "output_type": "execute_result"
    }
   ],
   "source": [
    "np.random.seed(5)\n",
    "\n",
    "np.random.randint(0,11,3)"
   ]
  },
  {
   "cell_type": "code",
   "execution_count": null,
   "id": "98729c30-fa72-46de-ad12-e19522a4209a",
   "metadata": {},
   "outputs": [],
   "source": []
  },
  {
   "cell_type": "code",
   "execution_count": null,
   "id": "280ee28e-c997-448b-9202-9181d88c13bf",
   "metadata": {},
   "outputs": [],
   "source": []
  }
 ],
 "metadata": {
  "kernelspec": {
   "display_name": "Python 3 (ipykernel)",
   "language": "python",
   "name": "python3"
  },
  "language_info": {
   "codemirror_mode": {
    "name": "ipython",
    "version": 3
   },
   "file_extension": ".py",
   "mimetype": "text/x-python",
   "name": "python",
   "nbconvert_exporter": "python",
   "pygments_lexer": "ipython3",
   "version": "3.12.9"
  }
 },
 "nbformat": 4,
 "nbformat_minor": 5
}

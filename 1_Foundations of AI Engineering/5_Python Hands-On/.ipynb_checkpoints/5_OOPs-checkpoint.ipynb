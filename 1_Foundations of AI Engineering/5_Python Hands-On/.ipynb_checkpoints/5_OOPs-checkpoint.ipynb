{
 "cells": [
  {
   "cell_type": "markdown",
   "id": "e6401078-2c01-4cfa-9ba5-9cbc6053a649",
   "metadata": {},
   "source": [
    "# OOPs\n"
   ]
  },
  {
   "cell_type": "code",
   "execution_count": 1,
   "id": "969fdbb3-5452-4c56-863f-e1bb84cc87e1",
   "metadata": {},
   "outputs": [],
   "source": [
    "class Football:\n",
    "\n",
    "    def goal(self, x):       # self = f, x = 4\n",
    "        self.a = x\n",
    "        # f.a = 4\n",
    "\n",
    "    def display(self):      # self = f\n",
    "        print(self.a)\n",
    "        #       4\n",
    "\n",
    "\n",
    "f = Football()"
   ]
  },
  {
   "cell_type": "code",
   "execution_count": 2,
   "id": "1329d06c-e72d-4f09-ace3-4831055c564d",
   "metadata": {},
   "outputs": [
    {
     "ename": "NameError",
     "evalue": "name 'goal' is not defined",
     "output_type": "error",
     "traceback": [
      "\u001b[31m---------------------------------------------------------------------------\u001b[39m",
      "\u001b[31mNameError\u001b[39m                                 Traceback (most recent call last)",
      "\u001b[36mCell\u001b[39m\u001b[36m \u001b[39m\u001b[32mIn[2]\u001b[39m\u001b[32m, line 1\u001b[39m\n\u001b[32m----> \u001b[39m\u001b[32m1\u001b[39m goal()\n",
      "\u001b[31mNameError\u001b[39m: name 'goal' is not defined"
     ]
    }
   ],
   "source": [
    "goal()"
   ]
  },
  {
   "cell_type": "code",
   "execution_count": 3,
   "id": "cd59399f-676d-48e7-b2dd-8b01626bb212",
   "metadata": {},
   "outputs": [],
   "source": [
    "f.goal(4)"
   ]
  },
  {
   "cell_type": "code",
   "execution_count": 4,
   "id": "8910729b-a2f6-4595-9e9c-a44f3b5b81e0",
   "metadata": {},
   "outputs": [
    {
     "name": "stdout",
     "output_type": "stream",
     "text": [
      "4\n"
     ]
    }
   ],
   "source": [
    "f.display()"
   ]
  },
  {
   "cell_type": "code",
   "execution_count": 5,
   "id": "09d85c97-539d-449e-8ebc-9191f7022b15",
   "metadata": {},
   "outputs": [
    {
     "ename": "NameError",
     "evalue": "name 'a' is not defined",
     "output_type": "error",
     "traceback": [
      "\u001b[31m---------------------------------------------------------------------------\u001b[39m",
      "\u001b[31mNameError\u001b[39m                                 Traceback (most recent call last)",
      "\u001b[36mCell\u001b[39m\u001b[36m \u001b[39m\u001b[32mIn[5]\u001b[39m\u001b[32m, line 1\u001b[39m\n\u001b[32m----> \u001b[39m\u001b[32m1\u001b[39m \u001b[38;5;28mprint\u001b[39m(a)\n",
      "\u001b[31mNameError\u001b[39m: name 'a' is not defined"
     ]
    }
   ],
   "source": [
    "print(a)"
   ]
  },
  {
   "cell_type": "code",
   "execution_count": 6,
   "id": "a460de8b-5ca3-4854-9a04-a772e5928f5a",
   "metadata": {},
   "outputs": [
    {
     "name": "stdout",
     "output_type": "stream",
     "text": [
      "4\n"
     ]
    }
   ],
   "source": [
    "print(f.a)"
   ]
  },
  {
   "cell_type": "code",
   "execution_count": 7,
   "id": "47855ad0-9284-4ecd-95c9-f27277f8d946",
   "metadata": {},
   "outputs": [
    {
     "name": "stdout",
     "output_type": "stream",
     "text": [
      "<class 'int'>\n"
     ]
    }
   ],
   "source": [
    "b = 10\n",
    "\n",
    "print(type(b))"
   ]
  },
  {
   "cell_type": "code",
   "execution_count": 8,
   "id": "2b054e42-7414-4b91-a682-df026f47665a",
   "metadata": {},
   "outputs": [
    {
     "name": "stdout",
     "output_type": "stream",
     "text": [
      "<class '__main__.Football'>\n"
     ]
    }
   ],
   "source": [
    "print(type(f))"
   ]
  },
  {
   "cell_type": "code",
   "execution_count": 11,
   "id": "4057aefd-4d2a-4d59-9c27-99f912fbf666",
   "metadata": {},
   "outputs": [],
   "source": [
    "class Test:\n",
    "\n",
    "    def add(self):\n",
    "        print(self)\n",
    "        print(id(self))\n",
    "        print(\"Finish\")\n",
    "\n"
   ]
  },
  {
   "cell_type": "code",
   "execution_count": 12,
   "id": "3dff88f7-9957-4f03-8fa0-6cdba3450330",
   "metadata": {},
   "outputs": [
    {
     "name": "stdout",
     "output_type": "stream",
     "text": [
      "<__main__.Test object at 0x110a50860>\n",
      "4574218336\n",
      "\n",
      "<__main__.Test object at 0x110a50860>\n",
      "4574218336\n",
      "Finish\n"
     ]
    }
   ],
   "source": [
    "t = Test()\n",
    "\n",
    "print(t)\n",
    "print(id(t))\n",
    "print()\n",
    "t.add()"
   ]
  },
  {
   "cell_type": "markdown",
   "id": "7ae80d6b-f366-42e6-ab3a-02cb279f0c07",
   "metadata": {},
   "source": [
    "## local variables and class variables"
   ]
  },
  {
   "cell_type": "code",
   "execution_count": 18,
   "id": "9bccfec3-cffc-4927-873a-78f9799ca99f",
   "metadata": {},
   "outputs": [],
   "source": [
    "## global variable\n",
    "\n",
    "a = 10\n",
    "API_KEY = 'aodhskheeuihoehfbf' # chagpt \n",
    "WEATHER_API = 'hkhluewiouoqehw'\n",
    "\n",
    "def add():\n",
    "    y = 20\n",
    "    print(y)     # local variable\n",
    "    print(a)     # global variable"
   ]
  },
  {
   "cell_type": "code",
   "execution_count": 19,
   "id": "7e946ac6-b328-4235-9262-a4a0881e7257",
   "metadata": {},
   "outputs": [
    {
     "name": "stdout",
     "output_type": "stream",
     "text": [
      "20\n",
      "10\n"
     ]
    }
   ],
   "source": [
    "add()"
   ]
  },
  {
   "cell_type": "code",
   "execution_count": 20,
   "id": "2f9f2615-5182-437e-a451-ee768bdadd76",
   "metadata": {},
   "outputs": [
    {
     "ename": "NameError",
     "evalue": "name 'y' is not defined",
     "output_type": "error",
     "traceback": [
      "\u001b[31m---------------------------------------------------------------------------\u001b[39m",
      "\u001b[31mNameError\u001b[39m                                 Traceback (most recent call last)",
      "\u001b[36mCell\u001b[39m\u001b[36m \u001b[39m\u001b[32mIn[20]\u001b[39m\u001b[32m, line 1\u001b[39m\n\u001b[32m----> \u001b[39m\u001b[32m1\u001b[39m \u001b[38;5;28mprint\u001b[39m(y)\n",
      "\u001b[31mNameError\u001b[39m: name 'y' is not defined"
     ]
    }
   ],
   "source": [
    "print(y)"
   ]
  },
  {
   "cell_type": "code",
   "execution_count": 39,
   "id": "fa779368-be2f-4ea0-bc5f-4a07243415cb",
   "metadata": {},
   "outputs": [],
   "source": [
    "class Test:\n",
    "    \n",
    "    def add(self):\n",
    "        print(self)\n",
    "        print(\"This is add method\")\n",
    "\n",
    "    def sub(self, a, b):             # a and b are local variables, x and y are class variables\n",
    "        self.x = a                   # t1.x = 10, t2.x = 11\n",
    "        self.y = b                   # t1.y = 20, t2.y = 22\n",
    "\n",
    "    def show(self):\n",
    "        print(self.x)\n",
    "        print(self.y)\n"
   ]
  },
  {
   "cell_type": "code",
   "execution_count": 40,
   "id": "7e84ac5b-534b-4762-aed6-c82aab883797",
   "metadata": {},
   "outputs": [],
   "source": [
    "t1 = Test()\n",
    "t2 = Test()"
   ]
  },
  {
   "cell_type": "code",
   "execution_count": 41,
   "id": "bec4ffed-9415-4592-b1de-a4675c0e17c4",
   "metadata": {},
   "outputs": [
    {
     "name": "stdout",
     "output_type": "stream",
     "text": [
      "<__main__.Test object at 0x110e79340>\n",
      "This is add method\n",
      "<__main__.Test object at 0x110e7b890>\n",
      "This is add method\n"
     ]
    }
   ],
   "source": [
    "t1.add()\n",
    "t2.add()"
   ]
  },
  {
   "cell_type": "code",
   "execution_count": 42,
   "id": "689a5fe4-a3a4-4d8e-b5e3-c0d2df909bbe",
   "metadata": {},
   "outputs": [],
   "source": [
    "t1.sub(10,20)\n",
    "t2.sub(11,22)"
   ]
  },
  {
   "cell_type": "code",
   "execution_count": 43,
   "id": "2dd690ba-025c-4d6c-8efa-30b43c39e976",
   "metadata": {},
   "outputs": [
    {
     "name": "stdout",
     "output_type": "stream",
     "text": [
      "10\n",
      "20\n"
     ]
    }
   ],
   "source": [
    "t1.show()"
   ]
  },
  {
   "cell_type": "code",
   "execution_count": 44,
   "id": "47bc4be3-7ede-4ddb-b99a-3327b0e14b8e",
   "metadata": {},
   "outputs": [
    {
     "name": "stdout",
     "output_type": "stream",
     "text": [
      "11\n",
      "22\n"
     ]
    }
   ],
   "source": [
    "t2.show()"
   ]
  },
  {
   "cell_type": "code",
   "execution_count": 45,
   "id": "dddc8e9e-150e-44de-b6e1-435929c49af8",
   "metadata": {},
   "outputs": [
    {
     "name": "stdout",
     "output_type": "stream",
     "text": [
      "10\n",
      "11\n"
     ]
    }
   ],
   "source": [
    "print(t1.x)\n",
    "print(t2.x)"
   ]
  },
  {
   "cell_type": "code",
   "execution_count": 32,
   "id": "5ad4d098-225b-4f81-a689-2c4152ae7ee0",
   "metadata": {},
   "outputs": [
    {
     "ename": "AttributeError",
     "evalue": "'Test' object has no attribute 'a'",
     "output_type": "error",
     "traceback": [
      "\u001b[31m---------------------------------------------------------------------------\u001b[39m",
      "\u001b[31mAttributeError\u001b[39m                            Traceback (most recent call last)",
      "\u001b[36mCell\u001b[39m\u001b[36m \u001b[39m\u001b[32mIn[32]\u001b[39m\u001b[32m, line 1\u001b[39m\n\u001b[32m----> \u001b[39m\u001b[32m1\u001b[39m \u001b[38;5;28mprint\u001b[39m(t1.a)\n",
      "\u001b[31mAttributeError\u001b[39m: 'Test' object has no attribute 'a'"
     ]
    }
   ],
   "source": [
    "print(t1.a)"
   ]
  },
  {
   "cell_type": "markdown",
   "id": "7402b993-b010-43b9-b889-cb7d41956cdf",
   "metadata": {},
   "source": [
    "## Constructor\n",
    "\n",
    "constructor are special member methods of a class\n",
    "\n",
    "\n",
    "magic methods or dunders"
   ]
  },
  {
   "cell_type": "code",
   "execution_count": 46,
   "id": "88769749-8dcb-49f3-bd4a-3426454a57df",
   "metadata": {},
   "outputs": [],
   "source": [
    "# default constructor\n",
    "\n",
    "class Cat:\n",
    "\n",
    "    def __init__(self):\n",
    "        print(\"Hello from Constructor\")      # we write code which is initialization\n",
    "\n"
   ]
  },
  {
   "cell_type": "code",
   "execution_count": 47,
   "id": "9b92e6f1-ae95-4a1b-b2c0-f5552daafdca",
   "metadata": {},
   "outputs": [
    {
     "name": "stdout",
     "output_type": "stream",
     "text": [
      "Hello from Constructor\n"
     ]
    }
   ],
   "source": [
    "f = Cat()"
   ]
  },
  {
   "cell_type": "code",
   "execution_count": 48,
   "id": "b63b9d1a-a0b7-459e-b469-54b621d7da39",
   "metadata": {},
   "outputs": [],
   "source": [
    "# paramatrized constructor\n",
    "\n",
    "class Car:\n",
    "\n",
    "    def __init__(self, x):\n",
    "        self.y = x"
   ]
  },
  {
   "cell_type": "code",
   "execution_count": 49,
   "id": "2d37c917-84ce-4401-b17d-14f79f56b64f",
   "metadata": {},
   "outputs": [],
   "source": [
    "f = Car(10)    # f.__init__(f, 10)"
   ]
  },
  {
   "cell_type": "code",
   "execution_count": 50,
   "id": "517e7ab3-b015-4984-921e-c68ad8e2d1f4",
   "metadata": {},
   "outputs": [],
   "source": [
    "class Car:\n",
    "\n",
    "    def __init__(self):\n",
    "        self.name = None\n",
    "        self.customerID = None\n",
    "        self.price = None\n",
    "\n",
    "    def init(self):\n",
    "        print(self.name)"
   ]
  },
  {
   "cell_type": "code",
   "execution_count": 51,
   "id": "2f8430b9-1b3a-4573-bcbb-bd84551343d2",
   "metadata": {},
   "outputs": [],
   "source": [
    "f = Car()"
   ]
  },
  {
   "cell_type": "code",
   "execution_count": 52,
   "id": "da87746b-4099-4eb9-b256-f6a142bf3611",
   "metadata": {},
   "outputs": [
    {
     "name": "stdout",
     "output_type": "stream",
     "text": [
      "None\n"
     ]
    }
   ],
   "source": [
    "f.init()"
   ]
  },
  {
   "cell_type": "code",
   "execution_count": 53,
   "id": "bb86cb16-a8b3-409a-87c7-ea39af66d7e8",
   "metadata": {},
   "outputs": [
    {
     "name": "stdout",
     "output_type": "stream",
     "text": [
      "None\n"
     ]
    }
   ],
   "source": [
    "print(f.customerID)"
   ]
  },
  {
   "cell_type": "markdown",
   "id": "2a6f337f-5b33-4b07-90b1-f5919ad71b63",
   "metadata": {},
   "source": [
    "### question\n",
    "\n",
    "**WAP to create a class to reverse a string word by word**\n",
    "\n",
    "\"this is an apple\"\n",
    "\n",
    "\"apple an is this\""
   ]
  },
  {
   "cell_type": "code",
   "execution_count": null,
   "id": "d0bde31f-1cfa-4198-824f-3aed8d865c8f",
   "metadata": {},
   "outputs": [],
   "source": []
  },
  {
   "cell_type": "markdown",
   "id": "05271c7d-4bf7-4fa0-a4eb-82a6939d9100",
   "metadata": {},
   "source": [
    "## Inheritance\n",
    "\n",
    "1. single level\n",
    "2. multilevel\n",
    "3. hierarchical\n",
    "4. multiple\n",
    "5. hybrid"
   ]
  },
  {
   "cell_type": "markdown",
   "id": "f13291d0-6e40-4f9a-b28e-652df807bcd7",
   "metadata": {},
   "source": [
    "### single level"
   ]
  },
  {
   "cell_type": "code",
   "execution_count": null,
   "id": "213ab66f-d5b7-466a-9e9f-3dbf38e353d3",
   "metadata": {},
   "outputs": [],
   "source": [
    "A   - windows xp\n",
    "|\n",
    "B   - windows 7"
   ]
  },
  {
   "cell_type": "code",
   "execution_count": 54,
   "id": "d8b655f2-805e-4778-abc0-fa2401449692",
   "metadata": {},
   "outputs": [],
   "source": [
    "class A:                     # parent class/ super class / base class\n",
    "    \n",
    "    def add(self):\n",
    "        print(\"this is add from class A\")\n",
    "\n",
    "\n",
    "class B(A):                     # child class/ sub class / derived class\n",
    "    \n",
    "    def sub(self):\n",
    "        print(\"this is sub from class B\")"
   ]
  },
  {
   "cell_type": "code",
   "execution_count": 55,
   "id": "7573687a-356c-4c90-bd96-2f88493b6821",
   "metadata": {},
   "outputs": [
    {
     "name": "stdout",
     "output_type": "stream",
     "text": [
      "this is add from class A\n",
      "this is add from class A\n"
     ]
    }
   ],
   "source": [
    "x = A()\n",
    "y = B()\n",
    "\n",
    "x.add()\n",
    "y.add()"
   ]
  },
  {
   "cell_type": "code",
   "execution_count": 56,
   "id": "6311978e-0e02-4f16-b822-c833b8a27e04",
   "metadata": {},
   "outputs": [
    {
     "name": "stdout",
     "output_type": "stream",
     "text": [
      "this is sub from class B\n"
     ]
    }
   ],
   "source": [
    "y.sub()"
   ]
  },
  {
   "cell_type": "code",
   "execution_count": 57,
   "id": "a170533d-dd1c-49f9-9f67-2e296119a7ca",
   "metadata": {},
   "outputs": [
    {
     "ename": "AttributeError",
     "evalue": "'A' object has no attribute 'sub'",
     "output_type": "error",
     "traceback": [
      "\u001b[31m---------------------------------------------------------------------------\u001b[39m",
      "\u001b[31mAttributeError\u001b[39m                            Traceback (most recent call last)",
      "\u001b[36mCell\u001b[39m\u001b[36m \u001b[39m\u001b[32mIn[57]\u001b[39m\u001b[32m, line 1\u001b[39m\n\u001b[32m----> \u001b[39m\u001b[32m1\u001b[39m x.sub()\n",
      "\u001b[31mAttributeError\u001b[39m: 'A' object has no attribute 'sub'"
     ]
    }
   ],
   "source": [
    "x.sub()"
   ]
  },
  {
   "cell_type": "markdown",
   "id": "b4f09339-a1a0-4fb7-a2f3-e6d680132524",
   "metadata": {},
   "source": [
    "## inheritance with constructor init method"
   ]
  },
  {
   "cell_type": "code",
   "execution_count": 58,
   "id": "986ffdf5-7a76-49e7-ac4c-2cb4035f04a1",
   "metadata": {},
   "outputs": [
    {
     "name": "stdout",
     "output_type": "stream",
     "text": [
      "Init A\n",
      "Init B\n"
     ]
    }
   ],
   "source": [
    "class Windows7:\n",
    "    def __init__(self):\n",
    "        print(\"Init A\")\n",
    "\n",
    "    def add(self):\n",
    "        print(\"Add A\")\n",
    "\n",
    "class Windows10(Windows7):\n",
    "    def __init__(self):\n",
    "        print(\"Init B\")\n",
    "    def sub(self):\n",
    "        print(\"Sub B\")\n",
    "\n",
    "x = Windows7()\n",
    "y = Windows10()\n"
   ]
  },
  {
   "cell_type": "code",
   "execution_count": 59,
   "id": "01598873-b30e-45c8-8b3d-e2eee25db5eb",
   "metadata": {},
   "outputs": [
    {
     "name": "stdout",
     "output_type": "stream",
     "text": [
      "Init A\n",
      "Init A\n",
      "Init B\n"
     ]
    }
   ],
   "source": [
    "class Windows7:\n",
    "    def __init__(self):\n",
    "        print(\"Init A\")\n",
    "\n",
    "    def add(self):\n",
    "        print(\"Add A\")\n",
    "\n",
    "class Windows10(Windows7):\n",
    "    def __init__(self):\n",
    "        Windows7.__init__(self)\n",
    "        print(\"Init B\")\n",
    "    def sub(self):\n",
    "        print(\"Sub B\")\n",
    "\n",
    "x = Windows7()\n",
    "y = Windows10()\n"
   ]
  },
  {
   "cell_type": "markdown",
   "id": "e778df74-e88b-402c-bf31-eae2c10fc89b",
   "metadata": {},
   "source": [
    "## Multilevel"
   ]
  },
  {
   "cell_type": "code",
   "execution_count": null,
   "id": "b6cbe03a-72d0-4abd-8ea9-880783c98a2b",
   "metadata": {},
   "outputs": [],
   "source": [
    "A\n",
    "|\n",
    "B\n",
    "|\n",
    "C"
   ]
  },
  {
   "cell_type": "code",
   "execution_count": 60,
   "id": "e5ec49e3-e774-46fe-810c-2da7a716ebdd",
   "metadata": {},
   "outputs": [
    {
     "name": "stdout",
     "output_type": "stream",
     "text": [
      "Show C\n",
      "Sub B\n",
      "Add A\n"
     ]
    }
   ],
   "source": [
    "class A:\n",
    "    def add(self):\n",
    "        print(\"Add A\")\n",
    "\n",
    "class B(A):\n",
    "    def sub(self):\n",
    "        print(\"Sub B\")\n",
    "\n",
    "class C(B):\n",
    "    def show(self):\n",
    "        print(\"Show C\")\n",
    "\n",
    "z = C()\n",
    "z.show()\n",
    "z.sub()\n",
    "z.add()"
   ]
  },
  {
   "cell_type": "markdown",
   "id": "892ceea3-8dfd-4b00-91e0-da2e302d5797",
   "metadata": {},
   "source": [
    "## Hierarchical inheritance"
   ]
  },
  {
   "cell_type": "code",
   "execution_count": null,
   "id": "dff4f325-f88c-477f-9855-3759c58452c2",
   "metadata": {},
   "outputs": [],
   "source": [
    "    A\n",
    "B       C"
   ]
  },
  {
   "cell_type": "code",
   "execution_count": 62,
   "id": "8ec1422f-8367-4890-a9ee-119721feb959",
   "metadata": {},
   "outputs": [
    {
     "name": "stdout",
     "output_type": "stream",
     "text": [
      "Show C\n",
      "Add A\n"
     ]
    },
    {
     "ename": "AttributeError",
     "evalue": "'C' object has no attribute 'sub'",
     "output_type": "error",
     "traceback": [
      "\u001b[31m---------------------------------------------------------------------------\u001b[39m",
      "\u001b[31mAttributeError\u001b[39m                            Traceback (most recent call last)",
      "\u001b[36mCell\u001b[39m\u001b[36m \u001b[39m\u001b[32mIn[62]\u001b[39m\u001b[32m, line 16\u001b[39m\n\u001b[32m     14\u001b[39m z.show()\n\u001b[32m     15\u001b[39m z.add()\n\u001b[32m---> \u001b[39m\u001b[32m16\u001b[39m z.sub()\n",
      "\u001b[31mAttributeError\u001b[39m: 'C' object has no attribute 'sub'"
     ]
    }
   ],
   "source": [
    "class A:\n",
    "    def add(self):\n",
    "        print(\"Add A\")\n",
    "\n",
    "class B(A):\n",
    "    def sub(self):\n",
    "        print(\"Sub B\")\n",
    "\n",
    "class C(A):\n",
    "    def show(self):\n",
    "        print(\"Show C\")\n",
    "\n",
    "z = C()\n",
    "z.show()\n",
    "z.add()\n",
    "z.sub()"
   ]
  },
  {
   "cell_type": "markdown",
   "id": "3a564230-3cb5-4fd4-99e9-d4fac391f19f",
   "metadata": {},
   "source": [
    "## multiple inheritance\n",
    "\n",
    "ambiguity error\n",
    "\n",
    "\n",
    "C3 algorithm to solve this error\n",
    "\n",
    "MRO - Method Resolution Order"
   ]
  },
  {
   "cell_type": "code",
   "execution_count": null,
   "id": "218205ff-d175-4de7-bcc4-f54b95ba8fa0",
   "metadata": {},
   "outputs": [],
   "source": [
    "A     B\n",
    "   C"
   ]
  },
  {
   "cell_type": "code",
   "execution_count": 63,
   "id": "ddeb2c59-a0ad-4938-a8fe-dd9d2ad45afd",
   "metadata": {},
   "outputs": [
    {
     "name": "stdout",
     "output_type": "stream",
     "text": [
      "Add A\n"
     ]
    }
   ],
   "source": [
    "class A:\n",
    "    def add(self):\n",
    "        print(\"Add A\")\n",
    "\n",
    "class B:\n",
    "    def add(self):\n",
    "        print(\"Add B\")\n",
    "\n",
    "class C(A,B):\n",
    "    def show(self):\n",
    "        print(\"Show C\")\n",
    "\n",
    "z = C()\n",
    "z.add()"
   ]
  },
  {
   "cell_type": "code",
   "execution_count": 64,
   "id": "5e43b485-0036-40fd-8912-3a2f4e214666",
   "metadata": {},
   "outputs": [
    {
     "name": "stdout",
     "output_type": "stream",
     "text": [
      "(<class '__main__.C'>, <class '__main__.A'>, <class '__main__.B'>, <class 'object'>)\n"
     ]
    }
   ],
   "source": [
    "print(C.__mro__)"
   ]
  },
  {
   "cell_type": "code",
   "execution_count": 65,
   "id": "3a0a2a11-61ff-4ae1-808d-e060981c0886",
   "metadata": {},
   "outputs": [
    {
     "name": "stdout",
     "output_type": "stream",
     "text": [
      "Add B\n"
     ]
    }
   ],
   "source": [
    "class A:\n",
    "    def add(self):\n",
    "        print(\"Add A\")\n",
    "\n",
    "class B:\n",
    "    def add(self):\n",
    "        print(\"Add B\")\n",
    "\n",
    "class C(B,A):\n",
    "    def show(self):\n",
    "        print(\"Show C\")\n",
    "\n",
    "z = C()\n",
    "z.add()"
   ]
  },
  {
   "cell_type": "code",
   "execution_count": 66,
   "id": "04886f12-2a93-44f5-8992-8035426099af",
   "metadata": {},
   "outputs": [
    {
     "name": "stdout",
     "output_type": "stream",
     "text": [
      "(<class '__main__.C'>, <class '__main__.B'>, <class '__main__.A'>, <class 'object'>)\n"
     ]
    }
   ],
   "source": [
    "print(C.__mro__)"
   ]
  },
  {
   "cell_type": "code",
   "execution_count": 69,
   "id": "46167d93-81e6-435e-8568-496e55a9bb12",
   "metadata": {},
   "outputs": [
    {
     "name": "stdout",
     "output_type": "stream",
     "text": [
      "Help on class object in module builtins:\n",
      "\n",
      "class object\n",
      " |  The base class of the class hierarchy.\n",
      " |\n",
      " |  When called, it accepts no arguments and returns a new featureless\n",
      " |  instance that has no instance attributes and cannot be given any.\n",
      " |\n",
      " |  Built-in subclasses:\n",
      " |      anext_awaitable\n",
      " |      async_generator\n",
      " |      async_generator_asend\n",
      " |      async_generator_athrow\n",
      " |      ... and 90 other subclasses\n",
      " |\n",
      " |  Methods defined here:\n",
      " |\n",
      " |  __delattr__(self, name, /)\n",
      " |      Implement delattr(self, name).\n",
      " |\n",
      " |  __dir__(self, /)\n",
      " |      Default dir() implementation.\n",
      " |\n",
      " |  __eq__(self, value, /)\n",
      " |      Return self==value.\n",
      " |\n",
      " |  __format__(self, format_spec, /)\n",
      " |      Default object formatter.\n",
      " |\n",
      " |      Return str(self) if format_spec is empty. Raise TypeError otherwise.\n",
      " |\n",
      " |  __ge__(self, value, /)\n",
      " |      Return self>=value.\n",
      " |\n",
      " |  __getattribute__(self, name, /)\n",
      " |      Return getattr(self, name).\n",
      " |\n",
      " |  __getstate__(self, /)\n",
      " |      Helper for pickle.\n",
      " |\n",
      " |  __gt__(self, value, /)\n",
      " |      Return self>value.\n",
      " |\n",
      " |  __hash__(self, /)\n",
      " |      Return hash(self).\n",
      " |\n",
      " |  __init__(self, /, *args, **kwargs)\n",
      " |      Initialize self.  See help(type(self)) for accurate signature.\n",
      " |\n",
      " |  __le__(self, value, /)\n",
      " |      Return self<=value.\n",
      " |\n",
      " |  __lt__(self, value, /)\n",
      " |      Return self<value.\n",
      " |\n",
      " |  __ne__(self, value, /)\n",
      " |      Return self!=value.\n",
      " |\n",
      " |  __reduce__(self, /)\n",
      " |      Helper for pickle.\n",
      " |\n",
      " |  __reduce_ex__(self, protocol, /)\n",
      " |      Helper for pickle.\n",
      " |\n",
      " |  __repr__(self, /)\n",
      " |      Return repr(self).\n",
      " |\n",
      " |  __setattr__(self, name, value, /)\n",
      " |      Implement setattr(self, name, value).\n",
      " |\n",
      " |  __sizeof__(self, /)\n",
      " |      Size of object in memory, in bytes.\n",
      " |\n",
      " |  __str__(self, /)\n",
      " |      Return str(self).\n",
      " |\n",
      " |  ----------------------------------------------------------------------\n",
      " |  Class methods defined here:\n",
      " |\n",
      " |  __init_subclass__(...)\n",
      " |      This method is called when a class is subclassed.\n",
      " |\n",
      " |      The default implementation does nothing. It may be\n",
      " |      overridden to extend subclasses.\n",
      " |\n",
      " |  __subclasshook__(...)\n",
      " |      Abstract classes can override this to customize issubclass().\n",
      " |\n",
      " |      This is invoked early on by abc.ABCMeta.__subclasscheck__().\n",
      " |      It should return True, False or NotImplemented.  If it returns\n",
      " |      NotImplemented, the normal algorithm is used.  Otherwise, it\n",
      " |      overrides the normal algorithm (and the outcome is cached).\n",
      " |\n",
      " |  ----------------------------------------------------------------------\n",
      " |  Static methods defined here:\n",
      " |\n",
      " |  __new__(*args, **kwargs)\n",
      " |      Create and return a new object.  See help(type) for accurate signature.\n",
      " |\n",
      " |  ----------------------------------------------------------------------\n",
      " |  Data and other attributes defined here:\n",
      " |\n",
      " |  __class__ = <class 'type'>\n",
      " |      type(object) -> the object's type\n",
      " |      type(name, bases, dict, **kwds) -> a new type\n",
      "\n"
     ]
    }
   ],
   "source": [
    "help(object)"
   ]
  },
  {
   "cell_type": "markdown",
   "id": "687a9056-39cd-4b32-b1fb-acab55e204a8",
   "metadata": {},
   "source": [
    "## Hybrid inheritance\n",
    "\n",
    "Assignment"
   ]
  },
  {
   "cell_type": "code",
   "execution_count": null,
   "id": "dc461a8a-2426-477d-9251-79c17e1f2a2c",
   "metadata": {},
   "outputs": [],
   "source": [
    "    A\n",
    "B       C\n",
    "    D"
   ]
  },
  {
   "cell_type": "markdown",
   "id": "7ba2d27d-e8c5-414e-bd8f-0f47c42610d9",
   "metadata": {},
   "source": [
    "## Method overloading"
   ]
  },
  {
   "cell_type": "code",
   "execution_count": 71,
   "id": "45bf0626-b98b-4937-b64e-c1f5744d7b4f",
   "metadata": {},
   "outputs": [
    {
     "name": "stdout",
     "output_type": "stream",
     "text": [
      "20\n"
     ]
    }
   ],
   "source": [
    "a = 10\n",
    "a = 20\n",
    "\n",
    "print(a)"
   ]
  },
  {
   "cell_type": "code",
   "execution_count": 72,
   "id": "3436854c-69dd-44aa-9e64-3a4e01a36a01",
   "metadata": {},
   "outputs": [],
   "source": [
    "def play(a,b):\n",
    "    print(a)\n",
    "    print(b)\n",
    "\n",
    "def play(x,y,z):\n",
    "    print(x)\n",
    "    print(y)\n",
    "    print(z)"
   ]
  },
  {
   "cell_type": "code",
   "execution_count": 73,
   "id": "22ad0f48-0428-4153-a13b-93812e726f7d",
   "metadata": {},
   "outputs": [
    {
     "ename": "TypeError",
     "evalue": "play() missing 3 required positional arguments: 'x', 'y', and 'z'",
     "output_type": "error",
     "traceback": [
      "\u001b[31m---------------------------------------------------------------------------\u001b[39m",
      "\u001b[31mTypeError\u001b[39m                                 Traceback (most recent call last)",
      "\u001b[36mCell\u001b[39m\u001b[36m \u001b[39m\u001b[32mIn[73]\u001b[39m\u001b[32m, line 1\u001b[39m\n\u001b[32m----> \u001b[39m\u001b[32m1\u001b[39m play()\n",
      "\u001b[31mTypeError\u001b[39m: play() missing 3 required positional arguments: 'x', 'y', and 'z'"
     ]
    }
   ],
   "source": [
    "play()"
   ]
  },
  {
   "cell_type": "code",
   "execution_count": 74,
   "id": "bec76149-fc5a-4874-99db-e1d08e6b321e",
   "metadata": {},
   "outputs": [
    {
     "ename": "TypeError",
     "evalue": "play() missing 1 required positional argument: 'z'",
     "output_type": "error",
     "traceback": [
      "\u001b[31m---------------------------------------------------------------------------\u001b[39m",
      "\u001b[31mTypeError\u001b[39m                                 Traceback (most recent call last)",
      "\u001b[36mCell\u001b[39m\u001b[36m \u001b[39m\u001b[32mIn[74]\u001b[39m\u001b[32m, line 1\u001b[39m\n\u001b[32m----> \u001b[39m\u001b[32m1\u001b[39m play(\u001b[32m10\u001b[39m,\u001b[32m20\u001b[39m)\n",
      "\u001b[31mTypeError\u001b[39m: play() missing 1 required positional argument: 'z'"
     ]
    }
   ],
   "source": [
    "play(10,20)"
   ]
  },
  {
   "cell_type": "code",
   "execution_count": 75,
   "id": "16a664cc-ce73-4fc0-8981-216462ed6c5f",
   "metadata": {},
   "outputs": [
    {
     "name": "stdout",
     "output_type": "stream",
     "text": [
      "1\n",
      "2\n",
      "3\n"
     ]
    }
   ],
   "source": [
    "play(1,2,3)"
   ]
  },
  {
   "cell_type": "code",
   "execution_count": 76,
   "id": "08f6e45b-dcfc-4646-a107-7b0fc9ec7d44",
   "metadata": {},
   "outputs": [
    {
     "name": "stdout",
     "output_type": "stream",
     "text": [
      "<class 'function'>\n"
     ]
    }
   ],
   "source": [
    "print(type(play))"
   ]
  },
  {
   "cell_type": "code",
   "execution_count": 81,
   "id": "2b65752c-6dc9-4a75-b449-dc8c08316dbb",
   "metadata": {},
   "outputs": [
    {
     "name": "stdout",
     "output_type": "stream",
     "text": [
      "Help on function play in module __main__:\n",
      "\n",
      "play(x, y, z)\n",
      "\n"
     ]
    }
   ],
   "source": [
    "help(play)"
   ]
  },
  {
   "cell_type": "code",
   "execution_count": 86,
   "id": "540b11f4-9df3-434a-8519-bd8218a99344",
   "metadata": {},
   "outputs": [
    {
     "name": "stdout",
     "output_type": "stream",
     "text": [
      "1\n",
      "2\n",
      "indore\n"
     ]
    }
   ],
   "source": [
    "play(1,2,\"indore\")"
   ]
  },
  {
   "cell_type": "code",
   "execution_count": null,
   "id": "5c800cea-dc3b-4330-8598-61c1f87a3822",
   "metadata": {},
   "outputs": [],
   "source": []
  }
 ],
 "metadata": {
  "kernelspec": {
   "display_name": "Python 3 (ipykernel)",
   "language": "python",
   "name": "python3"
  },
  "language_info": {
   "codemirror_mode": {
    "name": "ipython",
    "version": 3
   },
   "file_extension": ".py",
   "mimetype": "text/x-python",
   "name": "python",
   "nbconvert_exporter": "python",
   "pygments_lexer": "ipython3",
   "version": "3.12.9"
  }
 },
 "nbformat": 4,
 "nbformat_minor": 5
}

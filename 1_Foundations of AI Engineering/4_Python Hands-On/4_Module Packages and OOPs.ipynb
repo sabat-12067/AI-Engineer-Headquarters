{
 "cells": [
  {
   "cell_type": "markdown",
   "id": "5928f7c9-b9cb-4c0c-94f4-483fa3dd110a",
   "metadata": {},
   "source": [
    "# Built In Modules\n",
    "\n",
    "- OS\n",
    "- sys\n",
    "- statistics\n",
    "- math\n",
    "- string\n",
    "- random"
   ]
  },
  {
   "cell_type": "code",
   "execution_count": 1,
   "id": "4d7d5fb1-1041-46e0-9caa-f534ae9296a6",
   "metadata": {},
   "outputs": [],
   "source": [
    "## os.py\n",
    "\n",
    "import os"
   ]
  },
  {
   "cell_type": "code",
   "execution_count": 3,
   "id": "f705a5a9-1fcb-4b0e-a361-aeafa35a48ea",
   "metadata": {
    "scrolled": true
   },
   "outputs": [],
   "source": [
    "# help(os)"
   ]
  },
  {
   "cell_type": "code",
   "execution_count": 4,
   "id": "9c6423ab-dd27-499e-881d-5f5f85b3b9a2",
   "metadata": {},
   "outputs": [],
   "source": [
    "# make directory/folder\n",
    "\n",
    "os.mkdir('indoreimages')"
   ]
  },
  {
   "cell_type": "code",
   "execution_count": 5,
   "id": "34b2e705-730a-426e-b65e-286578b4487e",
   "metadata": {},
   "outputs": [
    {
     "data": {
      "text/plain": [
       "'/Users/him/Documents/masterdexter/AI-Engineer-Headquarters/1_Foundations of AI Engineering/4_Python Hands-On'"
      ]
     },
     "execution_count": 5,
     "metadata": {},
     "output_type": "execute_result"
    }
   ],
   "source": [
    "## get the current working directory\n",
    "\n",
    "os.getcwd()"
   ]
  },
  {
   "cell_type": "code",
   "execution_count": 6,
   "id": "e2f8b39d-243e-4dae-b58e-817b581236cc",
   "metadata": {},
   "outputs": [],
   "source": [
    "os.rmdir('indoreimages')"
   ]
  },
  {
   "cell_type": "code",
   "execution_count": 7,
   "id": "034392b9-a302-4190-aabe-e2d10eed1fd4",
   "metadata": {},
   "outputs": [],
   "source": [
    "## sys\n",
    "\n",
    "import sys"
   ]
  },
  {
   "cell_type": "code",
   "execution_count": 12,
   "id": "5a19a644-8d22-4216-a3e2-80feb25310e2",
   "metadata": {},
   "outputs": [],
   "source": [
    "# help(sys)"
   ]
  },
  {
   "cell_type": "code",
   "execution_count": 10,
   "id": "cd514d55-1617-427e-accb-59272f591ebd",
   "metadata": {},
   "outputs": [
    {
     "data": {
      "text/plain": [
       "9223372036854775807"
      ]
     },
     "execution_count": 10,
     "metadata": {},
     "output_type": "execute_result"
    }
   ],
   "source": [
    "sys.maxsize"
   ]
  },
  {
   "cell_type": "code",
   "execution_count": 15,
   "id": "d8243e16-358a-4fd5-96ff-5f3f00585d8a",
   "metadata": {
    "scrolled": true
   },
   "outputs": [],
   "source": [
    "# help(sys.maxsize)"
   ]
  },
  {
   "cell_type": "code",
   "execution_count": 13,
   "id": "85c3e87f-f85a-4528-b7d6-e7d30430c52b",
   "metadata": {},
   "outputs": [
    {
     "data": {
      "text/plain": [
       "['/Users/him/miniconda3/lib/python312.zip',\n",
       " '/Users/him/miniconda3/lib/python3.12',\n",
       " '/Users/him/miniconda3/lib/python3.12/lib-dynload',\n",
       " '',\n",
       " '/Users/him/miniconda3/lib/python3.12/site-packages']"
      ]
     },
     "execution_count": 13,
     "metadata": {},
     "output_type": "execute_result"
    }
   ],
   "source": [
    "sys.path"
   ]
  },
  {
   "cell_type": "code",
   "execution_count": 16,
   "id": "42ce0a7b-a6ea-4e70-9b96-2dbbc5e039e8",
   "metadata": {},
   "outputs": [
    {
     "data": {
      "text/plain": [
       "'3.12.9 | packaged by Anaconda, Inc. | (main, Feb  6 2025, 12:55:12) [Clang 14.0.6 ]'"
      ]
     },
     "execution_count": 16,
     "metadata": {},
     "output_type": "execute_result"
    }
   ],
   "source": [
    "sys.version"
   ]
  },
  {
   "cell_type": "code",
   "execution_count": 17,
   "id": "5248d2ee-7023-4a93-a628-37aeb3c19fe9",
   "metadata": {},
   "outputs": [],
   "source": [
    "# statistics\n",
    "\n",
    "import statistics"
   ]
  },
  {
   "cell_type": "code",
   "execution_count": 18,
   "id": "9507b5c4-4777-487a-9e93-112e68b7c4a0",
   "metadata": {},
   "outputs": [
    {
     "data": {
      "text/plain": [
       "2.5"
      ]
     },
     "execution_count": 18,
     "metadata": {},
     "output_type": "execute_result"
    }
   ],
   "source": [
    "statistics.mean([1,2,3,4])"
   ]
  },
  {
   "cell_type": "code",
   "execution_count": 19,
   "id": "eec7b41d-2fd9-4ff5-ae08-261f309d4929",
   "metadata": {},
   "outputs": [
    {
     "name": "stdout",
     "output_type": "stream",
     "text": [
      "27.375\n"
     ]
    }
   ],
   "source": [
    "from statistics import *\n",
    "\n",
    "ages = [20,10,4,25,26,88,21,25]\n",
    "\n",
    "print(mean(ages))"
   ]
  },
  {
   "cell_type": "code",
   "execution_count": 20,
   "id": "5d7017ab-f066-4a6a-94f6-7d25bfe29b8e",
   "metadata": {},
   "outputs": [
    {
     "name": "stdout",
     "output_type": "stream",
     "text": [
      "23.0\n"
     ]
    }
   ],
   "source": [
    "print(median(ages))"
   ]
  },
  {
   "cell_type": "code",
   "execution_count": 21,
   "id": "00a4010e-a771-4d53-89f8-f7e11009ff82",
   "metadata": {},
   "outputs": [
    {
     "name": "stdout",
     "output_type": "stream",
     "text": [
      "25\n"
     ]
    }
   ],
   "source": [
    "print(mode(ages))"
   ]
  },
  {
   "cell_type": "code",
   "execution_count": 22,
   "id": "dbaf09a4-da89-4038-b498-808c886be02a",
   "metadata": {},
   "outputs": [
    {
     "name": "stdout",
     "output_type": "stream",
     "text": [
      "25.723460664759486\n"
     ]
    }
   ],
   "source": [
    "print(stdev(ages))"
   ]
  },
  {
   "cell_type": "code",
   "execution_count": 23,
   "id": "0bf723b3-3566-4b69-a449-ab03b50755ba",
   "metadata": {},
   "outputs": [
    {
     "name": "stdout",
     "output_type": "stream",
     "text": [
      "3.141592653589793\n"
     ]
    }
   ],
   "source": [
    "# math\n",
    "\n",
    "import math\n",
    "\n",
    "print(math.pi)"
   ]
  },
  {
   "cell_type": "code",
   "execution_count": 24,
   "id": "3f323909-92d2-4e5d-bacb-b326bf4fe976",
   "metadata": {},
   "outputs": [
    {
     "name": "stdout",
     "output_type": "stream",
     "text": [
      "1.4142135623730951\n"
     ]
    }
   ],
   "source": [
    "print(math.sqrt(2))"
   ]
  },
  {
   "cell_type": "code",
   "execution_count": 25,
   "id": "538853fc-3987-44c8-a58d-2f14038d516a",
   "metadata": {},
   "outputs": [
    {
     "name": "stdout",
     "output_type": "stream",
     "text": [
      "8.0\n"
     ]
    }
   ],
   "source": [
    "print(math.pow(2,3))"
   ]
  },
  {
   "cell_type": "code",
   "execution_count": 26,
   "id": "763b3758-cbf6-48c5-a914-776cd6bf557b",
   "metadata": {},
   "outputs": [
    {
     "name": "stdout",
     "output_type": "stream",
     "text": [
      "2.0\n"
     ]
    }
   ],
   "source": [
    "from math import pi, sqrt, floor\n",
    "\n",
    "print(sqrt(4))"
   ]
  },
  {
   "cell_type": "code",
   "execution_count": 27,
   "id": "766d6ee5-1240-4e80-ba5a-0a5aa3914e6b",
   "metadata": {},
   "outputs": [
    {
     "name": "stdout",
     "output_type": "stream",
     "text": [
      "3.141592653589793\n"
     ]
    }
   ],
   "source": [
    "print(pi)"
   ]
  },
  {
   "cell_type": "code",
   "execution_count": 28,
   "id": "8c42e227-2f9f-4fc5-b4e9-714f66e71c07",
   "metadata": {},
   "outputs": [
    {
     "name": "stdout",
     "output_type": "stream",
     "text": [
      "0.6136023996972596\n"
     ]
    }
   ],
   "source": [
    "# random\n",
    "\n",
    "from random import random, randint\n",
    "\n",
    "print(random())"
   ]
  },
  {
   "cell_type": "code",
   "execution_count": 29,
   "id": "e658d7a0-5276-4d0f-a738-84deb635950f",
   "metadata": {},
   "outputs": [
    {
     "name": "stdout",
     "output_type": "stream",
     "text": [
      "0.18943525550581009\n"
     ]
    }
   ],
   "source": [
    "print(random())"
   ]
  },
  {
   "cell_type": "code",
   "execution_count": 30,
   "id": "135f811d-97f1-4ff9-96f2-c79797e2ca33",
   "metadata": {},
   "outputs": [
    {
     "name": "stdout",
     "output_type": "stream",
     "text": [
      "0.2515409560641019\n"
     ]
    }
   ],
   "source": [
    "print(random())"
   ]
  },
  {
   "cell_type": "code",
   "execution_count": 31,
   "id": "877728b3-028c-40f5-be15-43bb42bc9a44",
   "metadata": {},
   "outputs": [
    {
     "ename": "TypeError",
     "evalue": "Random.randint() missing 2 required positional arguments: 'a' and 'b'",
     "output_type": "error",
     "traceback": [
      "\u001b[31m---------------------------------------------------------------------------\u001b[39m",
      "\u001b[31mTypeError\u001b[39m                                 Traceback (most recent call last)",
      "\u001b[36mCell\u001b[39m\u001b[36m \u001b[39m\u001b[32mIn[31]\u001b[39m\u001b[32m, line 1\u001b[39m\n\u001b[32m----> \u001b[39m\u001b[32m1\u001b[39m \u001b[38;5;28mprint\u001b[39m(randint())\n",
      "\u001b[31mTypeError\u001b[39m: Random.randint() missing 2 required positional arguments: 'a' and 'b'"
     ]
    }
   ],
   "source": [
    "print(randint())"
   ]
  },
  {
   "cell_type": "code",
   "execution_count": 32,
   "id": "b49951d4-15c2-44d8-b1a3-10e00b6469cb",
   "metadata": {},
   "outputs": [
    {
     "name": "stdout",
     "output_type": "stream",
     "text": [
      "18\n"
     ]
    }
   ],
   "source": [
    "print(randint(5,20))"
   ]
  },
  {
   "cell_type": "code",
   "execution_count": 34,
   "id": "d4238efa-ffc8-4a4a-b543-f2dbad45f29f",
   "metadata": {},
   "outputs": [
    {
     "ename": "TypeError",
     "evalue": "Random.randint() takes 3 positional arguments but 4 were given",
     "output_type": "error",
     "traceback": [
      "\u001b[31m---------------------------------------------------------------------------\u001b[39m",
      "\u001b[31mTypeError\u001b[39m                                 Traceback (most recent call last)",
      "\u001b[36mCell\u001b[39m\u001b[36m \u001b[39m\u001b[32mIn[34]\u001b[39m\u001b[32m, line 1\u001b[39m\n\u001b[32m----> \u001b[39m\u001b[32m1\u001b[39m \u001b[38;5;28mprint\u001b[39m(randint(\u001b[32m5\u001b[39m,\u001b[32m20\u001b[39m,\u001b[32m3\u001b[39m))\n",
      "\u001b[31mTypeError\u001b[39m: Random.randint() takes 3 positional arguments but 4 were given"
     ]
    }
   ],
   "source": [
    "print(randint(5,20,3))"
   ]
  },
  {
   "cell_type": "code",
   "execution_count": 35,
   "id": "40c9556e-3862-44ba-97d7-0d733e0004e3",
   "metadata": {},
   "outputs": [
    {
     "name": "stdout",
     "output_type": "stream",
     "text": [
      "Help on method randint in module random:\n",
      "\n",
      "randint(a, b) method of random.Random instance\n",
      "    Return random integer in range [a, b], including both end points.\n",
      "\n"
     ]
    }
   ],
   "source": [
    "help(randint)"
   ]
  },
  {
   "cell_type": "code",
   "execution_count": 36,
   "id": "fa85a330-03a7-458c-9792-492fabe94aa9",
   "metadata": {},
   "outputs": [
    {
     "name": "stdout",
     "output_type": "stream",
     "text": [
      "Indore is the Best City in India\n"
     ]
    }
   ],
   "source": [
    "!python main.py"
   ]
  },
  {
   "cell_type": "markdown",
   "id": "0927d5f9-23cd-41d3-a9a8-53646dfbd8af",
   "metadata": {},
   "source": [
    "# OOP\n",
    "\n",
    "Object oriented programming\n",
    "\n",
    "7 properties\n",
    "\n",
    "1. Class - updated version of structure, collection of variables and methods(function). class is a blueprint\n",
    "\n",
    "2. Object - run time or real time entity. hash code (java), id(python), cpp (virtual code)\n",
    "\n",
    "3. abstraction - showing only essential features without showing any background details\n",
    "   encapsulation - wrapping up of data in a single unit\n",
    "\n",
    "4. inheritance - acquiring properties of one class into another. (reuse the code)\n",
    "   single level, multilevel, hierarchical, multiple, hybrid\n",
    "\n",
    "5. polymorshism - same name multiple functionalities. (method overloading, method overriding)\n",
    "\n",
    "6. dynamic memory allocation - run time memory allocation/late binding/dynamic binding\n",
    "\n",
    "7. message passing - communication between objects"
   ]
  },
  {
   "cell_type": "code",
   "execution_count": null,
   "id": "82106daa-53e8-40cd-aaab-fbdc2c34b9f2",
   "metadata": {},
   "outputs": [],
   "source": [
    "c programming\n",
    "\n",
    "int a = 10;\n",
    "\n",
    "struct customer{\n",
    "    int customerID;  # 2 bytes\n",
    "    char name[20];   # 20 bytes\n",
    "    float price;     # 4 bytes\n",
    "}\n",
    "\n",
    "struct customer dheeraj;  # 26 bytes\n",
    "struct customer raj;      # 26 bytes"
   ]
  },
  {
   "cell_type": "code",
   "execution_count": null,
   "id": "83788360-5b5f-4ca8-bedb-7f5ce9bb5992",
   "metadata": {},
   "outputs": [],
   "source": [
    "Smart TV                      # class\n",
    "- bluetooth\n",
    "- led\n",
    "- wifi access\n",
    "- amazon price and other OTT platform\n",
    "\n",
    "\n",
    "Actual Smart TV (built it)    # object\n",
    "- physical world\n",
    "- id (product id)\n",
    "\n",
    "Remote                        # variable\n",
    "- variable\n",
    "- referance to that object"
   ]
  },
  {
   "cell_type": "code",
   "execution_count": null,
   "id": "9a6de426-7c0a-4aa4-b770-b158680128f2",
   "metadata": {},
   "outputs": [],
   "source": [
    "windows 7  - start\n",
    "windows 11 - start"
   ]
  },
  {
   "cell_type": "code",
   "execution_count": null,
   "id": "5969ad85-10d1-4ac7-a783-a8dadd7dd6d7",
   "metadata": {},
   "outputs": [],
   "source": [
    "bits > numbers >characters > instructions > functions > class > module > packages > library > framework > Software"
   ]
  },
  {
   "cell_type": "code",
   "execution_count": 38,
   "id": "d5e0f622-1b91-4522-b12f-519c7e7d822c",
   "metadata": {},
   "outputs": [
    {
     "name": "stdout",
     "output_type": "stream",
     "text": [
      "<class 'int'>\n",
      "4336182048\n",
      "4336182048\n"
     ]
    }
   ],
   "source": [
    "a = 10\n",
    "\n",
    "print(type(a))\n",
    "\n",
    "print(id(a))\n",
    "\n",
    "print(id(10))"
   ]
  },
  {
   "cell_type": "code",
   "execution_count": 40,
   "id": "e98366f0-2f5e-4094-bf53-12d48b67f475",
   "metadata": {},
   "outputs": [],
   "source": [
    "# help(int)"
   ]
  },
  {
   "cell_type": "code",
   "execution_count": 41,
   "id": "4fbeef6f-6a24-43bf-8f5c-6d8d8e9f9b66",
   "metadata": {},
   "outputs": [
    {
     "name": "stdout",
     "output_type": "stream",
     "text": [
      "<class 'int'>\n",
      "4336182368\n"
     ]
    }
   ],
   "source": [
    "b = 20\n",
    "\n",
    "print(type(b))\n",
    "\n",
    "print(id(b))"
   ]
  },
  {
   "cell_type": "code",
   "execution_count": 42,
   "id": "4cb3ccbd-80c7-41b4-8f73-8fc693c0cc03",
   "metadata": {},
   "outputs": [
    {
     "name": "stdout",
     "output_type": "stream",
     "text": [
      "<class 'str'>\n"
     ]
    }
   ],
   "source": [
    "c = 'goa'\n",
    "\n",
    "print(type(c))"
   ]
  },
  {
   "cell_type": "code",
   "execution_count": 43,
   "id": "eabff44a-a0ad-4f70-82d3-a60ada83888e",
   "metadata": {},
   "outputs": [
    {
     "name": "stdout",
     "output_type": "stream",
     "text": [
      "4708536784\n"
     ]
    }
   ],
   "source": [
    "print(id(c))"
   ]
  },
  {
   "cell_type": "code",
   "execution_count": 44,
   "id": "b9a0c152-b3f0-4acf-8eef-89b62ac9b734",
   "metadata": {},
   "outputs": [],
   "source": [
    "\n",
    "class Cricket:\n",
    "\n",
    "    def bat():\n",
    "        print(\"Batting\")\n",
    "\n"
   ]
  },
  {
   "cell_type": "code",
   "execution_count": 45,
   "id": "191ebc66-58c7-45d9-ace4-71e2572fbe53",
   "metadata": {},
   "outputs": [],
   "source": [
    "c = Cricket()"
   ]
  },
  {
   "cell_type": "code",
   "execution_count": 46,
   "id": "690eb160-adda-47bf-af49-965dc83a7b10",
   "metadata": {},
   "outputs": [
    {
     "ename": "TypeError",
     "evalue": "Cricket.bat() takes 0 positional arguments but 1 was given",
     "output_type": "error",
     "traceback": [
      "\u001b[31m---------------------------------------------------------------------------\u001b[39m",
      "\u001b[31mTypeError\u001b[39m                                 Traceback (most recent call last)",
      "\u001b[36mCell\u001b[39m\u001b[36m \u001b[39m\u001b[32mIn[46]\u001b[39m\u001b[32m, line 1\u001b[39m\n\u001b[32m----> \u001b[39m\u001b[32m1\u001b[39m c.bat()\n",
      "\u001b[31mTypeError\u001b[39m: Cricket.bat() takes 0 positional arguments but 1 was given"
     ]
    }
   ],
   "source": [
    "c.bat()"
   ]
  },
  {
   "cell_type": "code",
   "execution_count": null,
   "id": "fe9272e1-2c69-4f85-bbf5-68ca936cf424",
   "metadata": {},
   "outputs": [],
   "source": [
    "# self -> current object"
   ]
  },
  {
   "cell_type": "code",
   "execution_count": 47,
   "id": "de27481b-58f6-4952-8205-2e31a8765c6c",
   "metadata": {},
   "outputs": [
    {
     "name": "stdout",
     "output_type": "stream",
     "text": [
      "Batting\n",
      "Batting\n"
     ]
    }
   ],
   "source": [
    "\n",
    "class Cricket:\n",
    "\n",
    "    def bat(self):            # self = c\n",
    "        print(\"Batting\")\n",
    "\n",
    "\n",
    "c = Cricket()\n",
    "c.bat()\n",
    "\n",
    "f = Cricket()\n",
    "f.bat()"
   ]
  },
  {
   "cell_type": "code",
   "execution_count": 48,
   "id": "60f18c16-bc83-4228-a8a3-93e467d85a46",
   "metadata": {},
   "outputs": [
    {
     "name": "stdout",
     "output_type": "stream",
     "text": [
      "<__main__.Cricket object at 0x118b08830>\n"
     ]
    }
   ],
   "source": [
    "print(c)"
   ]
  },
  {
   "cell_type": "code",
   "execution_count": 49,
   "id": "d7414b18-4db9-4d30-bf1c-dd64b06dd08a",
   "metadata": {},
   "outputs": [
    {
     "name": "stdout",
     "output_type": "stream",
     "text": [
      "4709189680\n"
     ]
    }
   ],
   "source": [
    "print(id(c))"
   ]
  },
  {
   "cell_type": "code",
   "execution_count": 50,
   "id": "70a33679-13e2-4432-91e8-4d22d099043a",
   "metadata": {},
   "outputs": [
    {
     "name": "stdout",
     "output_type": "stream",
     "text": [
      "<__main__.Cricket object at 0x118ac38f0>\n"
     ]
    }
   ],
   "source": [
    "print(f)"
   ]
  },
  {
   "cell_type": "code",
   "execution_count": 51,
   "id": "980e403c-c1b5-45bc-b882-bcd5e0c1a88c",
   "metadata": {},
   "outputs": [
    {
     "name": "stdout",
     "output_type": "stream",
     "text": [
      "4708907248\n"
     ]
    }
   ],
   "source": [
    "print(id(f))"
   ]
  },
  {
   "cell_type": "code",
   "execution_count": 52,
   "id": "86073345-3876-40b9-8a37-31c2b0e35d0f",
   "metadata": {},
   "outputs": [
    {
     "name": "stdout",
     "output_type": "stream",
     "text": [
      "<__main__.Cricket object at 0x118ac3830>\n"
     ]
    }
   ],
   "source": [
    "print(Cricket())"
   ]
  },
  {
   "cell_type": "code",
   "execution_count": 53,
   "id": "d222a65e-0cb3-4848-8404-d0d5a5492a97",
   "metadata": {},
   "outputs": [
    {
     "name": "stdout",
     "output_type": "stream",
     "text": [
      "Batting\n"
     ]
    }
   ],
   "source": [
    "Cricket().bat()"
   ]
  },
  {
   "cell_type": "code",
   "execution_count": null,
   "id": "14219cdf-13be-469f-a9d6-31959d3e3b07",
   "metadata": {},
   "outputs": [],
   "source": []
  }
 ],
 "metadata": {
  "kernelspec": {
   "display_name": "Python 3 (ipykernel)",
   "language": "python",
   "name": "python3"
  },
  "language_info": {
   "codemirror_mode": {
    "name": "ipython",
    "version": 3
   },
   "file_extension": ".py",
   "mimetype": "text/x-python",
   "name": "python",
   "nbconvert_exporter": "python",
   "pygments_lexer": "ipython3",
   "version": "3.12.9"
  }
 },
 "nbformat": 4,
 "nbformat_minor": 5
}
